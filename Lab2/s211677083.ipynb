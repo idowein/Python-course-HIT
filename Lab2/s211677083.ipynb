{
  "cells": [
    {
      "cell_type": "markdown",
      "id": "279ead12",
      "metadata": {
        "id": "279ead12"
      },
      "source": [
        "# Experiment 4 - Revised Markdown Examples"
      ]
    },
    {
      "cell_type": "markdown",
      "id": "967f2dd0",
      "metadata": {
        "id": "967f2dd0"
      },
      "source": [
        "\n",
        "## Question 1\n",
        "\n",
        "Create a function named 'Ex1', which asks for your name and age using `input()`. Calculate how many years are left until you reach the age of retirement (65 years) and determine the exact year of retirement.\n",
        "\n",
        "At the end, the program should print the **exact** following format **(in multiple lines)**, for example:\n",
        "\n",
        "- Your name is `Danny`.\n",
        "- Your age is `27` years old.\n",
        "- You will retire in `2062`.\n",
        "\n",
        "Notes:\n",
        "1. Make sure the printed format corresponds with the given example.\n",
        "2. The `input()` function returns str object, so to change to it integer use `int()`.\n",
        "3. Use the current year to determine the retirement year.\n"
      ]
    },
    {
      "cell_type": "code",
      "execution_count": 8,
      "id": "fb86652a",
      "metadata": {
        "id": "fb86652a"
      },
      "outputs": [],
      "source": [
        "#Exe 1 - answer here!\n",
        "def Ex1():\n",
        "    # Write your code here\n",
        "    name = input(\"Please enter your name: \")\n",
        "    age = int(input(\"Please enter your age: \"))\n",
        "    retirememnt_year = 2025 - age + 65\n",
        "    print(\"Your name is {}\".format(name))\n",
        "    print(\"Your age is {}\".format(age))\n",
        "    print(\"You will retire in {}\".format(retirememnt_year))"
      ]
    },
    {
      "cell_type": "code",
      "execution_count": 9,
      "id": "730996d3",
      "metadata": {
        "id": "730996d3",
        "colab": {
          "base_uri": "https://localhost:8080/"
        },
        "outputId": "e720a5bd-caf9-4ea1-a399-593e7dc3f4ee"
      },
      "outputs": [
        {
          "output_type": "stream",
          "name": "stdout",
          "text": [
            "Please enter your name: Ido\n",
            "Please enter your age: 24\n",
            "Your name is Ido\n",
            "Your age is 24\n",
            "You will retire in 2066\n"
          ]
        }
      ],
      "source": [
        "# Function Call - Test your function.\n",
        "Ex1()"
      ]
    },
    {
      "cell_type": "markdown",
      "id": "36767c34",
      "metadata": {
        "id": "36767c34"
      },
      "source": [
        "\n",
        "## Question 2\n",
        "\n",
        "Write the function `QuadRoots` that calculates solutions of a quadratic equation of the form:\n",
        "\\begin{align}ax^2+bx+c=0\\end{align}\n",
        "\n",
        "\n",
        "The function should receive three coefficients $a$, $b$ and $c$.\n",
        "\n",
        "The formula for finding the roots:\n",
        "\n",
        "\\begin{align}\n",
        "          x_{1,2} =\\frac{-b\\pm\\sqrt{b^2-4ac} }{2a}\n",
        "    \\end{align}\n",
        "\n",
        "There are special cases where there is one solution to the equation or there are no solutions at all:\n",
        "*   $b^2-4ac<0$ : No solutions.\n",
        "*   $b^2-4ac=0$ : One solution - $x=\\frac{-b}{2a}$.\n",
        "*   $b^2-4ac>0$ : Two solutions - the complete solution.\n",
        "\n",
        "The function should return a **tuple** containing:\n",
        "* One/Two real roots (if they exist).\n",
        "* Or the message: 'There is no solution to the equation'.\n",
        "\n",
        "**Note**: You can use the discriminant \\( b^2 - 4ac \\) to determine the nature of the roots.\n",
        "\n",
        "> **Examples**:\n",
        "1.   For $a=1, b=-6, c=1$ the function should return: `(5.82, 0.17)`.\n",
        "2.   For $a=1, b=0, c=2$ the function should return: `(\"There is no solution to the equation\",)`.\n"
      ]
    },
    {
      "cell_type": "code",
      "execution_count": 26,
      "id": "5fe572c5",
      "metadata": {
        "id": "5fe572c5"
      },
      "outputs": [],
      "source": [
        "def QuadraticRoots(a, b, c):\n",
        "    # Write your code here\n",
        "    discriminant = (pow(b, 2)-4*a*c)\n",
        "    if (discriminant<0):\n",
        "      solution = (\"There is no solution to the equation\")\n",
        "    elif (discriminant == 0):\n",
        "      solution = (-b/(2*a))\n",
        "    else:\n",
        "      x1 = (-b + pow(discriminant, 0.5))/(2*a)\n",
        "      x2 = (-b - pow(discriminant, 0.5))/(2*a)\n",
        "      solution = (x1, x2)\n",
        "    return solution"
      ]
    },
    {
      "cell_type": "code",
      "execution_count": 27,
      "id": "534e067b",
      "metadata": {
        "id": "534e067b",
        "colab": {
          "base_uri": "https://localhost:8080/"
        },
        "outputId": "f7f05800-68c3-4979-fe96-115db7c2e85b"
      },
      "outputs": [
        {
          "output_type": "stream",
          "name": "stdout",
          "text": [
            "There is no solution to the equation\n"
          ]
        }
      ],
      "source": [
        "result = QuadraticRoots(3, -1, 3) # Check your function call\n",
        "print(result)"
      ]
    },
    {
      "cell_type": "markdown",
      "id": "626ea804",
      "metadata": {
        "id": "626ea804"
      },
      "source": [
        "\n",
        "## Question 3\n",
        "\n",
        "Write the function `ListAverage` that receives:\n",
        "\n",
        "1. A list of numbers (int or float).\n",
        "2. \\( num \\) - an additional argument.\n",
        "\n",
        "The function should return the average of all the list numbers that are less than \\( num \\).\n",
        "\n",
        "If there are no such numbers (or if the list is empty) the function should return -1.\n",
        "\n",
        "**Note**:\n",
        "*   It can be assumed that the list contains only numbers (float/int).\n",
        "\n",
        "**Example**:\n",
        "For the list `A=[2.5, 3.5, 5.5, 7.5, 9.5]` and `num=6`, the function should return the average value of 3.8333333333333335 for numbers less than 6.\n"
      ]
    },
    {
      "cell_type": "code",
      "execution_count": 33,
      "id": "510d7997",
      "metadata": {
        "id": "510d7997"
      },
      "outputs": [],
      "source": [
        "def ListAverage(input_list, num):\n",
        "    # Write your code here\n",
        "\n",
        "    # Filter the numbers that are less than 'num'\n",
        "    filtered_numbers = [x for x in input_list if x < num]\n",
        "\n",
        "    # If there are no numbers less than 'num', return -1\n",
        "    if not filtered_numbers:\n",
        "        return -1\n",
        "\n",
        "    # Calculate the average of the filtered numbers\n",
        "    return sum(filtered_numbers) / len(filtered_numbers)"
      ]
    },
    {
      "cell_type": "code",
      "execution_count": 34,
      "id": "1f70a337",
      "metadata": {
        "id": "1f70a337",
        "colab": {
          "base_uri": "https://localhost:8080/"
        },
        "outputId": "e69b1fbb-06b5-4928-85b6-fd68252979a6"
      },
      "outputs": [
        {
          "output_type": "stream",
          "name": "stdout",
          "text": [
            "3.8333333333333335\n"
          ]
        }
      ],
      "source": [
        "A=[2.5, 3.5, 5.5, 7.5, 9.5]\n",
        "result = ListAverage(A, 6) # Check your function call\n",
        "print(result)"
      ]
    },
    {
      "cell_type": "markdown",
      "id": "b4eddd9b",
      "metadata": {
        "id": "b4eddd9b"
      },
      "source": [
        "\n",
        "## Question 4\n",
        "\n",
        "Write the function `SumEven` that receives:\n",
        "\n",
        "1. A list of numbers (int).\n",
        "\n",
        "The function should return the sum of all even numbers in the list.\n",
        "\n",
        "**Example**:\n",
        "1. For `A=[1, 2, 3, 4, 5, 6, 10]`, the return value should be: `22`\n",
        "2. For `A=[11, 22, 33, 16, 8]`, the return value should be: `46`\n"
      ]
    },
    {
      "cell_type": "code",
      "execution_count": 41,
      "id": "0dc6fa80",
      "metadata": {
        "id": "0dc6fa80"
      },
      "outputs": [],
      "source": [
        "def SumEven(list_numbers):\n",
        "    # Write your code here\n",
        "\n",
        "    # Filter the even numbers and calculate their sum\n",
        "    return sum(x for x in list_numbers if x % 2 == 0)"
      ]
    },
    {
      "cell_type": "code",
      "execution_count": 42,
      "id": "26633fb4",
      "metadata": {
        "id": "26633fb4",
        "colab": {
          "base_uri": "https://localhost:8080/"
        },
        "outputId": "8121c4a1-d764-4e0f-8161-64d191ff1b49"
      },
      "outputs": [
        {
          "output_type": "stream",
          "name": "stdout",
          "text": [
            "46\n"
          ]
        }
      ],
      "source": [
        "A=[11, 22, 33, 16, 8]\n",
        "result = SumEven(A) # Check your function call\n",
        "print(result)"
      ]
    }
  ],
  "metadata": {
    "colab": {
      "provenance": []
    },
    "language_info": {
      "name": "python"
    },
    "kernelspec": {
      "name": "python3",
      "display_name": "Python 3"
    }
  },
  "nbformat": 4,
  "nbformat_minor": 5
}