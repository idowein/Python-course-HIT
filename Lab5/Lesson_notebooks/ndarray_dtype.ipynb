{
  "cells": [
    {
      "cell_type": "markdown",
      "metadata": {
        "id": "UmJslYH5gO5g"
      },
      "source": [
        "# Datatypes"
      ],
      "id": "UmJslYH5gO5g"
    },
    {
      "cell_type": "markdown",
      "source": [
        "Every numpy array is a grid of elements of the same type. Numpy provides a large set of numeric datatypes that you can use to construct arrays. Numpy tries to guess a datatype when you create an array, but functions that construct arrays usually also include an optional argument to explicitly specify the datatype. Here is an example:"
      ],
      "metadata": {
        "id": "kQGHY6Aezgsb"
      },
      "id": "kQGHY6Aezgsb"
    },
    {
      "cell_type": "code",
      "source": [
        "import numpy as np"
      ],
      "metadata": {
        "id": "8LTM2MNR9BTJ"
      },
      "id": "8LTM2MNR9BTJ",
      "execution_count": null,
      "outputs": []
    },
    {
      "cell_type": "code",
      "source": [
        "x = np.array([1, 2])  # Let numpy choose the datatype\n",
        "y = np.array([1.0, 2.0])  # Let numpy choose the datatype\n",
        "z = np.array([1.0, 2.0], dtype='int')  # Force a particular datatype\n",
        "\n",
        "print('x:', x.dtype, 'y:', y.dtype, 'z:', z.dtype, end='\\n\\n')\n",
        "\n",
        "print(x, y, z, sep='\\n\\n')"
      ],
      "metadata": {
        "colab": {
          "base_uri": "https://localhost:8080/"
        },
        "id": "pWPWXV-kzck-",
        "outputId": "008df5b9-5d6e-47d0-c1ff-48838cd93088"
      },
      "id": "pWPWXV-kzck-",
      "execution_count": null,
      "outputs": [
        {
          "output_type": "stream",
          "name": "stdout",
          "text": [
            "x: int64 y: float64 z: int64\n",
            "\n",
            "[1 2]\n",
            "\n",
            "[1. 2.]\n",
            "\n",
            "[1 2]\n"
          ]
        }
      ]
    },
    {
      "cell_type": "code",
      "source": [
        "x = np.zeros(3)  # Let numpy choose the datatype\n",
        "y = np.zeros(3, dtype='int')  # Force a particular datatype\n",
        "\n",
        "print('x:', x.dtype, 'y:', y.dtype, end='\\n\\n')\n",
        "\n",
        "print(x, y, sep='\\n\\n')"
      ],
      "metadata": {
        "colab": {
          "base_uri": "https://localhost:8080/"
        },
        "id": "hVvAbdvk-ws_",
        "outputId": "c8fbc8b7-01e5-43b8-b29b-adbaf4d68e09"
      },
      "id": "hVvAbdvk-ws_",
      "execution_count": null,
      "outputs": [
        {
          "output_type": "stream",
          "name": "stdout",
          "text": [
            "x: float64 y: int64\n",
            "\n",
            "[0. 0. 0.]\n",
            "\n",
            "[0 0 0]\n"
          ]
        }
      ]
    },
    {
      "cell_type": "code",
      "source": [
        "f1 = np.arange(10,50,5)  # Let numpy choose the datatype\n",
        "f2 = np.arange(10,50,5, dtype='float')  # Force a particular datatype\n",
        "\n",
        "print(f1)\n",
        "print(f2)"
      ],
      "metadata": {
        "colab": {
          "base_uri": "https://localhost:8080/"
        },
        "id": "vtHNNFulzmAf",
        "outputId": "fb180126-8e01-4424-96f8-84491a624dd6"
      },
      "id": "vtHNNFulzmAf",
      "execution_count": null,
      "outputs": [
        {
          "output_type": "stream",
          "name": "stdout",
          "text": [
            "[10 15 20 25 30 35 40 45]\n",
            "[10. 15. 20. 25. 30. 35. 40. 45.]\n"
          ]
        }
      ]
    }
  ],
  "nbformat": 4,
  "nbformat_minor": 5,
  "metadata": {
    "colab": {
      "provenance": []
    },
    "language_info": {
      "name": "python"
    },
    "kernelspec": {
      "name": "python3",
      "display_name": "Python 3"
    },
    "gpuClass": "standard"
  }
}