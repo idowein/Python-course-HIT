{
  "cells": [
    {
      "cell_type": "markdown",
      "source": [
        "# arithmetic progression(AP)\n",
        "[arithmetic progression(AP)](https://he.wikipedia.org/wiki/%D7%A1%D7%93%D7%A8%D7%94_%D7%97%D7%A9%D7%91%D7%95%D7%A0%D7%99%D7%AA)"
      ],
      "metadata": {
        "id": "snnROJNrp4i9"
      },
      "id": "snnROJNrp4i9"
    },
    {
      "cell_type": "markdown",
      "metadata": {
        "id": "0nqAySxQgO5O"
      },
      "source": [
        "Lastly, I want to mention two very useful functions for creating sequences of numbers within a specified range, namely, arange and linspace. NumPy’s arange function follows the same syntax as Python’s range objects: If two arguments are provided, the first argument represents the start value and the second value defines the stop value of a half-open interval:"
      ],
      "id": "0nqAySxQgO5O"
    },
    {
      "cell_type": "markdown",
      "metadata": {
        "id": "sY4EZx3jgO5O"
      },
      "source": [
        "Numpy also has two useful functions for creating sequences of numbers: `arange` and `linspace`.\n",
        "\n",
        "The [`arange`](https://numpy.org/doc/stable/reference/generated/numpy.arange.html) function accepts three arguments, which define the start value, stop value of a half-open interval, and step size. (The default step size, if not explicitly specified, is 1; the default start value, if not explicitly specified, is 0.)\n",
        "\n",
        "The [`linspace`](https://numpy.org/doc/stable/reference/generated/numpy.linspace.html) function is similar, but we can specify the number of values instead of the step size, and it will create a sequence of evenly spaced values."
      ],
      "id": "sY4EZx3jgO5O"
    },
    {
      "cell_type": "code",
      "execution_count": null,
      "metadata": {
        "id": "G5WiaA6igO5D"
      },
      "outputs": [],
      "source": [
        "import numpy as np"
      ],
      "id": "G5WiaA6igO5D"
    },
    {
      "cell_type": "code",
      "execution_count": null,
      "metadata": {
        "id": "tV7IeecDgO5P",
        "colab": {
          "base_uri": "https://localhost:8080/"
        },
        "outputId": "ec916e5b-011e-49de-ef6b-eb03e904cff0"
      },
      "outputs": [
        {
          "output_type": "stream",
          "name": "stdout",
          "text": [
            "[0 1 2 3 4 5 6 7 8 9]\n"
          ]
        }
      ],
      "source": [
        "c = np.arange(10)   # Create an array of values starting at 0 in increments of 1\n",
        "print(c)"
      ],
      "id": "tV7IeecDgO5P"
    },
    {
      "cell_type": "markdown",
      "source": [
        "Note this ends on 9, not 10 (does not include the top end of the interval)."
      ],
      "metadata": {
        "id": "YGyFY-DO-hMI"
      },
      "id": "YGyFY-DO-hMI"
    },
    {
      "cell_type": "code",
      "source": [
        "c = np.arange(2,8)   # Create an array of values starting at 2 in increments of 1\n",
        "print(c)"
      ],
      "metadata": {
        "colab": {
          "base_uri": "https://localhost:8080/"
        },
        "id": "NjW9dGgI90qu",
        "outputId": "c0837724-5331-4880-9574-9799537299c3"
      },
      "id": "NjW9dGgI90qu",
      "execution_count": null,
      "outputs": [
        {
          "output_type": "stream",
          "name": "stdout",
          "text": [
            "[2 3 4 5 6 7]\n"
          ]
        }
      ]
    },
    {
      "cell_type": "markdown",
      "source": [
        "Note this ends on 7, not 8 (does not include the top end of the interval)."
      ],
      "metadata": {
        "id": "QVJG56Ux-aun"
      },
      "id": "QVJG56Ux-aun"
    },
    {
      "cell_type": "code",
      "source": [
        "c = np.arange(10,50,5)   # Create an array of values starting at 10 in increments of 5\n",
        "print(c)"
      ],
      "metadata": {
        "colab": {
          "base_uri": "https://localhost:8080/"
        },
        "id": "ljlIFD4690uG",
        "outputId": "e958f18f-c9dc-4077-f9d0-a6f105903129"
      },
      "id": "ljlIFD4690uG",
      "execution_count": null,
      "outputs": [
        {
          "output_type": "stream",
          "name": "stdout",
          "text": [
            "[10 15 20 25 30 35 40 45]\n"
          ]
        }
      ]
    },
    {
      "cell_type": "markdown",
      "metadata": {
        "id": "1pWJwwvpgO5P"
      },
      "source": [
        "Note this ends on 45, not 50 (does not include the top end of the interval)."
      ],
      "id": "1pWJwwvpgO5P"
    },
    {
      "cell_type": "code",
      "execution_count": null,
      "metadata": {
        "id": "FNB_M44RgO5Q",
        "colab": {
          "base_uri": "https://localhost:8080/"
        },
        "outputId": "2f825590-bf7b-4c01-990b-61f113b57c34"
      },
      "outputs": [
        {
          "output_type": "stream",
          "name": "stdout",
          "text": [
            "[0. 1. 2. 3. 4.]\n"
          ]
        }
      ],
      "source": [
        "d = np.linspace(0, 4, num=5)\n",
        "print(d)"
      ],
      "id": "FNB_M44RgO5Q"
    }
  ],
  "nbformat": 4,
  "nbformat_minor": 5,
  "metadata": {
    "colab": {
      "provenance": [],
      "toc_visible": true
    },
    "language_info": {
      "name": "python"
    },
    "kernelspec": {
      "name": "python3",
      "display_name": "Python 3"
    },
    "gpuClass": "standard"
  }
}