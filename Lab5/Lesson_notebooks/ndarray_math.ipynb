{
  "cells": [
    {
      "cell_type": "markdown",
      "metadata": {
        "id": "KCg6kv4XgO5i"
      },
      "source": [
        "# Array math"
      ],
      "id": "KCg6kv4XgO5i"
    },
    {
      "cell_type": "code",
      "source": [
        "import numpy as np"
      ],
      "metadata": {
        "id": "W9cFNZhHuzYQ"
      },
      "id": "W9cFNZhHuzYQ",
      "execution_count": null,
      "outputs": []
    },
    {
      "cell_type": "markdown",
      "source": [
        "## Basic operations"
      ],
      "metadata": {
        "id": "Crh20J222QQL"
      },
      "id": "Crh20J222QQL"
    },
    {
      "cell_type": "markdown",
      "source": [
        "Basic operations (`+` `-` `*` `/`) between matrices of the **same size**"
      ],
      "metadata": {
        "id": "ydrr8yTF2oyl"
      },
      "id": "ydrr8yTF2oyl"
    },
    {
      "cell_type": "markdown",
      "metadata": {
        "id": "ltV1UizGgO5p"
      },
      "source": [
        "You can perform an elementwise sum on two arrays using either the + operator or the `add()` function.\n",
        "\n",
        "![](http://jalammar.github.io/images/numpy/numpy-arrays-adding-1.png)\n",
        "\n",
        "![](http://jalammar.github.io/images/numpy/numpy-matrix-arithmetic.png)"
      ],
      "id": "ltV1UizGgO5p"
    },
    {
      "cell_type": "code",
      "execution_count": null,
      "metadata": {
        "id": "4WjSEAUBgO5p",
        "colab": {
          "base_uri": "https://localhost:8080/"
        },
        "outputId": "f5fae73d-0b72-4354-800d-09bb4f918ffb"
      },
      "outputs": [
        {
          "output_type": "stream",
          "name": "stdout",
          "text": [
            "[[ 6.  8.]\n",
            " [10. 12.]]\n",
            "[[ 6.  8.]\n",
            " [10. 12.]]\n"
          ]
        }
      ],
      "source": [
        "x = np.array([[1,2],[3,4]], dtype=np.float64)\n",
        "y = np.array([[5,6],[7,8]], dtype=np.float64)\n",
        "\n",
        "# Elementwise sum; both produce the array\n",
        "print(x + y)\n",
        "print(np.add(x, y))"
      ],
      "id": "4WjSEAUBgO5p"
    },
    {
      "cell_type": "markdown",
      "metadata": {
        "id": "ymcSQFBjgO5q"
      },
      "source": [
        "And this works for other operations as well, not only addition:\n",
        "\n",
        "![](http://jalammar.github.io/images/numpy/numpy-array-subtract-multiply-divide.png)"
      ],
      "id": "ymcSQFBjgO5q"
    },
    {
      "cell_type": "code",
      "execution_count": null,
      "metadata": {
        "id": "jJV_I9yngO5r",
        "colab": {
          "base_uri": "https://localhost:8080/"
        },
        "outputId": "13dd981c-868e-4bdc-87ee-cfe13de1000b"
      },
      "outputs": [
        {
          "output_type": "stream",
          "name": "stdout",
          "text": [
            "[[-4. -4.]\n",
            " [-4. -4.]]\n",
            "[[-4. -4.]\n",
            " [-4. -4.]]\n"
          ]
        }
      ],
      "source": [
        "# Elementwise difference; both produce the array\n",
        "print(x - y)\n",
        "print(np.subtract(x, y))"
      ],
      "id": "jJV_I9yngO5r"
    },
    {
      "cell_type": "code",
      "execution_count": null,
      "metadata": {
        "id": "lvCx0Hq5gO5s",
        "colab": {
          "base_uri": "https://localhost:8080/"
        },
        "outputId": "97b8d447-9b71-4662-ca82-1f2525a8da84"
      },
      "outputs": [
        {
          "output_type": "stream",
          "name": "stdout",
          "text": [
            "[[ 5. 12.]\n",
            " [21. 32.]]\n",
            "[[ 5. 12.]\n",
            " [21. 32.]]\n"
          ]
        }
      ],
      "source": [
        "# Elementwise product; both produce the array\n",
        "print(x * y)\n",
        "print(np.multiply(x, y))"
      ],
      "id": "lvCx0Hq5gO5s"
    },
    {
      "cell_type": "code",
      "execution_count": null,
      "metadata": {
        "id": "9K-jzqS6gO5s",
        "colab": {
          "base_uri": "https://localhost:8080/"
        },
        "outputId": "e0493fb9-ac90-4823-dbb8-dab0691dbce8"
      },
      "outputs": [
        {
          "output_type": "stream",
          "name": "stdout",
          "text": [
            "[[0.2        0.33333333]\n",
            " [0.42857143 0.5       ]]\n",
            "[[0.2        0.33333333]\n",
            " [0.42857143 0.5       ]]\n"
          ]
        }
      ],
      "source": [
        "# Elementwise division; both produce the array\n",
        "# [[ 0.2         0.33333333]\n",
        "#  [ 0.42857143  0.5       ]]\n",
        "print(x / y)\n",
        "print(np.divide(x, y))"
      ],
      "id": "9K-jzqS6gO5s"
    },
    {
      "cell_type": "markdown",
      "source": [
        "## Mathematical functions (ufuncs)\n",
        "* element-wise"
      ],
      "metadata": {
        "id": "wKKEpyMN3TVV"
      },
      "id": "wKKEpyMN3TVV"
    },
    {
      "cell_type": "markdown",
      "source": [
        "Numpy has many mathematical functions that can be operated on ndarray, like [`sqrt`](https://numpy.org/doc/2.2/reference/generated/numpy.sqrt.html), [`sin`](https://numpy.org/doc/stable/reference/generated/numpy.sin.html), [`abs`](https://numpy.org/doc/stable/reference/generated/numpy.absolute.html), [`ceil`](https://numpy.org/doc/stable/reference/generated/numpy.ceil.html), [`round`](https://numpy.org/doc/stable/reference/generated/numpy.round.html), etc.\n",
        "\n",
        "Mathematical functions are element wise."
      ],
      "metadata": {
        "id": "FwMr0V5k3Ttq"
      },
      "id": "FwMr0V5k3Ttq"
    },
    {
      "cell_type": "code",
      "source": [
        "x = np.array([[1,2],[3,4]], dtype=np.float64)\n",
        "print(x)"
      ],
      "metadata": {
        "id": "MfYW8EIi4Q5p",
        "colab": {
          "base_uri": "https://localhost:8080/"
        },
        "outputId": "ced9abd3-ed7b-4640-c6e9-7f0787fd842c"
      },
      "id": "MfYW8EIi4Q5p",
      "execution_count": null,
      "outputs": [
        {
          "output_type": "stream",
          "name": "stdout",
          "text": [
            "[[1. 2.]\n",
            " [3. 4.]]\n"
          ]
        }
      ]
    },
    {
      "cell_type": "code",
      "execution_count": null,
      "metadata": {
        "id": "fvyfo70XgO5t",
        "colab": {
          "base_uri": "https://localhost:8080/"
        },
        "outputId": "035e09b3-b8ba-4ea9-fb0f-12abac654192"
      },
      "outputs": [
        {
          "output_type": "stream",
          "name": "stdout",
          "text": [
            "[[1.         1.41421356]\n",
            " [1.73205081 2.        ]]\n"
          ]
        }
      ],
      "source": [
        "# Elementwise square root; produces the array\n",
        "# [[ 1.          1.41421356]\n",
        "#  [ 1.73205081  2.        ]]\n",
        "print(np.sqrt(x))"
      ],
      "id": "fvyfo70XgO5t"
    },
    {
      "cell_type": "code",
      "source": [
        "# Elementwise sinus; produces the array\n",
        "# [[ 0.84147098  0.90929743]\n",
        "#  [ 0.14112001 -0.7568025 ]]\n",
        "print(np.sin(x))"
      ],
      "metadata": {
        "colab": {
          "base_uri": "https://localhost:8080/"
        },
        "id": "s-SwEgz54HMf",
        "outputId": "8dbc1a38-fba7-49c4-9ae6-d5ddca11716b"
      },
      "id": "s-SwEgz54HMf",
      "execution_count": null,
      "outputs": [
        {
          "output_type": "stream",
          "name": "stdout",
          "text": [
            "[[ 0.84147098  0.90929743]\n",
            " [ 0.14112001 -0.7568025 ]]\n"
          ]
        }
      ]
    },
    {
      "cell_type": "markdown",
      "source": [
        "## Matrix multiplication\n",
        "[WiKi](https://https://he.wikipedia.org/wiki/%D7%9B%D7%A4%D7%9C_%D7%9E%D7%98%D7%A8%D7%99%D7%A6%D7%95%D7%AA)"
      ],
      "metadata": {
        "id": "cGa5Sf1w4cqH"
      },
      "id": "cGa5Sf1w4cqH"
    },
    {
      "cell_type": "markdown",
      "metadata": {
        "id": "Y8shSem5gO5u"
      },
      "source": [
        "Note that unlike MATLAB, `*` is elementwise multiplication, not matrix multiplication. We instead use the `dot()` function to compute inner products of vectors, to multiply a vector by a matrix, and to multiply matrices. `dot()` is available both as a function in the numpy module and as an instance method of array objects:\n",
        "\n",
        "![](http://jalammar.github.io/images/numpy/numpy-matrix-dot-product-1.png)"
      ],
      "id": "Y8shSem5gO5u"
    },
    {
      "cell_type": "code",
      "execution_count": null,
      "metadata": {
        "id": "9XY3XcnFgO5u",
        "colab": {
          "base_uri": "https://localhost:8080/"
        },
        "outputId": "0ed0c808-278b-4812-fe16-13b89df5c6b5"
      },
      "outputs": [
        {
          "output_type": "stream",
          "name": "stdout",
          "text": [
            "[35 81]\n",
            "[47 70]\n",
            "219\n"
          ]
        }
      ],
      "source": [
        "x = np.array([[1,2],[3,4]]) #x.shape=(2, 2)\n",
        "y = np.array([[5,6],[7,8]]) #y.shape=(2, 2)\n",
        "\n",
        "v = np.array([9,10]) #v.shape=(2,)\n",
        "w = np.array([11, 12])# w.shape=(2,)\n",
        "\n",
        "print(x.dot(w))\n",
        "print(w.dot(x))\n",
        "\n",
        "# Inner product of vectors; both produce 219\n",
        "print(np.dot(v, w))"
      ],
      "id": "9XY3XcnFgO5u"
    },
    {
      "cell_type": "markdown",
      "metadata": {
        "id": "ZooX6aZegO51"
      },
      "source": [
        "You can also use the `@` operator which is equivalent to numpy's `dot` operator."
      ],
      "id": "ZooX6aZegO51"
    },
    {
      "cell_type": "code",
      "execution_count": null,
      "metadata": {
        "id": "-1tGv0RvgO51",
        "colab": {
          "base_uri": "https://localhost:8080/"
        },
        "outputId": "f2dc42ba-187f-4459-95ab-b9caea54f22c"
      },
      "outputs": [
        {
          "output_type": "stream",
          "name": "stdout",
          "text": [
            "219\n"
          ]
        }
      ],
      "source": [
        "print(v @ w)"
      ],
      "id": "-1tGv0RvgO51"
    },
    {
      "cell_type": "code",
      "execution_count": null,
      "metadata": {
        "id": "uUwabjpdgO52",
        "colab": {
          "base_uri": "https://localhost:8080/"
        },
        "outputId": "1bfcdbd3-9528-4de1-b044-9a833335e0df"
      },
      "outputs": [
        {
          "output_type": "stream",
          "name": "stdout",
          "text": [
            "[29 67]\n",
            "[29 67]\n",
            "[29 67]\n"
          ]
        }
      ],
      "source": [
        "# Matrix / vector product; both produce the rank 1 array [29 67]\n",
        "print(x.dot(v))\n",
        "print(np.dot(x, v))\n",
        "print(x @ v)"
      ],
      "id": "uUwabjpdgO52"
    },
    {
      "cell_type": "code",
      "execution_count": null,
      "metadata": {
        "id": "Ncqsr4q5gO54",
        "colab": {
          "base_uri": "https://localhost:8080/"
        },
        "outputId": "3a960fee-97f4-4d04-9783-f1bd86cd2243"
      },
      "outputs": [
        {
          "output_type": "stream",
          "name": "stdout",
          "text": [
            "[[19 22]\n",
            " [43 50]]\n",
            "[[19 22]\n",
            " [43 50]]\n",
            "[[19 22]\n",
            " [43 50]]\n"
          ]
        }
      ],
      "source": [
        "# Matrix / matrix product; both produce the rank 2 array\n",
        "# [[19 22]\n",
        "#  [43 50]]\n",
        "print(x.dot(y))\n",
        "print(np.dot(x, y))\n",
        "print(x @ y)"
      ],
      "id": "Ncqsr4q5gO54"
    },
    {
      "cell_type": "markdown",
      "source": [
        "## min(), max(), sum()"
      ],
      "metadata": {
        "id": "2i3b4ylD6p2F"
      },
      "id": "2i3b4ylD6p2F"
    },
    {
      "cell_type": "markdown",
      "metadata": {
        "id": "cuuTqfzcgO55"
      },
      "source": [
        "Besides for the functions that overload operators, Numpy also provides many useful functions for performing computations on arrays, such as `min()`, `max()`, `sum()`, `std()`, `mean()`,and others:\n",
        "\n",
        "![](http://jalammar.github.io/images/numpy/numpy-matrix-aggregation-1.png)"
      ],
      "id": "cuuTqfzcgO55"
    },
    {
      "cell_type": "code",
      "execution_count": null,
      "metadata": {
        "id": "T91MesT9gO56",
        "colab": {
          "base_uri": "https://localhost:8080/"
        },
        "outputId": "cf45a4d5-d9eb-4c4f-a061-0c019fb9ad7a"
      },
      "outputs": [
        {
          "output_type": "stream",
          "name": "stdout",
          "text": [
            "6\n",
            "1\n",
            "21\n",
            "3.5\n",
            "1.707825127659933\n"
          ]
        }
      ],
      "source": [
        "x = np.array([[1, 2], [3, 4], [5, 6]])\n",
        "\n",
        "print(np.max(x))  # Compute max of all elements; prints \"6\"\n",
        "print(np.min(x))  # Compute min of all elements; prints \"1\"\n",
        "print(np.sum(x))  # Compute sum of all elements; prints \"21\"\n",
        "print(np.mean(x)) # Compute mean of all elements; prints \"3.5\"\n",
        "print(np.std(x))  # Compute std of all elements; prints \"1.707...\"\n"
      ],
      "id": "T91MesT9gO56"
    },
    {
      "cell_type": "markdown",
      "metadata": {
        "id": "BA8aiwjQgO57"
      },
      "source": [
        "Not only can we aggregate all the values in a matrix using these functions, but we can also aggregate across the rows or columns by using the `axis` parameter:\n",
        "\n",
        "![](http://jalammar.github.io/images/numpy/numpy-matrix-aggregation-4.png)"
      ],
      "id": "BA8aiwjQgO57"
    },
    {
      "cell_type": "code",
      "execution_count": null,
      "metadata": {
        "id": "dijKRShegO58",
        "colab": {
          "base_uri": "https://localhost:8080/"
        },
        "outputId": "df090808-a604-47f7-a13c-b93d55376d8e"
      },
      "outputs": [
        {
          "output_type": "stream",
          "name": "stdout",
          "text": [
            "[5 6]\n",
            "[2 5 6]\n"
          ]
        }
      ],
      "source": [
        "x = np.array([[1, 2], [5, 3], [4, 6]])\n",
        "\n",
        "print(np.max(x, axis=0))  # Compute max of each column; prints \"[5 6]\"\n",
        "print(np.max(x, axis=1))  # Compute max of each row; prints \"[2 5 6]\""
      ],
      "id": "dijKRShegO58"
    },
    {
      "cell_type": "markdown",
      "source": [
        "## Matrix transformation"
      ],
      "metadata": {
        "id": "7MLU8OLb7EhS"
      },
      "id": "7MLU8OLb7EhS"
    },
    {
      "cell_type": "markdown",
      "metadata": {
        "id": "9_5SlnPRgO59"
      },
      "source": [
        "Apart from computing mathematical functions using arrays, we frequently need to reshape or otherwise manipulate data in arrays. The simplest example of this type of operation is transposing a matrix; to transpose a matrix, simply use the T attribute of an array object.\n",
        "\n",
        "![](http://jalammar.github.io/images/numpy/numpy-transpose.png)"
      ],
      "id": "9_5SlnPRgO59"
    },
    {
      "cell_type": "code",
      "execution_count": null,
      "metadata": {
        "id": "HvizVGpCgO5-",
        "colab": {
          "base_uri": "https://localhost:8080/"
        },
        "outputId": "2ba07236-9e85-4666-9821-d5e6cfaed7d9"
      },
      "outputs": [
        {
          "output_type": "stream",
          "name": "stdout",
          "text": [
            "[[1 2]\n",
            " [3 4]\n",
            " [5 6]]\n",
            "transpose\n",
            " [[1 3 5]\n",
            " [2 4 6]]\n"
          ]
        }
      ],
      "source": [
        "x = np.array([[1, 2], [3, 4], [5, 6]])\n",
        "\n",
        "print(x)\n",
        "print(\"transpose\\n\", x.T)"
      ],
      "id": "HvizVGpCgO5-"
    },
    {
      "cell_type": "code",
      "execution_count": null,
      "metadata": {
        "id": "msg0Jl-ggO5_",
        "colab": {
          "base_uri": "https://localhost:8080/"
        },
        "outputId": "e011c65c-f55d-4f11-b051-a4552390cf1e"
      },
      "outputs": [
        {
          "output_type": "stream",
          "name": "stdout",
          "text": [
            "[[1 2 3]]\n",
            "transpose\n",
            " [[1]\n",
            " [2]\n",
            " [3]]\n"
          ]
        }
      ],
      "source": [
        "v = np.array([[1,2,3]])\n",
        "print(v )\n",
        "print(\"transpose\\n\", v.T)"
      ],
      "id": "msg0Jl-ggO5_"
    },
    {
      "cell_type": "markdown",
      "metadata": {
        "id": "8zWG60KLgO6A"
      },
      "source": [
        "In more advanced use case, you may find yourself needing to change the dimensions of a certain matrix. This is often the case in machine learning applications where a certain model expects a certain shape for the inputs that is different from your dataset. numpy's `reshape()` method is useful in these cases.\n",
        "\n",
        "![](http://jalammar.github.io/images/numpy/numpy-reshape.png)"
      ],
      "id": "8zWG60KLgO6A"
    },
    {
      "cell_type": "code",
      "source": [
        "w = np.arange(1, 7)\n",
        "print(w)\n",
        "w.shape"
      ],
      "metadata": {
        "colab": {
          "base_uri": "https://localhost:8080/"
        },
        "id": "h-QhoH4Rsa5b",
        "outputId": "21f377e0-207b-4c50-e134-801ea573f007"
      },
      "id": "h-QhoH4Rsa5b",
      "execution_count": null,
      "outputs": [
        {
          "output_type": "stream",
          "name": "stdout",
          "text": [
            "[1 2 3 4 5 6]\n"
          ]
        },
        {
          "output_type": "execute_result",
          "data": {
            "text/plain": [
              "(6,)"
            ]
          },
          "metadata": {},
          "execution_count": 27
        }
      ]
    },
    {
      "cell_type": "code",
      "source": [
        "print(w.reshape(2, 3))"
      ],
      "metadata": {
        "colab": {
          "base_uri": "https://localhost:8080/"
        },
        "id": "i-UUIdGSsoHz",
        "outputId": "5328bcca-5426-4863-e707-859d537e2d69"
      },
      "id": "i-UUIdGSsoHz",
      "execution_count": null,
      "outputs": [
        {
          "output_type": "stream",
          "name": "stdout",
          "text": [
            "[[1 2 3]\n",
            " [4 5 6]]\n"
          ]
        }
      ]
    },
    {
      "cell_type": "code",
      "source": [
        "print(w.reshape(3, 2))"
      ],
      "metadata": {
        "colab": {
          "base_uri": "https://localhost:8080/"
        },
        "id": "LsDpThdNsuPF",
        "outputId": "2aa5c607-4a2f-416b-cd47-c0de4f1f03b2"
      },
      "id": "LsDpThdNsuPF",
      "execution_count": null,
      "outputs": [
        {
          "output_type": "stream",
          "name": "stdout",
          "text": [
            "[[1 2]\n",
            " [3 4]\n",
            " [5 6]]\n"
          ]
        }
      ]
    },
    {
      "cell_type": "code",
      "source": [
        "print(w.reshape(-1, 2))"
      ],
      "metadata": {
        "colab": {
          "base_uri": "https://localhost:8080/"
        },
        "id": "NXwr-hS_swXb",
        "outputId": "cc401019-3cfd-4330-c617-a26bbfc7be3e"
      },
      "id": "NXwr-hS_swXb",
      "execution_count": null,
      "outputs": [
        {
          "output_type": "stream",
          "name": "stdout",
          "text": [
            "[[1 2]\n",
            " [3 4]\n",
            " [5 6]]\n"
          ]
        }
      ]
    },
    {
      "cell_type": "code",
      "source": [
        "print(w.reshape(-1, 3))"
      ],
      "metadata": {
        "colab": {
          "base_uri": "https://localhost:8080/"
        },
        "id": "oPHpgq4Ws19V",
        "outputId": "c0d1e4b1-ffeb-499f-ba16-efd90d719e27"
      },
      "id": "oPHpgq4Ws19V",
      "execution_count": null,
      "outputs": [
        {
          "output_type": "stream",
          "name": "stdout",
          "text": [
            "[[1 2 3]\n",
            " [4 5 6]]\n"
          ]
        }
      ]
    },
    {
      "cell_type": "markdown",
      "metadata": {
        "id": "VHv0-GJ4gO6B"
      },
      "source": [
        "A common task in this class will be to convert a 1D array to a 2D array, and vice versa. We can use `reshape()` for this."
      ],
      "id": "VHv0-GJ4gO6B"
    },
    {
      "cell_type": "markdown",
      "metadata": {
        "id": "hiVcR0klgO6C"
      },
      "source": [
        "For example, suppose we had this 2D array, but we need to pass it to a function that expects a 1D array."
      ],
      "id": "hiVcR0klgO6C"
    },
    {
      "cell_type": "code",
      "execution_count": null,
      "metadata": {
        "id": "25Pc0lJ5gO6C",
        "colab": {
          "base_uri": "https://localhost:8080/"
        },
        "outputId": "29f1bcf3-cda2-49f6-9f30-d96644c2271b"
      },
      "outputs": [
        {
          "output_type": "stream",
          "name": "stdout",
          "text": [
            "[[1]\n",
            " [2]\n",
            " [3]]\n"
          ]
        },
        {
          "output_type": "execute_result",
          "data": {
            "text/plain": [
              "(3, 1)"
            ]
          },
          "metadata": {},
          "execution_count": 36
        }
      ],
      "source": [
        "w = np.array([[1],[2],[3]])\n",
        "print(w)\n",
        "w.shape"
      ],
      "id": "25Pc0lJ5gO6C"
    },
    {
      "cell_type": "markdown",
      "metadata": {
        "id": "SRy5Y1pJgO6D"
      },
      "source": [
        "We can remove the “unnecessary” extra dimension with"
      ],
      "id": "SRy5Y1pJgO6D"
    },
    {
      "cell_type": "code",
      "execution_count": null,
      "metadata": {
        "id": "3uXWTF_rgO6E",
        "colab": {
          "base_uri": "https://localhost:8080/"
        },
        "outputId": "e67d659b-c44c-40ea-ea52-0283bd005cde"
      },
      "outputs": [
        {
          "output_type": "stream",
          "name": "stdout",
          "text": [
            "[1 2 3]\n"
          ]
        },
        {
          "output_type": "execute_result",
          "data": {
            "text/plain": [
              "(3,)"
            ]
          },
          "metadata": {},
          "execution_count": 37
        }
      ],
      "source": [
        "y = w.reshape(-1,)\n",
        "print(y)\n",
        "y.shape"
      ],
      "id": "3uXWTF_rgO6E"
    },
    {
      "cell_type": "code",
      "source": [
        "y = w.ravel()\n",
        "print(y)\n",
        "y.shape"
      ],
      "metadata": {
        "colab": {
          "base_uri": "https://localhost:8080/"
        },
        "id": "wRkKQ4egtHE6",
        "outputId": "30e08f37-2b68-46dc-ef60-13b674f9efba"
      },
      "id": "wRkKQ4egtHE6",
      "execution_count": null,
      "outputs": [
        {
          "output_type": "stream",
          "name": "stdout",
          "text": [
            "[1 2 3]\n"
          ]
        },
        {
          "output_type": "execute_result",
          "data": {
            "text/plain": [
              "(3,)"
            ]
          },
          "metadata": {},
          "execution_count": 38
        }
      ]
    },
    {
      "cell_type": "markdown",
      "metadata": {
        "id": "znpxHrtxgO6F"
      },
      "source": [
        "Note that we can pass -1 as one dimension and numpy will infer the correct size based on our matrix size!\n",
        "\n",
        "There’s also a `squeeze()` function that removes *all* of the “unnecessary” dimensions (dimensions that have size 1) from an array:"
      ],
      "id": "znpxHrtxgO6F"
    },
    {
      "cell_type": "code",
      "source": [
        "w = np.arange(1, 7)\n",
        "y = w.reshape(2, 1, 3, 1)\n",
        "print(y)\n",
        "print('y shape is', y.shape)"
      ],
      "metadata": {
        "colab": {
          "base_uri": "https://localhost:8080/"
        },
        "id": "awaZSzcItbt8",
        "outputId": "ec2ca908-350b-4ebe-911b-0cdf8566e345"
      },
      "id": "awaZSzcItbt8",
      "execution_count": null,
      "outputs": [
        {
          "output_type": "stream",
          "name": "stdout",
          "text": [
            "[[[[1]\n",
            "   [2]\n",
            "   [3]]]\n",
            "\n",
            "\n",
            " [[[4]\n",
            "   [5]\n",
            "   [6]]]]\n",
            "y shape is (2, 1, 3, 1)\n"
          ]
        }
      ]
    },
    {
      "cell_type": "code",
      "execution_count": null,
      "metadata": {
        "id": "iWSCUgKkgO6F",
        "colab": {
          "base_uri": "https://localhost:8080/"
        },
        "outputId": "699692e5-b78c-42ee-eef2-fcd643521a31"
      },
      "outputs": [
        {
          "output_type": "stream",
          "name": "stdout",
          "text": [
            "[[1 2 3]\n",
            " [4 5 6]]\n"
          ]
        },
        {
          "output_type": "execute_result",
          "data": {
            "text/plain": [
              "(2, 3)"
            ]
          },
          "metadata": {},
          "execution_count": 41
        }
      ],
      "source": [
        "z = y.squeeze()\n",
        "print(z)\n",
        "z.shape"
      ],
      "id": "iWSCUgKkgO6F"
    },
    {
      "cell_type": "markdown",
      "metadata": {
        "id": "lWdUxHqTgO6G"
      },
      "source": [
        "To go from a 1D to 2D array, we can just add in another dimension of size 1:"
      ],
      "id": "lWdUxHqTgO6G"
    },
    {
      "cell_type": "code",
      "execution_count": null,
      "metadata": {
        "id": "A-oMHx7NgO6H",
        "colab": {
          "base_uri": "https://localhost:8080/"
        },
        "outputId": "a85f1349-83c1-4932-ef4d-6be4479a0eaf"
      },
      "outputs": [
        {
          "output_type": "execute_result",
          "data": {
            "text/plain": [
              "array([[1],\n",
              "       [2],\n",
              "       [3],\n",
              "       [4],\n",
              "       [5],\n",
              "       [6]])"
            ]
          },
          "metadata": {},
          "execution_count": 42
        }
      ],
      "source": [
        "y.reshape((-1,1))"
      ],
      "id": "A-oMHx7NgO6H"
    },
    {
      "cell_type": "markdown",
      "metadata": {
        "id": "Q-U_8wO2gO6J"
      },
      "source": [
        "## Broadcasting"
      ],
      "id": "Q-U_8wO2gO6J"
    },
    {
      "cell_type": "markdown",
      "metadata": {
        "id": "gv--HXMugO6K"
      },
      "source": [
        "Broadcasting is a powerful mechanism that allows numpy to work with arrays of different shapes when performing arithmetic operations."
      ],
      "id": "gv--HXMugO6K"
    },
    {
      "cell_type": "markdown",
      "metadata": {
        "id": "f_pbc8I5gO6L"
      },
      "source": [
        "For example: basic linear algebra, we can only add (and perform similar element-wise operations) two matrics that have the *same* dimension. In numpy, if we want to add two matrics that have different dimensions, numpy will implicitly “extend” the dimension of one matrix to match the other so that we can perform the operation.\n",
        "\n",
        "So these operations will work, instead of returning an error:\n",
        "\n",
        "![](https://sebastianraschka.com/images/blog/2020/numpy-intro/broadcasting-1.png)\n",
        "\n",
        "![](https://sebastianraschka.com/images/blog/2020/numpy-intro/broadcasting-2.png)"
      ],
      "id": "f_pbc8I5gO6L"
    },
    {
      "cell_type": "markdown",
      "metadata": {
        "id": "kJNAuqlygO6M"
      },
      "source": [
        "Broadcasting two arrays together follows these rules:\n",
        "\n",
        "**Rule 1**: If the two arrays differ in their number of dimensions, the shape of the one with fewer dimensions is padded with ones on its leading (left) side.\n",
        "\n",
        "For example, in the following cell, `a` will be implicitly extended to shape (1,3):"
      ],
      "id": "kJNAuqlygO6M"
    },
    {
      "cell_type": "code",
      "execution_count": null,
      "metadata": {
        "id": "ZNMoHGu-gO6O"
      },
      "outputs": [],
      "source": [
        "a = np.array([1,2,3])         # has shape (3,): one dimension\n",
        "b = np.array([[4], [5], [6]]) # has shape (3,1): two dimensions\n",
        "c = a + b                     # will have shape (3,3) (two dimensions)"
      ],
      "id": "ZNMoHGu-gO6O"
    },
    {
      "cell_type": "markdown",
      "metadata": {
        "id": "YKMPgE-_gO6Q"
      },
      "source": [
        "**Rule 2**: If the shape of the two arrays does not match in any dimension, the array with shape equal to 1 in that dimension is stretched to match the other shape.\n",
        "\n",
        "For example, in the following cell `a` will be implicitly extended to shape (3,2):"
      ],
      "id": "YKMPgE-_gO6Q"
    },
    {
      "cell_type": "code",
      "execution_count": null,
      "metadata": {
        "id": "jENjfGNxgO6R"
      },
      "outputs": [],
      "source": [
        "a = np.array([[1],[2],[3]])         # has shape (3,1)\n",
        "b = np.array([[4,5], [6,7], [8,9]]) # has shape (3,2)\n",
        "c = a + b                           # will have shape (3,2)"
      ],
      "id": "jENjfGNxgO6R"
    },
    {
      "cell_type": "markdown",
      "metadata": {
        "id": "hn7uKOiVgO6U"
      },
      "source": [
        "**Rule 3**: If in any dimension the sizes disagree and neither is equal to 1, an error is raised:"
      ],
      "id": "hn7uKOiVgO6U"
    },
    {
      "cell_type": "code",
      "execution_count": null,
      "metadata": {
        "id": "MqrVBXiJgO6V",
        "colab": {
          "base_uri": "https://localhost:8080/",
          "height": 205
        },
        "outputId": "dd77e6c4-5bff-499f-96b0-11da585324a5"
      },
      "outputs": [
        {
          "output_type": "error",
          "ename": "ValueError",
          "evalue": "ignored",
          "traceback": [
            "\u001b[0;31m---------------------------------------------------------------------------\u001b[0m",
            "\u001b[0;31mValueError\u001b[0m                                Traceback (most recent call last)",
            "\u001b[0;32m<ipython-input-46-d74fb6975e94>\u001b[0m in \u001b[0;36m<cell line: 3>\u001b[0;34m()\u001b[0m\n\u001b[1;32m      1\u001b[0m \u001b[0ma\u001b[0m \u001b[0;34m=\u001b[0m \u001b[0mnp\u001b[0m\u001b[0;34m.\u001b[0m\u001b[0marray\u001b[0m\u001b[0;34m(\u001b[0m\u001b[0;34m[\u001b[0m\u001b[0;34m[\u001b[0m\u001b[0;36m1\u001b[0m\u001b[0;34m]\u001b[0m\u001b[0;34m,\u001b[0m\u001b[0;34m[\u001b[0m\u001b[0;36m2\u001b[0m\u001b[0;34m]\u001b[0m\u001b[0;34m,\u001b[0m\u001b[0;34m[\u001b[0m\u001b[0;36m3\u001b[0m\u001b[0;34m]\u001b[0m\u001b[0;34m,\u001b[0m\u001b[0;34m[\u001b[0m\u001b[0;36m4\u001b[0m\u001b[0;34m]\u001b[0m\u001b[0;34m]\u001b[0m\u001b[0;34m)\u001b[0m      \u001b[0;31m# has shape (4,1)\u001b[0m\u001b[0;34m\u001b[0m\u001b[0;34m\u001b[0m\u001b[0m\n\u001b[1;32m      2\u001b[0m \u001b[0mb\u001b[0m \u001b[0;34m=\u001b[0m \u001b[0mnp\u001b[0m\u001b[0;34m.\u001b[0m\u001b[0marray\u001b[0m\u001b[0;34m(\u001b[0m\u001b[0;34m[\u001b[0m\u001b[0;34m[\u001b[0m\u001b[0;36m4\u001b[0m\u001b[0;34m,\u001b[0m\u001b[0;36m5\u001b[0m\u001b[0;34m]\u001b[0m\u001b[0;34m,\u001b[0m \u001b[0;34m[\u001b[0m\u001b[0;36m6\u001b[0m\u001b[0;34m,\u001b[0m\u001b[0;36m7\u001b[0m\u001b[0;34m]\u001b[0m\u001b[0;34m,\u001b[0m \u001b[0;34m[\u001b[0m\u001b[0;36m8\u001b[0m\u001b[0;34m,\u001b[0m\u001b[0;36m9\u001b[0m\u001b[0;34m]\u001b[0m\u001b[0;34m]\u001b[0m\u001b[0;34m)\u001b[0m  \u001b[0;31m# has shape (3,2)\u001b[0m\u001b[0;34m\u001b[0m\u001b[0;34m\u001b[0m\u001b[0m\n\u001b[0;32m----> 3\u001b[0;31m \u001b[0mc\u001b[0m \u001b[0;34m=\u001b[0m \u001b[0ma\u001b[0m \u001b[0;34m+\u001b[0m \u001b[0mb\u001b[0m                            \u001b[0;31m# ValueError: operands could not be broadcast\u001b[0m\u001b[0;34m\u001b[0m\u001b[0;34m\u001b[0m\u001b[0m\n\u001b[0m",
            "\u001b[0;31mValueError\u001b[0m: operands could not be broadcast together with shapes (4,1) (3,2) "
          ]
        }
      ],
      "source": [
        "a = np.array([[1],[2],[3],[4]])      # has shape (4,1)\n",
        "b = np.array([[4,5], [6,7], [8,9]])  # has shape (3,2)\n",
        "c = a + b                            # ValueError: operands could not be broadcast"
      ],
      "id": "MqrVBXiJgO6V"
    },
    {
      "cell_type": "markdown",
      "metadata": {
        "id": "sjn39v7wgO6X"
      },
      "source": [
        "Functions that support broadcasting are known as universal functions. You can find the list of all universal functions in the [documentation](http://docs.scipy.org/doc/numpy/reference/ufuncs.html#available-ufuncs)."
      ],
      "id": "sjn39v7wgO6X"
    },
    {
      "cell_type": "markdown",
      "metadata": {
        "id": "iMLmpj1JgO6X"
      },
      "source": [
        "Here are a few visual examples involving broadcasting.\n",
        "\n",
        "![](http://jalammar.github.io/images/numpy/numpy-array-broadcast.png)\n",
        "\n",
        "Note that these arrays are compatible in each dimension if they have either the same size in that dimension, or if one array has size 1 in that dimension.\n",
        "\n",
        "![](http://jalammar.github.io/images/numpy/numpy-matrix-broadcast.png)"
      ],
      "id": "iMLmpj1JgO6X"
    },
    {
      "cell_type": "markdown",
      "metadata": {
        "id": "N2A2SS_1gO6Y"
      },
      "source": [
        "And here are some more practical applications:"
      ],
      "id": "N2A2SS_1gO6Y"
    },
    {
      "cell_type": "code",
      "execution_count": null,
      "metadata": {
        "id": "glHtKQtAgO6Z",
        "colab": {
          "base_uri": "https://localhost:8080/"
        },
        "outputId": "f269c6df-04ee-4990-8960-87e6262bb9de"
      },
      "outputs": [
        {
          "output_type": "stream",
          "name": "stdout",
          "text": [
            "[[1]\n",
            " [2]\n",
            " [3]]\n",
            "\n",
            "[4 5]\n",
            "\n",
            "[[ 4  5]\n",
            " [ 8 10]\n",
            " [12 15]]\n"
          ]
        }
      ],
      "source": [
        "# Compute outer product of vectors\n",
        "v = np.array([1,2,3])  # v has shape (3,)\n",
        "w = np.array([4,5])    # w has shape (2,)\n",
        "# To compute an outer product, we first reshape v to be a column\n",
        "# vector of shape (3, 1); we can then broadcast it against w to yield\n",
        "# an output of shape (3, 2), which is the outer product of v and w:\n",
        "\n",
        "z = np.reshape(v, (3, 1))\n",
        "print(z, end='\\n\\n')\n",
        "print(w, end='\\n\\n')\n",
        "print(z * w)\n"
      ],
      "id": "glHtKQtAgO6Z"
    },
    {
      "cell_type": "code",
      "execution_count": null,
      "metadata": {
        "id": "516h0OgagO6a",
        "colab": {
          "base_uri": "https://localhost:8080/"
        },
        "outputId": "fa0a2d8b-f3ad-44aa-eb51-0f0dbc84a1fd"
      },
      "outputs": [
        {
          "output_type": "stream",
          "name": "stdout",
          "text": [
            "[[2 4 6]\n",
            " [5 7 9]]\n"
          ]
        }
      ],
      "source": [
        "# Add a vector to each row of a matrix\n",
        "x = np.array([[1,2,3], [4,5,6]])\n",
        "# x has shape (2, 3) and v has shape (3,) so they broadcast to (2, 3),\n",
        "# giving the following matrix:\n",
        "\n",
        "print(x + v)"
      ],
      "id": "516h0OgagO6a"
    },
    {
      "cell_type": "code",
      "execution_count": null,
      "metadata": {
        "id": "1BVASdUtgO6b",
        "colab": {
          "base_uri": "https://localhost:8080/"
        },
        "outputId": "404b703d-0b3d-4a94-803b-b4b6cf1d860d"
      },
      "outputs": [
        {
          "output_type": "stream",
          "name": "stdout",
          "text": [
            "[[ 5  6  7]\n",
            " [ 9 10 11]]\n"
          ]
        }
      ],
      "source": [
        "# Add a vector to each column of a matrix\n",
        "# x has shape (2, 3) and w has shape (2,).\n",
        "# If we transpose x then it has shape (3, 2) and can be broadcast\n",
        "# against w to yield a result of shape (3, 2); transposing this result\n",
        "# yields the final result of shape (2, 3) which is the matrix x with\n",
        "# the vector w added to each column. Gives the following matrix:\n",
        "\n",
        "print((x.T + w).T)"
      ],
      "id": "1BVASdUtgO6b"
    },
    {
      "cell_type": "code",
      "execution_count": null,
      "metadata": {
        "id": "kqrTm0TAgO6c",
        "colab": {
          "base_uri": "https://localhost:8080/"
        },
        "outputId": "6d97d8de-69b5-41e7-d1d1-dbff29651457"
      },
      "outputs": [
        {
          "output_type": "stream",
          "name": "stdout",
          "text": [
            "[[ 5  6  7]\n",
            " [ 9 10 11]]\n"
          ]
        }
      ],
      "source": [
        "# Another solution is to reshape w to be a row vector of shape (2, 1);\n",
        "# we can then broadcast it directly against x to produce the same\n",
        "# output.\n",
        "print(x + np.reshape(w, (2, 1)))"
      ],
      "id": "kqrTm0TAgO6c"
    },
    {
      "cell_type": "code",
      "execution_count": null,
      "metadata": {
        "id": "Nyr2jdsrgO6d",
        "colab": {
          "base_uri": "https://localhost:8080/"
        },
        "outputId": "74b37458-c9dc-4799-8905-a52bb56efcde"
      },
      "outputs": [
        {
          "output_type": "stream",
          "name": "stdout",
          "text": [
            "[[ 2  4  6]\n",
            " [ 8 10 12]]\n"
          ]
        }
      ],
      "source": [
        "# Multiply a matrix by a constant:\n",
        "# x has shape (2, 3). Numpy treats scalars as arrays of shape ();\n",
        "# these can be broadcast together to shape (2, 3), producing the\n",
        "# following array:\n",
        "print(x * 2)"
      ],
      "id": "Nyr2jdsrgO6d"
    },
    {
      "cell_type": "markdown",
      "metadata": {
        "id": "d3D0rZm_gO6d"
      },
      "source": [
        "Broadcasting typically makes your code more concise and faster, so you should strive to use it where possible."
      ],
      "id": "d3D0rZm_gO6d"
    }
  ],
  "nbformat": 4,
  "nbformat_minor": 5,
  "metadata": {
    "colab": {
      "provenance": []
    },
    "language_info": {
      "name": "python"
    },
    "kernelspec": {
      "name": "python3",
      "display_name": "Python 3"
    },
    "gpuClass": "standard"
  }
}