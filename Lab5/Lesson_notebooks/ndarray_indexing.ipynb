{
  "cells": [
    {
      "cell_type": "markdown",
      "metadata": {
        "id": "clN0S_DggO5R"
      },
      "source": [
        "# ndarray indexing"
      ],
      "id": "clN0S_DggO5R"
    },
    {
      "cell_type": "code",
      "source": [
        "import numpy as np"
      ],
      "metadata": {
        "id": "V7kFEs-n-VrV"
      },
      "id": "V7kFEs-n-VrV",
      "execution_count": null,
      "outputs": []
    },
    {
      "cell_type": "markdown",
      "source": [
        "## indexing and sliceing"
      ],
      "metadata": {
        "id": "MsOa1JoatPex"
      },
      "id": "MsOa1JoatPex"
    },
    {
      "cell_type": "markdown",
      "metadata": {
        "id": "UCl05EiogO5S"
      },
      "source": [
        "Numpy offers several ways to index into arrays."
      ],
      "id": "UCl05EiogO5S"
    },
    {
      "cell_type": "markdown",
      "metadata": {
        "id": "9MGXuV2WgO5S"
      },
      "source": [
        "We can index and slice numpy arrays in all the ways we can slice Python lists:\n",
        "\n",
        "![](http://jalammar.github.io/images/numpy/numpy-array-slice.png)\n",
        "\n",
        "And you can index and slice numpy arrays in multiple dimensions. If slicing an array with more than one dimension, you should specify a slice for each dimension:\n",
        "\n",
        "![](http://jalammar.github.io/images/numpy/numpy-matrix-indexing.png)"
      ],
      "id": "9MGXuV2WgO5S"
    },
    {
      "cell_type": "code",
      "execution_count": null,
      "metadata": {
        "id": "9RLfhScmgO5T",
        "colab": {
          "base_uri": "https://localhost:8080/"
        },
        "outputId": "5db518aa-526a-4aea-add2-860f0fa05558"
      },
      "outputs": [
        {
          "output_type": "stream",
          "name": "stdout",
          "text": [
            "[[ 1  2  3  4]\n",
            " [ 5  6  7  8]\n",
            " [ 9 10 11 12]]\n"
          ]
        }
      ],
      "source": [
        "# Create the following rank 2 array with shape (3, 4)\n",
        "# [[ 1  2  3  4]\n",
        "#  [ 5  6  7  8]\n",
        "#  [ 9 10 11 12]]\n",
        "a = np.array([[1,  2,  3,  4],\n",
        "              [5,  6,  7,  8],\n",
        "              [9, 10, 11, 12]])\n",
        "print(a)"
      ],
      "id": "9RLfhScmgO5T"
    },
    {
      "cell_type": "code",
      "source": [
        "a = np.arange(1, 13)\n",
        "print(a, '\\n')\n",
        "\n",
        "a = a.reshape((3, 4))\n",
        "print(a.reshape((3, 4)))"
      ],
      "metadata": {
        "colab": {
          "base_uri": "https://localhost:8080/"
        },
        "id": "HLkRTxvT-Q7U",
        "outputId": "9841d02a-f7f6-46ad-c5ed-dbecfaa4d446"
      },
      "id": "HLkRTxvT-Q7U",
      "execution_count": null,
      "outputs": [
        {
          "output_type": "stream",
          "name": "stdout",
          "text": [
            "[ 1  2  3  4  5  6  7  8  9 10 11 12] \n",
            "\n",
            "[[ 1  2  3  4]\n",
            " [ 5  6  7  8]\n",
            " [ 9 10 11 12]]\n"
          ]
        }
      ]
    },
    {
      "cell_type": "code",
      "source": [
        "# Use slicing to pull out the subarray consisting of the first 2 rows\n",
        "# and columns 1 and 2; b is the following array of shape (2, 2):\n",
        "# [[2 3]\n",
        "#  [6 7]]\n",
        "b = a[:2, 1:3]\n",
        "print(b)"
      ],
      "metadata": {
        "colab": {
          "base_uri": "https://localhost:8080/"
        },
        "id": "Me9eGiOSwDWQ",
        "outputId": "ff8131d0-49f0-41d2-9df9-66d7027f07d7"
      },
      "id": "Me9eGiOSwDWQ",
      "execution_count": null,
      "outputs": [
        {
          "output_type": "stream",
          "name": "stdout",
          "text": [
            "[[2 3]\n",
            " [6 7]]\n"
          ]
        }
      ]
    },
    {
      "cell_type": "markdown",
      "metadata": {
        "id": "Pcnhy7wXgO5U"
      },
      "source": [
        "You can also mix integer indexing with slice indexing. However, doing so will yield an array of lower rank than the original array. Note that this is quite different from the way that MATLAB handles array slicing:"
      ],
      "id": "Pcnhy7wXgO5U"
    },
    {
      "cell_type": "markdown",
      "metadata": {
        "id": "SM4qmgo_gO5W"
      },
      "source": [
        "Two ways of accessing the data in the middle row of the array. Mixing integer indexing with slices yields an array of lower rank, while using only slices yields an array of the same rank as the original array:"
      ],
      "id": "SM4qmgo_gO5W"
    },
    {
      "cell_type": "code",
      "execution_count": null,
      "metadata": {
        "id": "ZuZ_nmbFgO5W",
        "colab": {
          "base_uri": "https://localhost:8080/"
        },
        "outputId": "acdbc859-2d73-482e-c1cd-d942b41aeaa7"
      },
      "outputs": [
        {
          "output_type": "stream",
          "name": "stdout",
          "text": [
            "[5 6 7 8] (4,)\n",
            "[[5 6 7 8]] (1, 4)\n"
          ]
        }
      ],
      "source": [
        "row_r1 = a[1, :]    # Rank 1 view of the second row of a\n",
        "row_r2 = a[1:2, :]  # Rank 2 view of the second row of a\n",
        "print(row_r1, row_r1.shape)\n",
        "print(row_r2, row_r2.shape)"
      ],
      "id": "ZuZ_nmbFgO5W"
    },
    {
      "cell_type": "code",
      "execution_count": null,
      "metadata": {
        "id": "MI28QzpJgO5X",
        "colab": {
          "base_uri": "https://localhost:8080/"
        },
        "outputId": "f64a7a53-3a6c-4954-a87f-981ff334d2a7"
      },
      "outputs": [
        {
          "output_type": "stream",
          "name": "stdout",
          "text": [
            "[ 2  6 10] (3,)\n",
            "\n",
            "[[ 2]\n",
            " [ 6]\n",
            " [10]] (3, 1)\n"
          ]
        }
      ],
      "source": [
        "# We can make the same distinction when accessing columns of an array:\n",
        "col_r1 = a[:, 1]\n",
        "col_r2 = a[:, 1:2]\n",
        "print(col_r1, col_r1.shape)\n",
        "print()\n",
        "print(col_r2, col_r2.shape)"
      ],
      "id": "MI28QzpJgO5X"
    },
    {
      "cell_type": "markdown",
      "metadata": {
        "id": "UFADW3QGgO5T"
      },
      "source": [
        "## sliceing by reference and by copy\n",
        "A slice of an array is a view into the same data, so modifying it will modify the original array."
      ],
      "id": "UFADW3QGgO5T"
    },
    {
      "cell_type": "code",
      "execution_count": null,
      "metadata": {
        "id": "ZTBWBik0gO5U",
        "colab": {
          "base_uri": "https://localhost:8080/"
        },
        "outputId": "8982e00a-6122-46d9-c8eb-e9c21789b7fb"
      },
      "outputs": [
        {
          "output_type": "stream",
          "name": "stdout",
          "text": [
            "[[2 3]\n",
            " [6 7]]\n",
            "2\n",
            "77\n",
            "[[77  3]\n",
            " [ 6  7]]\n"
          ]
        }
      ],
      "source": [
        "# sliceing by reference\n",
        "a = np.array([[1, 2, 3, 4],\n",
        "              [5, 6, 7, 8],\n",
        "              [9, 10, 11, 12]])\n",
        "\n",
        "b = a[:2, 1:3]\n",
        "print(b)\n",
        "print(a[0, 1])\n",
        "b[0, 0] = 77    # b[0, 0] is the same piece of data as a[0, 1]\n",
        "print(a[0, 1])\n",
        "print(b)"
      ],
      "id": "ZTBWBik0gO5U"
    },
    {
      "cell_type": "code",
      "source": [
        "# sliceing by copy\n",
        "a = np.array([[1, 2, 3, 4],\n",
        "              [5, 6, 7, 8],\n",
        "              [9, 10, 11, 12]])\n",
        "\n",
        "b = a[:2, 1:3].copy()\n",
        "print(b)\n",
        "print(a[0, 1])\n",
        "b[0, 0] = 77    # b[0, 0] is the same piece of data as a[0, 1]\n",
        "print(a[0, 1])\n",
        "print(b)"
      ],
      "metadata": {
        "colab": {
          "base_uri": "https://localhost:8080/"
        },
        "id": "vd37w6qPv544",
        "outputId": "e4724071-0f06-4d5b-d9d1-4d4023dd0ff8"
      },
      "id": "vd37w6qPv544",
      "execution_count": null,
      "outputs": [
        {
          "output_type": "stream",
          "name": "stdout",
          "text": [
            "[[2 3]\n",
            " [6 7]]\n",
            "2\n",
            "2\n",
            "[[77  3]\n",
            " [ 6  7]]\n"
          ]
        }
      ]
    }
  ],
  "nbformat": 4,
  "nbformat_minor": 5,
  "metadata": {
    "colab": {
      "provenance": [],
      "toc_visible": true
    },
    "language_info": {
      "name": "python"
    },
    "kernelspec": {
      "name": "python3",
      "display_name": "Python 3"
    },
    "gpuClass": "standard"
  }
}