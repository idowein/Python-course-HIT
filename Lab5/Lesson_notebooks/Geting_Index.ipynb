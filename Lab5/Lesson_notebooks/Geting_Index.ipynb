{
  "cells": [
    {
      "cell_type": "markdown",
      "source": [
        "# Geting index"
      ],
      "metadata": {
        "id": "iIddDD71z-yZ"
      },
      "id": "iIddDD71z-yZ"
    },
    {
      "cell_type": "code",
      "source": [
        "import numpy as np"
      ],
      "metadata": {
        "id": "V7kFEs-n-VrV"
      },
      "id": "V7kFEs-n-VrV",
      "execution_count": null,
      "outputs": []
    },
    {
      "cell_type": "markdown",
      "metadata": {
        "id": "YwAXfBTEgO5d"
      },
      "source": [
        "When working with numpy arrays, it’s often helpful to get the *indices* (not only the values) of array elements that meet certain conditions. There are a few numpy functions that you’ll definitely want to remember:\n",
        "\n",
        "-   [`argmax`](https://numpy.org/doc/stable/reference/generated/numpy.argmax.html) (get index of maximum element in array)\n",
        "-   [`argmin`](https://numpy.org/doc/stable/reference/generated/numpy.argmin.html) (get index of minimum element in array)\n",
        "-   [`argsort`](https://numpy.org/doc/stable/reference/generated/numpy.argsort.html) (get sorted list of indices, by element value, in ascending order)\n",
        "-   [`where`](https://numpy.org/doc/stable/reference/generated/numpy.where.html) (get indices of elements that meet some condition)"
      ],
      "id": "YwAXfBTEgO5d"
    },
    {
      "cell_type": "code",
      "source": [
        "a = np.array([1, 8, 9, -4, 2, 4, 7, 9])\n",
        "print(a)"
      ],
      "metadata": {
        "colab": {
          "base_uri": "https://localhost:8080/"
        },
        "id": "UbMrp1VWxy_U",
        "outputId": "49db6988-42af-4656-fc3e-36e8b87893ac"
      },
      "id": "UbMrp1VWxy_U",
      "execution_count": null,
      "outputs": [
        {
          "output_type": "stream",
          "name": "stdout",
          "text": [
            "[ 1  8  9 -4  2  4  7  9]\n"
          ]
        }
      ]
    },
    {
      "cell_type": "code",
      "source": [
        "# Get the index of the maximum element in a\n",
        "# (this array has two elements with the maximum value -\n",
        "# only one index is returned)\n",
        "print(np.argmax(a))"
      ],
      "metadata": {
        "colab": {
          "base_uri": "https://localhost:8080/"
        },
        "id": "wAQ-cjlRxzGT",
        "outputId": "7e102f04-6a98-4c70-fa56-13359652f5fb"
      },
      "id": "wAQ-cjlRxzGT",
      "execution_count": null,
      "outputs": [
        {
          "output_type": "stream",
          "name": "stdout",
          "text": [
            "2\n"
          ]
        }
      ]
    },
    {
      "cell_type": "code",
      "source": [
        "# Get the index of the minimum element in a\n",
        "print(np.argmin(a))"
      ],
      "metadata": {
        "colab": {
          "base_uri": "https://localhost:8080/"
        },
        "id": "sa75nFASxzMY",
        "outputId": "c858b513-2bb0-429e-a94a-bb4aa6a9f70f"
      },
      "id": "sa75nFASxzMY",
      "execution_count": null,
      "outputs": [
        {
          "output_type": "stream",
          "name": "stdout",
          "text": [
            "3\n"
          ]
        }
      ]
    },
    {
      "cell_type": "code",
      "source": [
        "# Get sorted list of indices\n",
        "print('ascending order:', np.argsort(a))\n",
        "\n",
        "# Get sorted list of indices in descending order\n",
        "# [::-1] is a special slicing index that returns the reversed list\n",
        "print('descending order:', np.argsort(a)[::-1])"
      ],
      "metadata": {
        "colab": {
          "base_uri": "https://localhost:8080/"
        },
        "id": "H1SJB8n1xzsB",
        "outputId": "ddfaf107-fb47-49f5-f878-567b13e3b601"
      },
      "id": "H1SJB8n1xzsB",
      "execution_count": null,
      "outputs": [
        {
          "output_type": "stream",
          "name": "stdout",
          "text": [
            "ascending order: [3 0 4 5 6 1 2 7]\n",
            "descending order: [7 2 1 6 5 4 0 3]\n"
          ]
        }
      ]
    },
    {
      "cell_type": "code",
      "execution_count": null,
      "metadata": {
        "id": "ZGfiXHSvgO5e",
        "colab": {
          "base_uri": "https://localhost:8080/"
        },
        "outputId": "8fcf8c59-a6dc-4983-e0c7-3a40fd5d3cae"
      },
      "outputs": [
        {
          "output_type": "stream",
          "name": "stdout",
          "text": [
            "[1 2 6 7]\n",
            "[2 7]\n"
          ]
        }
      ],
      "source": [
        "# Get indices of elements that meet some condition\n",
        "# this returns a tuple, the list of indices is the first entry\n",
        "# so we use [0] to get it\n",
        "print(np.where(a > 5)[0])\n",
        "\n",
        "# Get indices of elements that meet some condition\n",
        "# this example shows how to get the index of *all* the max values\n",
        "print(np.where(a == a.max())[0])"
      ],
      "id": "ZGfiXHSvgO5e"
    }
  ],
  "nbformat": 4,
  "nbformat_minor": 5,
  "metadata": {
    "colab": {
      "provenance": [],
      "toc_visible": true
    },
    "language_info": {
      "name": "python"
    },
    "kernelspec": {
      "name": "python3",
      "display_name": "Python 3"
    },
    "gpuClass": "standard"
  }
}