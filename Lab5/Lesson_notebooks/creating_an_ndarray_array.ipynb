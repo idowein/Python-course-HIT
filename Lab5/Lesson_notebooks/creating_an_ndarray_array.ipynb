{
  "cells": [
    {
      "cell_type": "markdown",
      "source": [
        "## numpy ndarray\n",
        "An `ndarray` (short for \"n-dimensional array\") is the core data structure provided by the NumPy library in Python. It is a multi-dimensional, homogeneous array that can hold elements of the same data type. An ndarray can have one or more dimensions (**rank**), allowing you to represent a wide range of data, from simple one-dimensional lists to complex multi-dimensional matrices (tensors).\n",
        "\n",
        "Key characteristics of ndarrays include:\n",
        "\n",
        "1. **Homogeneous Data:** All elements within an ndarray must be of the same data type.\n",
        "\n",
        "2. **Multi-dimensional:** Ndarrays can have any number of dimensions. For example, a 1D array is like a list and a 2D array is similar to a matrix.\n",
        "\n",
        "3. **Indexed Access:** Elements within ndarrays are accessed using indexing, similar to Python lists. However, in ndarrays, you can use multi-dimensional indices to access elements in higher-dimensional arrays.\n",
        "\n",
        "4. **Vectorized Operations:** Ndarrays enable vectorized operations, meaning that operations are automatically applied element-wise across the entire array without explicit loops.\n",
        "\n",
        "Ndarrays are the foundation for most of NumPy's functionalities, including mathematical operations, linear algebra, statistical analysis, and more. They provide a powerful and efficient way to work with numerical data in Python.\n",
        "\n"
      ],
      "metadata": {
        "id": "dDs_dDyJF9Zd"
      },
      "id": "dDs_dDyJF9Zd"
    },
    {
      "cell_type": "markdown",
      "source": [
        "# creating an ndarray array\n",
        "\n",
        "NumPy provides several functions to create ndarrays with different shapes, data types, and initialization values. Here are some common options to create ndarrays:\n",
        "\n",
        "1. creates an ndarray from a Python list.\n",
        "1. creates an ndarray filled with zeros, ones.\n",
        "1. creates an ndarray represent [arithmetic progression(AP)](https://he.wikipedia.org/wiki/%D7%A1%D7%93%D7%A8%D7%94_%D7%97%D7%A9%D7%91%D7%95%D7%A0%D7%99%D7%AA)(סדרה חשבונית). מופיע במחברת אחרת\n",
        "1. creates an ndarray filled with randoum numbers."
      ],
      "metadata": {
        "id": "AvQQGoxaIhNZ"
      },
      "id": "AvQQGoxaIhNZ"
    },
    {
      "cell_type": "code",
      "execution_count": null,
      "metadata": {
        "id": "G5WiaA6igO5D"
      },
      "outputs": [],
      "source": [
        "import numpy as np"
      ],
      "id": "G5WiaA6igO5D"
    },
    {
      "cell_type": "markdown",
      "metadata": {
        "id": "Qh2fxUb4gO5F"
      },
      "source": [
        "### creates an ndarray from a Python list:\n",
        "\n",
        "We can create a `ndaaray` by passing a Python list to `np.array()`.\n",
        "\n",
        "![](https://drive.google.com/uc?export=view&id=1FnzwWIk3Ji-q8A6He3yfwnfkdfufz02o)"
      ],
      "id": "Qh2fxUb4gO5F"
    },
    {
      "cell_type": "code",
      "execution_count": null,
      "metadata": {
        "id": "OLNsQj1OgO5F",
        "colab": {
          "base_uri": "https://localhost:8080/"
        },
        "outputId": "d4f3f8ef-88fd-49c5-8d67-c3e8e7be4770"
      },
      "outputs": [
        {
          "output_type": "stream",
          "name": "stdout",
          "text": [
            "[1. 4. 2.]\n",
            "\n",
            "[[3 7 1]\n",
            " [7 5 2]]\n",
            "\n",
            "[[1 4 2]]\n"
          ]
        }
      ],
      "source": [
        "a = np.array([1.3, 4, 2])  # Create a 1 dim ndaaray by a list\n",
        "print(a, end='\\n\\n')\n",
        "\n",
        "b = np.array([[3, 7, 1],\n",
        "              [7, 5, 2]])  # Create a 2 dim ndaaray by a nested list\n",
        "print(b, end='\\n\\n')\n",
        "\n",
        "c = np.array([[1, 4, 2]])  # Create a 2 dim ndaaray by a nested list\n",
        "print(c)"
      ],
      "id": "OLNsQj1OgO5F"
    },
    {
      "cell_type": "markdown",
      "source": [
        "* The access to the array elements is by [i].\n",
        "* The shape of the array can be checked by the `.shape` attribute\n",
        "* The number of dimension of the array can be checked by the `.ndim` attribute."
      ],
      "metadata": {
        "id": "UYIbCBNQLKJ6"
      },
      "id": "UYIbCBNQLKJ6"
    },
    {
      "cell_type": "code",
      "execution_count": null,
      "metadata": {
        "id": "g3n7CQUKgO5G",
        "colab": {
          "base_uri": "https://localhost:8080/"
        },
        "outputId": "2e7ad584-9a65-4319-d304-5213f1df776c"
      },
      "outputs": [
        {
          "output_type": "stream",
          "name": "stdout",
          "text": [
            "`a` first element is 1.3\n",
            "`a` second element is 4.0\n",
            "`a` third element is 2.0\n",
            "`a` shape is (3,)\n",
            "`a` shape is 1\n",
            "[1.3 4.  2. ] : before the change\n",
            "[9. 4. 2.] : after the change\n"
          ]
        }
      ],
      "source": [
        "# 1-dimensional array\n",
        "print(f'`a` first element is {a[0]}')\n",
        "print(f'`a` second element is {a[1]}')\n",
        "print(f'`a` third element is {a[2]}')\n",
        "\n",
        "print(f'`a` shape is {a.shape}')\n",
        "print(f'`a` shape is {a.ndim}')\n",
        "\n",
        "print(a, ': before the change')\n",
        "a[0] = 9  # Change first element of the array `a`\n",
        "print(a, ': after the change')"
      ],
      "id": "g3n7CQUKgO5G"
    },
    {
      "cell_type": "code",
      "source": [
        "# 2-dimensional array\n",
        "print(f'`b` first row, first column is {b[0, 0]}')\n",
        "print(f'`b` second row, second column is {b[1, 1]}')\n",
        "print(f'`b` first row, third column is {b[0, 2]}')\n",
        "\n",
        "print(f'`b` shape is {b.shape}')\n",
        "print(f'`b` shape is {b.ndim}')\n",
        "\n",
        "print('\\n`b` before the changes:')\n",
        "print(b)\n",
        "b[0, 0] = 9  # Change first row, first column of the array `b`\n",
        "b[1] = 9  # Change the entire second row the array `b`\n",
        "print('\\n`b` after the changes:')\n",
        "print(b)"
      ],
      "metadata": {
        "colab": {
          "base_uri": "https://localhost:8080/"
        },
        "id": "54TcYG0EOgHM",
        "outputId": "fd9e7674-0842-4ac5-9d0f-54d52327fecc"
      },
      "id": "54TcYG0EOgHM",
      "execution_count": null,
      "outputs": [
        {
          "output_type": "stream",
          "name": "stdout",
          "text": [
            "`b` first row, first column is 3\n",
            "`b` second row, second column is 5\n",
            "`b` first row, third column is 1\n",
            "`b` shape is (2, 3)\n",
            "`b` shape is 2\n",
            "\n",
            "`b` before the changes:\n",
            "[[3 7 1]\n",
            " [7 5 2]]\n",
            "\n",
            "`b` after the changes:\n",
            "[[9 7 1]\n",
            " [9 9 9]]\n"
          ]
        }
      ]
    },
    {
      "cell_type": "code",
      "source": [
        "# 2-dimensional array\n",
        "print(f'`c` first row, first column is {c[0, 0]}')\n",
        "print(f'`c` first row, second column is {c[0, 1]}')\n",
        "print(f'`c` first row, third column is {c[0, 2]}')\n",
        "\n",
        "print(f'`c` shape is {c.shape}')\n",
        "print(f'`c` shape is {c.ndim}')\n",
        "\n",
        "print('\\n`c` before the changes:')\n",
        "print(c)\n",
        "c[0, 0] = 9  # Change first row, first column of the array `c`\n",
        "print('\\n`c` after the changes:')\n",
        "print(c)"
      ],
      "metadata": {
        "colab": {
          "base_uri": "https://localhost:8080/"
        },
        "id": "qHuLsipi1aBQ",
        "outputId": "c7178a56-5e00-4d63-87a8-5b1c664842d4"
      },
      "id": "qHuLsipi1aBQ",
      "execution_count": null,
      "outputs": [
        {
          "output_type": "stream",
          "name": "stdout",
          "text": [
            "`c` first row, first column is 1\n",
            "`c` first row, second column is 4\n",
            "`c` first row, third column is 2\n",
            "`c` shape is (1, 3)\n",
            "`c` shape is 2\n",
            "\n",
            "`c` before the changes:\n",
            "[[1 4 2]]\n",
            "\n",
            "`c` after the changes:\n",
            "[[9 4 2]]\n"
          ]
        }
      ]
    },
    {
      "cell_type": "markdown",
      "source": [
        "### creates an ndarray filled with zeros, ones:\n",
        "\n",
        "![](https://drive.google.com/uc?export=view&id=1zoOyIUye_v1437vqgIgavOW1cfiY87iZ)"
      ],
      "metadata": {
        "id": "Mcy-lp_tQOyR"
      },
      "id": "Mcy-lp_tQOyR"
    },
    {
      "cell_type": "code",
      "source": [
        "a1 = np.ones(3)  # Create a 1 dim ndaaray\n",
        "print(f'`a1` is:\\n')\n",
        "print(a1)\n",
        "print(f'\\n`a1` shape is {a1.shape}')\n",
        "print(f'`a1` number of dimensions is {a1.ndim}\\n\\n')\n",
        "\n",
        "a2 = np.ones((2, 3))  # Create a 2 dim ndaaray\n",
        "print(f'`a2` is:\\n')\n",
        "print(a2)\n",
        "print(f'\\n`a2` shape is {a2.shape}')\n",
        "print(f'`a2` number of dimensions is {a2.ndim}\\n\\n')"
      ],
      "metadata": {
        "colab": {
          "base_uri": "https://localhost:8080/"
        },
        "id": "vEGCtpJnT5KN",
        "outputId": "8f8596a0-3f87-4344-8377-dd1dd05493c2"
      },
      "id": "vEGCtpJnT5KN",
      "execution_count": null,
      "outputs": [
        {
          "output_type": "stream",
          "name": "stdout",
          "text": [
            "`a1` is:\n",
            "\n",
            "[1. 1. 1.]\n",
            "\n",
            "`a1` shape is (3,)\n",
            "`a1` number of dimensions is 1\n",
            "\n",
            "\n",
            "`a2` is:\n",
            "\n",
            "[[1. 1. 1.]\n",
            " [1. 1. 1.]]\n",
            "\n",
            "`a2` shape is (2, 3)\n",
            "`a2` number of dimensions is 2\n",
            "\n",
            "\n"
          ]
        }
      ]
    },
    {
      "cell_type": "code",
      "source": [
        "b1 = np.zeros(3)  # Create a 1 dim ndaaray\n",
        "print(f'`b1` is:\\n')\n",
        "print(b1)\n",
        "print(f'\\n`b1` shape is {b1.shape}')\n",
        "print(f'`b1` number of dimensions is {b1.ndim}\\n\\n')\n",
        "\n",
        "b2 = np.zeros((2, 3))  # Create a 2 dim ndaaray\n",
        "print(f'`b2` is:\\n')\n",
        "print(b2)\n",
        "print(f'\\n`b2` shape is {b2.shape}')\n",
        "print(f'`b2` number of dimensions is {b2.ndim}\\n\\n')"
      ],
      "metadata": {
        "colab": {
          "base_uri": "https://localhost:8080/"
        },
        "id": "DLrM3d62USFL",
        "outputId": "4a8b64cc-5051-4c77-d5c7-a34d87824ff7"
      },
      "id": "DLrM3d62USFL",
      "execution_count": null,
      "outputs": [
        {
          "output_type": "stream",
          "name": "stdout",
          "text": [
            "`b1` is:\n",
            "\n",
            "[0. 0. 0.]\n",
            "\n",
            "`b1` shape is (3,)\n",
            "`b1` number of dimensions is 1\n",
            "\n",
            "\n",
            "`b2` is:\n",
            "\n",
            "[[0. 0. 0.]\n",
            " [0. 0. 0.]]\n",
            "\n",
            "`b2` shape is (2, 3)\n",
            "`b2` number of dimensions is 2\n",
            "\n",
            "\n"
          ]
        }
      ]
    },
    {
      "cell_type": "markdown",
      "source": [
        "### creates an ndarray filled with randoum numbers\n",
        "\n",
        "`np.random`: NumPy's random module provides various functions to create ndarrays with random values. For example:\n",
        "\n",
        "* [`np.random.random`](https://numpy.org/doc/stable/reference/random/generated/numpy.random.random.html) and [`np.random.rand`](https://numpy.org/doc/stable/reference/random/generated/numpy.random.rand.html) that creates an ndarray filled with random values between 0 and 1\n",
        "\n",
        "\n",
        "* [`np.random.randint`](https://numpy.org/doc/stable/reference/random/generated/numpy.random.randint.html)\n",
        "\n",
        "* [`np.random.randn`](https://numpy.org/doc/stable/reference/random/generated/numpy.random.randn.html)"
      ],
      "metadata": {
        "id": "ONW-XUPbW4zy"
      },
      "id": "ONW-XUPbW4zy"
    },
    {
      "cell_type": "code",
      "source": [
        "# np.random.random Random values between 0 and 1\n",
        "e1 = np.random.random(3)  # Create a 1 dim ndaaray\n",
        "print(f'`e1` is:\\n')\n",
        "print(e1)\n",
        "print(f'\\n`e1` shape is {e1.shape}')\n",
        "print(f'`e1` number of dimensions is {e1.ndim}\\n\\n')\n",
        "\n",
        "e2 = np.random.random((2, 3))  # Create a 2 dim ndaaray\n",
        "print(f'`e2` is:\\n')\n",
        "print(e2)\n",
        "print(f'\\n`e2` shape is {e2.shape}')\n",
        "print(f'`e2` number of dimensions is {e2.ndim}\\n\\n')"
      ],
      "metadata": {
        "colab": {
          "base_uri": "https://localhost:8080/"
        },
        "id": "aX66ilz_W-Ws",
        "outputId": "0047f3be-17bb-47bc-8f8b-db44bcdcaa61"
      },
      "id": "aX66ilz_W-Ws",
      "execution_count": null,
      "outputs": [
        {
          "output_type": "stream",
          "name": "stdout",
          "text": [
            "`e1` is:\n",
            "\n",
            "[7 5 4]\n",
            "\n",
            "`e1` shape is (3,)\n",
            "`e1` number of dimensions is 1\n",
            "\n",
            "\n",
            "`e2` is:\n",
            "\n",
            "[[0.40733306 0.10310354 0.1577361 ]\n",
            " [0.95038288 0.51993144 0.68013277]]\n",
            "\n",
            "`e2` shape is (2, 3)\n",
            "`e2` number of dimensions is 2\n",
            "\n",
            "\n"
          ]
        }
      ]
    }
  ],
  "nbformat": 4,
  "nbformat_minor": 5,
  "metadata": {
    "colab": {
      "provenance": [],
      "toc_visible": true
    },
    "language_info": {
      "name": "python"
    },
    "kernelspec": {
      "name": "python3",
      "display_name": "Python 3"
    },
    "gpuClass": "standard"
  }
}