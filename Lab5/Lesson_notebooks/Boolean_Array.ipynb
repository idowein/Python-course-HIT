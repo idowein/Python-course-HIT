{
  "cells": [
    {
      "cell_type": "markdown",
      "source": [
        "# Boolean array indexing"
      ],
      "metadata": {
        "id": "08DRIVhfwmZv"
      },
      "id": "08DRIVhfwmZv"
    },
    {
      "cell_type": "markdown",
      "metadata": {
        "id": "4Te1-xbUgO5b"
      },
      "source": [
        "Boolean array indexing lets you pick out arbitrary elements of an array. Frequently this type of indexing is used to select the elements of an array that satisfy some condition. Here is an example:"
      ],
      "id": "4Te1-xbUgO5b"
    },
    {
      "cell_type": "code",
      "source": [
        "import numpy as np"
      ],
      "metadata": {
        "id": "V7kFEs-n-VrV"
      },
      "id": "V7kFEs-n-VrV",
      "execution_count": null,
      "outputs": []
    },
    {
      "cell_type": "code",
      "execution_count": null,
      "metadata": {
        "id": "MRJ07N16gO5c",
        "colab": {
          "base_uri": "https://localhost:8080/"
        },
        "outputId": "ee0e6260-8697-4bbd-ee64-e4193cecac73"
      },
      "outputs": [
        {
          "output_type": "stream",
          "name": "stdout",
          "text": [
            "[[1 5 3]\n",
            " [6 7 0]\n",
            " [1 2 5]]\n",
            "\n",
            "[[False  True False]\n",
            " [ True  True False]\n",
            " [False False  True]]\n"
          ]
        }
      ],
      "source": [
        "a = np.random.randint(0, 9, (3, 3))\n",
        "print(a, end='\\n\\n')\n",
        "\n",
        "bool_idx = a > 4  # Find the elements of a that are bigger than 2;\n",
        "                  # this returns a numpy array of Booleans of the same\n",
        "                  # shape as a, where each slot of bool_idx tells\n",
        "                  # whether that element of a is > 2.\n",
        "\n",
        "print(bool_idx)"
      ],
      "id": "MRJ07N16gO5c"
    },
    {
      "cell_type": "code",
      "execution_count": null,
      "metadata": {
        "id": "Rj0SMjp_gO5d",
        "colab": {
          "base_uri": "https://localhost:8080/"
        },
        "outputId": "0d49518b-9f64-41c2-baad-30f3c3ab7ecb"
      },
      "outputs": [
        {
          "output_type": "stream",
          "name": "stdout",
          "text": [
            "[5 6 7 5]\n",
            "[5 6 7 5]\n",
            "[[1 0 3]\n",
            " [0 0 0]\n",
            " [1 2 0]]\n"
          ]
        }
      ],
      "source": [
        "# We use boolean array indexing to construct a rank 1 array\n",
        "# consisting of the elements of a corresponding to the True values\n",
        "# of bool_idx\n",
        "print(a[bool_idx])\n",
        "\n",
        "# We can do all of the above in a single concise statement:\n",
        "print(a[a > 3])\n",
        "\n",
        "a[bool_idx] = 0\n",
        "print(a)"
      ],
      "id": "Rj0SMjp_gO5d"
    }
  ],
  "nbformat": 4,
  "nbformat_minor": 5,
  "metadata": {
    "colab": {
      "provenance": [],
      "toc_visible": true
    },
    "language_info": {
      "name": "python"
    },
    "kernelspec": {
      "name": "python3",
      "display_name": "Python 3"
    },
    "gpuClass": "standard"
  }
}