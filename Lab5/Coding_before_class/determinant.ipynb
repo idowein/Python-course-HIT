{
 "cells": [
  {
   "cell_type": "code",
   "execution_count": 1,
   "id": "d11f986c",
   "metadata": {},
   "outputs": [],
   "source": [
    "import numpy as np\n",
    "\n",
    "def Determinant(mat):\n",
    "    # base cases\n",
    "    if mat.size == 1:\n",
    "        return mat\n",
    "    elif mat.shape == (2,2):\n",
    "        return mat[0,0] * mat[1,1] - mat[1,0] * mat[0,1]\n",
    "    else:\n",
    "        det = 0\n",
    "    for j in range(mat.shape[1]):\n",
    "        left_submatrix = mat[1:, :j]\n",
    "        right_submatrix = mat[1:, j+1:]\n",
    "        minor = np.c_[left_submatrix, right_submatrix]\n",
    "        minor_determinant = Determinant(minor)\n",
    "\n",
    "        sign_factor = (-1) ** j\n",
    "        det += mat[0, j] * minor_determinant * sign_factor\n",
    "\n",
    "    return det"
   ]
  },
  {
   "cell_type": "code",
   "execution_count": 2,
   "id": "3bd2fa22",
   "metadata": {},
   "outputs": [
    {
     "name": "stdout",
     "output_type": "stream",
     "text": [
      "-376\n"
     ]
    }
   ],
   "source": [
    "# a = np.array([5])\n",
    "# a = np.array([[2,1],[2,3]])\n",
    "a = np.array([[1, 3, 5, 9], [1, 3, 1, 7], [4, 3, 9, 7], [5, 2, 0, 9]])\n",
    "print(Determinant(a))"
   ]
  }
 ],
 "metadata": {
  "kernelspec": {
   "display_name": "Python 3",
   "language": "python",
   "name": "python3"
  },
  "language_info": {
   "codemirror_mode": {
    "name": "ipython",
    "version": 3
   },
   "file_extension": ".py",
   "mimetype": "text/x-python",
   "name": "python",
   "nbconvert_exporter": "python",
   "pygments_lexer": "ipython3",
   "version": "3.12.6"
  }
 },
 "nbformat": 4,
 "nbformat_minor": 5
}
