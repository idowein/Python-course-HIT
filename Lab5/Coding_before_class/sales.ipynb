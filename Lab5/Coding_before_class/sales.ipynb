{
 "cells": [
  {
   "cell_type": "code",
   "execution_count": null,
   "id": "e3863bfa",
   "metadata": {},
   "outputs": [
    {
     "name": "stdout",
     "output_type": "stream",
     "text": [
      "Total sales: 20000\n",
      "Average monthly sales: 1666.6666666666667\n",
      "Highest month income : 6\n",
      "Lowest month income : 3\n",
      "The standard deviation odf sales is : 246.08\n",
      "[False  True False False  True  True  True  True False False False  True]\n",
      "[ True False  True  True False False False False  True  True  True False]\n",
      "Months above average: 6\n",
      "Months above average: 6\n"
     ]
    }
   ],
   "source": [
    "import numpy as np\n",
    "\n",
    "sales_data = [1500, 1700, 1400, 1300, 1800, 2000, 2100, 1900, 1600, 1400, 1500, 1800]\n",
    "\n",
    "sales = np.array(sales_data)\n",
    "\n",
    "total_sales = np.sum(sales)\n",
    "print(f\"Total sales: {total_sales}\")\n",
    "\n",
    "average_sales = np.mean(sales)\n",
    "print(f\"Average monthly sales: {average_sales}\")\n",
    "\n",
    "highest_month_index = np.argmax(sales) # the index of the max value\n",
    "print(f\"Highest month income : {highest_month_index}\")\n",
    "\n",
    "lowest_month_index = np.argmin(sales) # the index of the min value\n",
    "print(f\"Lowest month income : {lowest_month_index}\")\n",
    "\n",
    "sales_std = np.std(sales)\n",
    "print(f\"The standard deviation odf sales is : {sales_std:.2f}\")\n",
    "\n",
    "above_average = sales > average_sales\n",
    "below_average = sales < average_sales\n",
    "\n",
    "print(above_average)\n",
    "print(below_average)\n",
    "\n",
    "print(f\"Months above average: {above_average.sum()}\")\n",
    "print(f\"Months above average: {below_average.sum()}\")\n",
    "\n",
    "\n"
   ]
  }
 ],
 "metadata": {
  "kernelspec": {
   "display_name": "Python 3",
   "language": "python",
   "name": "python3"
  },
  "language_info": {
   "codemirror_mode": {
    "name": "ipython",
    "version": 3
   },
   "file_extension": ".py",
   "mimetype": "text/x-python",
   "name": "python",
   "nbconvert_exporter": "python",
   "pygments_lexer": "ipython3",
   "version": "3.12.6"
  }
 },
 "nbformat": 4,
 "nbformat_minor": 5
}
