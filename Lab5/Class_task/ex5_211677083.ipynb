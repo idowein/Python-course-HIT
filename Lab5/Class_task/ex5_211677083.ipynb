{
  "cells": [
    {
      "cell_type": "markdown",
      "metadata": {
        "deletable": false,
        "editable": false,
        "id": "PWAqNmIThFJ9"
      },
      "source": [
        "# Experiment 5\n",
        "\n",
        "**Topics of Experiment 5**\n",
        "\n",
        "*   Using `for` loop in Python.\n",
        "*   Using `if elif else` in Python.\n",
        "*   Function and Methods.\n",
        "*   numpy library.\n"
      ]
    },
    {
      "cell_type": "code",
      "execution_count": 1,
      "metadata": {
        "id": "OoZPAfTtjfZx"
      },
      "outputs": [
        {
          "name": "stdout",
          "output_type": "stream",
          "text": [
            "Ido Weinstock 211677083\n"
          ]
        }
      ],
      "source": [
        "Student = \"Ido Weinstock\"    # Student Name\n",
        "ID = \"211677083\"         # ID\n",
        "print(Student, ID)"
      ]
    },
    {
      "cell_type": "markdown",
      "metadata": {
        "deletable": false,
        "editable": false,
        "id": "_u8KJmwKhFKD"
      },
      "source": [
        "### Exercise 1 - 35 points\n",
        "\n",
        "Create a function called `ExtractNonVowelStartingWords`.\n",
        "\n",
        "This function should take a single string as its input and return a list containing only the words that **don't start** with a vowel (A, E, I, O, U). The function should be case-insensitive, meaning it should recognize vowels whether they are in uppercase or lowercase.\n",
        "\n",
        "You are allowed to use the `.lower()` method if necessary (for more information, you can use `help(str.lower)`).\n",
        "\n",
        "**Example 1:**\n",
        "\n",
        "```python\n",
        "sampleString = \"I'm in a hurry because my bus isn't coming, so I have to find another way to get there.\"\n",
        "resultList = ExtractNonVowelStartingWords(sampleString)\n",
        "```\n",
        "resultList → ['hurry', 'because', 'my', 'bus', 'coming', 'so', 'have', 'to', 'find', 'way', 'to', 'get', 'there.']\n",
        "\n",
        "**Example 2:**\n",
        "\n",
        "```python\n",
        "sampleString = \"Every action has an equal and opposite reaction.\"\n",
        "resultList = ExtractNonVowelStartingWords(sampleString)\n",
        "```\n",
        "resultList → ['has', 'reaction.']"
      ]
    },
    {
      "cell_type": "code",
      "execution_count": 3,
      "metadata": {
        "deletable": false,
        "id": "AMuQUuaxhFKE"
      },
      "outputs": [],
      "source": [
        "# answer exe 1 here!\n",
        "def ExtractNonVowelStartingWords(strong):\n",
        "    # Define a tuple containing all vowel characters (lowercase) for comparison\n",
        "    vowels = ('a', 'e', 'i', 'o', 'u')\n",
        "    # Split the input string into a list of words\n",
        "    words = strong.split()\n",
        "    # Initialize an empty list to store the result\n",
        "    result = []\n",
        "    # Iterate through each word in the list of words\n",
        "    for word in words:\n",
        "        # Check that the word is not empty and its first character (case-insensitive) is not a vowel\n",
        "        if len(word) > 0 and word[0].lower() not in vowels:\n",
        "            # If the word does not start with a vowel, add it to the result list\n",
        "            result.append(word)\n",
        "    # Return the list of words that do not start with a vowel\n",
        "    return result\n"
      ]
    },
    {
      "cell_type": "code",
      "execution_count": 4,
      "metadata": {
        "deletable": false,
        "editable": false,
        "id": "kg7ziMpYhFKE",
        "scrolled": true
      },
      "outputs": [
        {
          "name": "stdout",
          "output_type": "stream",
          "text": [
            "['hurry', 'because', 'my', 'bus', 'coming,', 'so', 'have', 'to', 'find', 'way', 'to', 'get', 'there.']\n",
            "['has', 'reaction.']\n"
          ]
        }
      ],
      "source": [
        "print(ExtractNonVowelStartingWords(\"I'm in a hurry because my bus isn't coming, so I have to find another way to get there.\"))\n",
        "print(ExtractNonVowelStartingWords(\"Every action has an equal and opposite reaction.\"))"
      ]
    },
    {
      "cell_type": "markdown",
      "metadata": {
        "deletable": false,
        "editable": false,
        "id": "CjJdd04vhFKF"
      },
      "source": [
        "### Exercise 2 - 35 points\n",
        "\n",
        "Define a function named `countWordsNotStartingWithChars`.\n",
        "\n",
        "The function should take two inputs:\n",
        "1. A string composed of words.\n",
        "2. A set of characters (string) to filter out words that start with any of them.\n",
        "\n",
        "The function should return a dictionary where each key is a word that **doesn't start** with any of the given characters, and each value is the number of occurrences of that word. The function should be case-insensitive.\n",
        "\n",
        "**Example:**\n",
        "\n",
        "```python\n",
        "myStr = 'Hello Hello We DO He no No no we'\n",
        "chars = 'Hn'\n",
        "stringHist = countWordsNotStartingWithChars(myStr, chars)\n",
        "```\n",
        "stringHist → {'we': 2, 'do': 1}. **(The order of the words/keys does not matter)**\n",
        "\n",
        "**Another Example:**\n",
        "\n",
        "```python\n",
        "myStr = 'Apple Banana Cherry Apple apricot banana'\n",
        "chars = 'AB'\n",
        "stringHist = countWordsNotStartingWithChars(myStr, chars)\n",
        "```\n",
        "stringHist → {'cherry': 1}. **(The order of the words/keys does not matter)**"
      ]
    },
    {
      "cell_type": "code",
      "execution_count": null,
      "metadata": {
        "deletable": false,
        "id": "6PDgcsTbhFKF"
      },
      "outputs": [],
      "source": [
        "# answer exe 2 here!\n",
        "def countWordsNotStartingWithChars(line, chars):\n",
        "    pass"
      ]
    },
    {
      "cell_type": "code",
      "execution_count": null,
      "metadata": {
        "deletable": false,
        "editable": false,
        "id": "g2RTyUvFhFKG"
      },
      "outputs": [],
      "source": [
        "print(countWordsNotStartingWithChars('Apple Banana Cherry Apple apricot banana', 'AB'))"
      ]
    },
    {
      "cell_type": "markdown",
      "metadata": {
        "id": "_9yiDKQTlgSo"
      },
      "source": [
        "### Exc 3 - 30 points\n",
        "\n",
        "Define a function named `PlusMat`.\n",
        "The function input is two parameters.\n",
        "\n",
        "1.   `ms` – even number. represents the size of the matrix.\n",
        "2.   `width_half` – natural number. Represents the thickness of the strips of the ones, the thickness of the entire strip is **twice**\n",
        "The `width_half`. the parameter has a default value of 1.\n",
        "\n",
        "the function returns a matrix that is an ndarray array of dtype int.\n",
        "The plus is located exactly in the middle of the matrix.\n",
        "\n",
        "Note: If the \"ms\" value is not an even number then the function should return None.\n",
        "\n",
        "**example 1:**\n",
        "\n",
        "```pyton\n",
        "plus_1 = PlusMat(4)\n",
        "print(plus_1)\n",
        "\n",
        "[[0 1 1 0]\n",
        " [1 1 1 1]\n",
        " [1 1 1 1]\n",
        " [0 1 1 0]]\n",
        "```\n",
        "\n",
        "**example 2:**\n",
        "\n",
        "```pyton\n",
        "plus_2 = PlusMat(8, 2)\n",
        "print(plus_2)\n",
        "\n",
        "[[0 0 1 1 1 1 0 0]\n",
        " [0 0 1 1 1 1 0 0]\n",
        " [1 1 1 1 1 1 1 1]\n",
        " [1 1 1 1 1 1 1 1]\n",
        " [1 1 1 1 1 1 1 1]\n",
        " [1 1 1 1 1 1 1 1]\n",
        " [0 0 1 1 1 1 0 0]\n",
        " [0 0 1 1 1 1 0 0]]\n",
        "```"
      ]
    },
    {
      "cell_type": "code",
      "execution_count": null,
      "metadata": {
        "id": "KW97GXqEHe7D"
      },
      "outputs": [],
      "source": [
        "# answer exe 3 here!\n",
        "def PlusMat(ms, width_half):\n",
        "    pass"
      ]
    },
    {
      "cell_type": "code",
      "execution_count": null,
      "metadata": {
        "id": "whJVY9ZtH6cA"
      },
      "outputs": [],
      "source": [
        "plus_1 = PlusMat(4)\n",
        "print(plus_1)\n",
        "\n",
        "plus_2 = PlusMat(8, 2)\n",
        "print(plus_2)"
      ]
    }
  ],
  "metadata": {
    "colab": {
      "provenance": []
    },
    "gpuClass": "standard",
    "kernelspec": {
      "display_name": "Python 3",
      "name": "python3"
    },
    "language_info": {
      "codemirror_mode": {
        "name": "ipython",
        "version": 3
      },
      "file_extension": ".py",
      "mimetype": "text/x-python",
      "name": "python",
      "nbconvert_exporter": "python",
      "pygments_lexer": "ipython3",
      "version": "3.12.6"
    }
  },
  "nbformat": 4,
  "nbformat_minor": 0
}
