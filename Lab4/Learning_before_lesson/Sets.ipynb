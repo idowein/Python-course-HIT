{
  "nbformat": 4,
  "nbformat_minor": 0,
  "metadata": {
    "colab": {
      "provenance": []
    },
    "kernelspec": {
      "name": "python3",
      "display_name": "Python 3"
    },
    "language_info": {
      "name": "python"
    }
  },
  "cells": [
    {
      "cell_type": "markdown",
      "source": [
        "## Sets"
      ],
      "metadata": {
        "id": "7wWmUetGA4NU"
      }
    },
    {
      "cell_type": "code",
      "source": [
        "s = {1, 2, 3, 4, 4, 4, 4, 4, 4, 4, 3, 'ya', 'ya'}\n",
        "print(s)"
      ],
      "metadata": {
        "colab": {
          "base_uri": "https://localhost:8080/"
        },
        "id": "DpFd94VssDpA",
        "outputId": "3dee682c-0152-4afc-fc67-af3517e67dea"
      },
      "execution_count": null,
      "outputs": [
        {
          "output_type": "stream",
          "name": "stdout",
          "text": [
            "{1, 2, 3, 4, 'ya'}\n"
          ]
        }
      ]
    },
    {
      "cell_type": "code",
      "source": [
        "s.add(7)\n",
        "print(s)\n",
        "s.add(6)\n",
        "print(s)\n",
        "s.add(3)\n",
        "print(s)"
      ],
      "metadata": {
        "colab": {
          "base_uri": "https://localhost:8080/"
        },
        "id": "llIxLSodslYF",
        "outputId": "a55cc107-eda1-4a5f-ad28-eee61e4a76b4"
      },
      "execution_count": null,
      "outputs": [
        {
          "output_type": "stream",
          "name": "stdout",
          "text": [
            "{1, 2, 3, 4, 7, 'ya'}\n",
            "{1, 2, 3, 4, 6, 7, 'ya'}\n",
            "{1, 2, 3, 4, 6, 7, 'ya'}\n"
          ]
        }
      ]
    },
    {
      "cell_type": "code",
      "source": [
        "a = [1, 2, 3, 3, 5, 3, 4]\n",
        "print(a)\n",
        "\n",
        "b = set(a)\n",
        "print(b)\n",
        "\n",
        "c = list(b)\n",
        "print(c)"
      ],
      "metadata": {
        "colab": {
          "base_uri": "https://localhost:8080/"
        },
        "id": "8mzRQ4Fps4EJ",
        "outputId": "8907584a-cdc6-4360-ec6f-92ff058414fc"
      },
      "execution_count": null,
      "outputs": [
        {
          "output_type": "stream",
          "name": "stdout",
          "text": [
            "[1, 2, 3, 3, 5, 3, 4]\n",
            "{1, 2, 3, 4, 5}\n",
            "[1, 2, 3, 4, 5]\n"
          ]
        }
      ]
    }
  ]
}