{
  "nbformat": 4,
  "nbformat_minor": 0,
  "metadata": {
    "colab": {
      "provenance": []
    },
    "kernelspec": {
      "name": "python3",
      "display_name": "Python 3"
    },
    "language_info": {
      "name": "python"
    }
  },
  "cells": [
    {
      "cell_type": "markdown",
      "source": [
        "## Comprehensions\n",
        "\n",
        "ther are 4 type of comprehensions in python:\n",
        "* List Comprehensions\n",
        "* Dictionary Comprehensions\n",
        "* Set Comprehensions\n",
        "* Generator Comprehensions (**Not in our syllabus**)\n",
        "\n",
        "The first three comprehension provide us a shorter syntax to create a new array (List, Dictionary, Set) based on the values of an existing array.\n"
      ],
      "metadata": {
        "id": "KNWZBeggANV7"
      }
    },
    {
      "cell_type": "markdown",
      "source": [
        "**List Comprehensions Example:**\n",
        "\n",
        "```python\n",
        "newlist = [expression for item in array]\n",
        "\n",
        "newlist = [expression for item in array if condition == True]\n",
        "```"
      ],
      "metadata": {
        "id": "IBRMEj_WC7X0"
      }
    },
    {
      "cell_type": "code",
      "source": [
        "lower_names = [\"dana\", \"igal\", \"moti\"]\n",
        "\n",
        "capitalize_names = []\n",
        "for name in lower_names:\n",
        "    capitalize_names.append(name.capitalize())\n",
        "\n",
        "print(capitalize_names)"
      ],
      "metadata": {
        "colab": {
          "base_uri": "https://localhost:8080/"
        },
        "id": "srgnh2T6C5Bd",
        "outputId": "eb9c88dd-bc2a-4cf6-e516-9b162b7f39a3"
      },
      "execution_count": null,
      "outputs": [
        {
          "output_type": "stream",
          "name": "stdout",
          "text": [
            "['Dana', 'Igal', 'Moti']\n"
          ]
        }
      ]
    },
    {
      "cell_type": "code",
      "source": [
        "lower_names = [\"dana\", \"igal\", \"moti\"]\n",
        "\n",
        "capitalize_names = [name.capitalize() for name in lower_names]\n",
        "\n",
        "print(capitalize_names)"
      ],
      "metadata": {
        "colab": {
          "base_uri": "https://localhost:8080/"
        },
        "id": "BnoP8629O1XW",
        "outputId": "a0f1e121-e004-47f3-f1cf-85ca4a4009e0"
      },
      "execution_count": null,
      "outputs": [
        {
          "output_type": "stream",
          "name": "stdout",
          "text": [
            "['Dana', 'Igal', 'Moti']\n"
          ]
        }
      ]
    },
    {
      "cell_type": "code",
      "source": [
        "numbers = [\"12\", \"32\", \"34\"]\n",
        "\n",
        "numbers_powered_by_six = [str(int(num)*6) for num in numbers]\n",
        "\n",
        "print(numbers_powered_by_six)"
      ],
      "metadata": {
        "colab": {
          "base_uri": "https://localhost:8080/"
        },
        "id": "pxVyws-ehwl9",
        "outputId": "3be2e447-130f-49c1-8ffa-1a80cad324d1"
      },
      "execution_count": null,
      "outputs": [
        {
          "output_type": "stream",
          "name": "stdout",
          "text": [
            "['72', '192', '204']\n"
          ]
        }
      ]
    },
    {
      "cell_type": "code",
      "source": [
        "names_array = [\"dana\", \"igal\", \"moti\"]\n",
        "# prefix_names_array = [\"Dr_dana\", \"Dr_igal\", \"Dr_moti\"]\n",
        "\n",
        "prefix_names_array = ['Dr_' + name for name in lower_names]\n",
        "\n",
        "print(prefix_names_array)"
      ],
      "metadata": {
        "id": "IalOduJhPcde",
        "colab": {
          "base_uri": "https://localhost:8080/"
        },
        "outputId": "b0677f58-ac6d-47dd-9875-94c8ea148f83"
      },
      "execution_count": null,
      "outputs": [
        {
          "output_type": "stream",
          "name": "stdout",
          "text": [
            "['Dr_dana', 'Dr_igal', 'Dr_moti']\n"
          ]
        }
      ]
    },
    {
      "cell_type": "code",
      "source": [
        "lower_names = [\"dana\", \"igal\", \"moti\"]\n",
        "a_names = []\n",
        "\n",
        "for name in lower_names:\n",
        "    if 'a' in name:\n",
        "        a_names.append(name)\n",
        "\n",
        "print(a_names)"
      ],
      "metadata": {
        "colab": {
          "base_uri": "https://localhost:8080/"
        },
        "id": "Hm4zP-Q8QH4V",
        "outputId": "68ca66dd-37b4-4672-a085-1fe65e894aa0"
      },
      "execution_count": null,
      "outputs": [
        {
          "output_type": "stream",
          "name": "stdout",
          "text": [
            "['dana', 'igal']\n"
          ]
        }
      ]
    },
    {
      "cell_type": "code",
      "source": [
        "lower_names = [\"dana\", \"igal\", \"moti\"]\n",
        "\n",
        "a_names = [name for name in lower_names if 'a' in name]\n",
        "\n",
        "print(a_names)"
      ],
      "metadata": {
        "colab": {
          "base_uri": "https://localhost:8080/"
        },
        "id": "RFoaLMANQYPz",
        "outputId": "5c6df496-535c-4485-b3bd-42939f8201f7"
      },
      "execution_count": null,
      "outputs": [
        {
          "output_type": "stream",
          "name": "stdout",
          "text": [
            "['dana', 'igal']\n"
          ]
        }
      ]
    },
    {
      "cell_type": "markdown",
      "source": [
        "## Tuples\n",
        "\n",
        "Like a list, tuples are an references array."
      ],
      "metadata": {
        "id": "jEDJDThaANZQ"
      }
    },
    {
      "cell_type": "code",
      "source": [
        "array_0 = ['dana', 'moti']\n",
        "array_1 = [array_0, '2', 3] # list\n",
        "array_2 = (array_0, '2', 3) # tuple\n",
        "\n",
        "print(array_1)\n",
        "print(array_2)\n",
        "\n",
        "array_0[0] = 'yosi' # ['yosi', 'moti']\n",
        "array_0.append('yakir') # ['yosi', 'moti', 'yakir']\n",
        "\n",
        "\n",
        "print(array_1)\n",
        "print(array_2)"
      ],
      "metadata": {
        "colab": {
          "base_uri": "https://localhost:8080/"
        },
        "id": "o76ECCLoRk1j",
        "outputId": "a2a5a1ca-9005-4cf4-8c7b-983600851718"
      },
      "execution_count": null,
      "outputs": [
        {
          "output_type": "stream",
          "name": "stdout",
          "text": [
            "[['dana', 'moti'], '2', 3]\n",
            "(['dana', 'moti'], '2', 3)\n",
            "[['yosi', 'moti', 'yakir'], '2', 3]\n",
            "(['yosi', 'moti', 'yakir'], '2', 3)\n"
          ]
        }
      ]
    },
    {
      "cell_type": "markdown",
      "source": [
        "Unlike lists, tuples are not editable, **they are immutable**"
      ],
      "metadata": {
        "id": "Q2jgTXqPXFE5"
      }
    },
    {
      "cell_type": "code",
      "source": [
        "array_1 = [1, '2', 3.] # list\n",
        "array_2 = (1, '2', 3.) # tuple\n",
        "\n",
        "print(array_1[0])\n",
        "print(array_2[0])\n",
        "\n",
        "array_1[0] = 5\n",
        "array_2[0] = 5 # 'tuple' object does not support item assignment"
      ],
      "metadata": {
        "colab": {
          "base_uri": "https://localhost:8080/",
          "height": 236
        },
        "id": "hj8D_UHRROBR",
        "outputId": "840a6c5b-860f-47a0-96fa-7ae1ce01ca6c"
      },
      "execution_count": null,
      "outputs": [
        {
          "output_type": "stream",
          "name": "stdout",
          "text": [
            "1\n",
            "1\n"
          ]
        },
        {
          "output_type": "error",
          "ename": "TypeError",
          "evalue": "ignored",
          "traceback": [
            "\u001b[0;31m---------------------------------------------------------------------------\u001b[0m",
            "\u001b[0;31mTypeError\u001b[0m                                 Traceback (most recent call last)",
            "\u001b[0;32m<ipython-input-9-110a02ef0ce8>\u001b[0m in \u001b[0;36m<cell line: 8>\u001b[0;34m()\u001b[0m\n\u001b[1;32m      6\u001b[0m \u001b[0;34m\u001b[0m\u001b[0m\n\u001b[1;32m      7\u001b[0m \u001b[0marray_1\u001b[0m\u001b[0;34m[\u001b[0m\u001b[0;36m0\u001b[0m\u001b[0;34m]\u001b[0m \u001b[0;34m=\u001b[0m \u001b[0;36m5\u001b[0m\u001b[0;34m\u001b[0m\u001b[0;34m\u001b[0m\u001b[0m\n\u001b[0;32m----> 8\u001b[0;31m \u001b[0marray_2\u001b[0m\u001b[0;34m[\u001b[0m\u001b[0;36m0\u001b[0m\u001b[0;34m]\u001b[0m \u001b[0;34m=\u001b[0m \u001b[0;36m5\u001b[0m \u001b[0;31m# 'tuple' object does not support item assignment\u001b[0m\u001b[0;34m\u001b[0m\u001b[0;34m\u001b[0m\u001b[0m\n\u001b[0m",
            "\u001b[0;31mTypeError\u001b[0m: 'tuple' object does not support item assignment"
          ]
        }
      ]
    },
    {
      "cell_type": "code",
      "source": [
        "def Func(b):\n",
        "    b[0] = None\n",
        "\n",
        "a = [1, 2, 3]\n",
        "# a = (1, 2, 3)\n",
        "Func(a)\n",
        "print(a)"
      ],
      "metadata": {
        "colab": {
          "base_uri": "https://localhost:8080/"
        },
        "id": "5t1bM85Mm5Zi",
        "outputId": "43f8833b-49d6-4cec-80a4-64bbbc2e2624"
      },
      "execution_count": null,
      "outputs": [
        {
          "output_type": "stream",
          "name": "stdout",
          "text": [
            "[None, 2, 3]\n"
          ]
        }
      ]
    },
    {
      "cell_type": "markdown",
      "source": [
        "## Dictionaries\n",
        "\n",
        "Unlike sequences, which are indexed by a range of numbers (list, str, etc), dictionaries are indexed by keys, which can be any **immutable** type (strings, numbers, tuple, etc)\n",
        "\n",
        "`Dict = {key1:value1, key2:value2, key3:value3}`\n",
        "\n",
        "`Dict[key] => value`"
      ],
      "metadata": {
        "id": "tJb7lvfmA4K-"
      }
    },
    {
      "cell_type": "code",
      "source": [
        "per = {'name': 'dan','age':5, 'weight':3.2}\n",
        "print(per['name'])"
      ],
      "metadata": {
        "colab": {
          "base_uri": "https://localhost:8080/"
        },
        "id": "B6n50WW5iFDi",
        "outputId": "571eabdd-7089-4a8c-c710-08786769faf6"
      },
      "execution_count": null,
      "outputs": [
        {
          "output_type": "stream",
          "name": "stdout",
          "text": [
            "dan\n"
          ]
        }
      ]
    },
    {
      "cell_type": "code",
      "source": [
        "grades_dict = {\"dana\": 95,\n",
        "               \"moti\": 100,\n",
        "               \"yosi\": 90}\n",
        "\n",
        "print(grades_dict)\n",
        "\n",
        "print(grades_dict['yosi'])"
      ],
      "metadata": {
        "colab": {
          "base_uri": "https://localhost:8080/"
        },
        "id": "ZiDAnLVyTegq",
        "outputId": "ab7c188b-1212-4d0c-f90b-28919583447c"
      },
      "execution_count": null,
      "outputs": [
        {
          "output_type": "stream",
          "name": "stdout",
          "text": [
            "{'dana': 95, 'moti': 100, 'yosi': 90}\n",
            "90\n"
          ]
        }
      ]
    },
    {
      "cell_type": "code",
      "source": [
        "a = (5, 7)\n",
        "\n",
        "Dict = {5: 95,\n",
        "        \"moti\": [10, 25, 69],\n",
        "        a: 90}\n",
        "\n",
        "print(Dict)\n",
        "\n",
        "print(Dict['moti'])\n",
        "print(Dict[5])\n",
        "print(Dict[(5, 7)])"
      ],
      "metadata": {
        "colab": {
          "base_uri": "https://localhost:8080/"
        },
        "id": "SuXo64BQryee",
        "outputId": "eb704407-e706-4814-9ddf-06d245b0a646"
      },
      "execution_count": null,
      "outputs": [
        {
          "output_type": "stream",
          "name": "stdout",
          "text": [
            "{5: 95, 'moti': [10, 25, 69], (5, 7): 90}\n",
            "[10, 25, 69]\n",
            "95\n",
            "90\n"
          ]
        }
      ]
    },
    {
      "cell_type": "code",
      "source": [
        "grades_dict = {\"dana\": 95,\n",
        "               \"moti\": 100,\n",
        "               \"yosi\": 90}\n",
        "\n",
        "# grades_dict = {}\n",
        "\n",
        "print(grades_dict)\n",
        "\n",
        "grades_dict['yakir'] = 75\n",
        "\n",
        "print(grades_dict)\n",
        "\n",
        "grades_dict['yakir'] = 99\n",
        "\n",
        "print(grades_dict)"
      ],
      "metadata": {
        "colab": {
          "base_uri": "https://localhost:8080/"
        },
        "id": "HKbCpWM2oJEl",
        "outputId": "12c1434b-ab84-46b5-bcb6-5d7f8ea74278"
      },
      "execution_count": null,
      "outputs": [
        {
          "output_type": "stream",
          "name": "stdout",
          "text": [
            "{'dana': 95, 'moti': 100, 'yosi': 90}\n",
            "{'dana': 95, 'moti': 100, 'yosi': 90, 'yakir': 75}\n",
            "{'dana': 95, 'moti': 100, 'yosi': 90, 'yakir': 99}\n"
          ]
        }
      ]
    },
    {
      "cell_type": "code",
      "source": [
        "name = 'yakir'\n",
        "grad = grades_dict[name]\n",
        "print(f'{name} grad is {grad}')\n",
        "\n",
        "name = 'david'\n",
        "grad = grades_dict[name]\n",
        "print(f'{name} grad is {grad}')"
      ],
      "metadata": {
        "colab": {
          "base_uri": "https://localhost:8080/",
          "height": 236
        },
        "id": "8w5BmP4Tp218",
        "outputId": "523a6d31-36e4-4f3b-a295-050a52559445"
      },
      "execution_count": null,
      "outputs": [
        {
          "output_type": "stream",
          "name": "stdout",
          "text": [
            "yakir grad is 99\n"
          ]
        },
        {
          "output_type": "error",
          "ename": "KeyError",
          "evalue": "ignored",
          "traceback": [
            "\u001b[0;31m---------------------------------------------------------------------------\u001b[0m",
            "\u001b[0;31mKeyError\u001b[0m                                  Traceback (most recent call last)",
            "\u001b[0;32m<ipython-input-15-d9e099d6ee57>\u001b[0m in \u001b[0;36m<cell line: 6>\u001b[0;34m()\u001b[0m\n\u001b[1;32m      4\u001b[0m \u001b[0;34m\u001b[0m\u001b[0m\n\u001b[1;32m      5\u001b[0m \u001b[0mname\u001b[0m \u001b[0;34m=\u001b[0m \u001b[0;34m'david'\u001b[0m\u001b[0;34m\u001b[0m\u001b[0;34m\u001b[0m\u001b[0m\n\u001b[0;32m----> 6\u001b[0;31m \u001b[0mgrad\u001b[0m \u001b[0;34m=\u001b[0m \u001b[0mgrades_dict\u001b[0m\u001b[0;34m[\u001b[0m\u001b[0mname\u001b[0m\u001b[0;34m]\u001b[0m\u001b[0;34m\u001b[0m\u001b[0;34m\u001b[0m\u001b[0m\n\u001b[0m\u001b[1;32m      7\u001b[0m \u001b[0mprint\u001b[0m\u001b[0;34m(\u001b[0m\u001b[0;34mf'{name} grad is {grad}'\u001b[0m\u001b[0;34m)\u001b[0m\u001b[0;34m\u001b[0m\u001b[0;34m\u001b[0m\u001b[0m\n",
            "\u001b[0;31mKeyError\u001b[0m: 'david'"
          ]
        }
      ]
    },
    {
      "cell_type": "code",
      "source": [
        "def get(Dict, key, defult=None):\n",
        "    if key not in Dict:\n",
        "        value = defult\n",
        "    else:\n",
        "        value = Dict[key]\n",
        "\n",
        "    return value"
      ],
      "metadata": {
        "id": "Uvmxl_QDx7qm"
      },
      "execution_count": null,
      "outputs": []
    },
    {
      "cell_type": "code",
      "source": [
        "name = 'yakir'\n",
        "grad = grades_dict.get(name, 60)\n",
        "# grad = get(grades_dict, name, 100)\n",
        "print(f'{name} grad is {grad}')\n",
        "\n",
        "name = 'david'\n",
        "grad = grades_dict.get(name, 60)\n",
        "# grad = get(grades_dict, name, 100)\n",
        "print(f'{name} grad is {grad}')"
      ],
      "metadata": {
        "colab": {
          "base_uri": "https://localhost:8080/"
        },
        "id": "b1RAEXaco2DO",
        "outputId": "a374a8cd-6dd9-4eae-d709-35e9a92ff120"
      },
      "execution_count": null,
      "outputs": [
        {
          "output_type": "stream",
          "name": "stdout",
          "text": [
            "yakir grad is 99\n",
            "david grad is 60\n"
          ]
        }
      ]
    },
    {
      "cell_type": "code",
      "source": [
        "def setdefault(Dict, key, defult):\n",
        "    if key not in Dict:\n",
        "        Dict[key] = defult\n",
        "\n",
        "    return Dict[key]"
      ],
      "metadata": {
        "id": "ihwRbDyQfdhm"
      },
      "execution_count": null,
      "outputs": []
    },
    {
      "cell_type": "code",
      "source": [
        "grades_dict = {\"dana\": 95,\n",
        "               \"moti\": 100,\n",
        "               \"yosi\": 90}\n",
        "\n",
        "print(grades_dict)\n",
        "\n",
        "name = 'yosi'\n",
        "grad = grades_dict.setdefault(name, 60)\n",
        "print(grad)\n",
        "\n",
        "print(grades_dict)\n",
        "\n",
        "name = 'david'\n",
        "grad = grades_dict.setdefault(name, 60)\n",
        "print(grad)\n",
        "print(grades_dict)"
      ],
      "metadata": {
        "colab": {
          "base_uri": "https://localhost:8080/"
        },
        "id": "W0ILbqITp900",
        "outputId": "764757dc-bd9c-4dc8-eb34-449284c3bb90"
      },
      "execution_count": null,
      "outputs": [
        {
          "output_type": "stream",
          "name": "stdout",
          "text": [
            "{'dana': 95, 'moti': 100, 'yosi': 90}\n",
            "90\n",
            "{'dana': 95, 'moti': 100, 'yosi': 90}\n",
            "60\n",
            "{'dana': 95, 'moti': 100, 'yosi': 90, 'david': 60}\n"
          ]
        }
      ]
    },
    {
      "cell_type": "code",
      "source": [
        "for key in grades_dict.keys():\n",
        "    print(key)\n",
        "\n",
        "print(' ')\n",
        "for value in grades_dict.values():\n",
        "    print(value)\n",
        "\n",
        "print(' ')\n",
        "for k, v in zip(grades_dict.keys(), grades_dict.values()):\n",
        "    print(k, v)\n",
        "\n",
        "# grades_dict.items() = zip(grades_dict.keys(), grades_dict.values())\n",
        "for k, v in grades_dict.items():\n",
        "    print(k, v)"
      ],
      "metadata": {
        "colab": {
          "base_uri": "https://localhost:8080/"
        },
        "id": "rcQt6YKwqwkW",
        "outputId": "28b9abf5-fed6-4750-87cd-ccb04be00eca"
      },
      "execution_count": null,
      "outputs": [
        {
          "output_type": "stream",
          "name": "stdout",
          "text": [
            "dana\n",
            "moti\n",
            "yosi\n",
            "david\n",
            " \n",
            "95\n",
            "100\n",
            "90\n",
            "60\n",
            " \n",
            "dana 95\n",
            "moti 100\n",
            "yosi 90\n",
            "david 60\n",
            "dana 95\n",
            "moti 100\n",
            "yosi 90\n",
            "david 60\n"
          ]
        }
      ]
    },
    {
      "cell_type": "code",
      "source": [
        "david_grad = grades_dict.pop('david')\n",
        "\n",
        "grades_dict"
      ],
      "metadata": {
        "colab": {
          "base_uri": "https://localhost:8080/"
        },
        "id": "o8lO4_gHrZHy",
        "outputId": "73c04dd5-1a38-421c-d4e8-fa9b6f881ff0"
      },
      "execution_count": null,
      "outputs": [
        {
          "output_type": "execute_result",
          "data": {
            "text/plain": [
              "{'dana': 95, 'moti': 100, 'yosi': 90}"
            ]
          },
          "metadata": {},
          "execution_count": 20
        }
      ]
    },
    {
      "cell_type": "markdown",
      "source": [
        "## Sets"
      ],
      "metadata": {
        "id": "7wWmUetGA4NU"
      }
    },
    {
      "cell_type": "code",
      "source": [
        "s = {1, 2, 3, 4, 4, 4, 4, 4, 4, 4, 3, 'ya', 'ya'}\n",
        "print(s)"
      ],
      "metadata": {
        "colab": {
          "base_uri": "https://localhost:8080/"
        },
        "id": "DpFd94VssDpA",
        "outputId": "3dee682c-0152-4afc-fc67-af3517e67dea"
      },
      "execution_count": null,
      "outputs": [
        {
          "output_type": "stream",
          "name": "stdout",
          "text": [
            "{1, 2, 3, 4, 'ya'}\n"
          ]
        }
      ]
    },
    {
      "cell_type": "code",
      "source": [
        "s.add(7)\n",
        "print(s)\n",
        "s.add(6)\n",
        "print(s)\n",
        "s.add(3)\n",
        "print(s)"
      ],
      "metadata": {
        "colab": {
          "base_uri": "https://localhost:8080/"
        },
        "id": "llIxLSodslYF",
        "outputId": "a55cc107-eda1-4a5f-ad28-eee61e4a76b4"
      },
      "execution_count": null,
      "outputs": [
        {
          "output_type": "stream",
          "name": "stdout",
          "text": [
            "{1, 2, 3, 4, 7, 'ya'}\n",
            "{1, 2, 3, 4, 6, 7, 'ya'}\n",
            "{1, 2, 3, 4, 6, 7, 'ya'}\n"
          ]
        }
      ]
    },
    {
      "cell_type": "code",
      "source": [
        "a = [1, 2, 3, 3, 5, 3, 4]\n",
        "print(a)\n",
        "\n",
        "b = set(a)\n",
        "print(b)\n",
        "\n",
        "c = list(b)\n",
        "print(c)"
      ],
      "metadata": {
        "colab": {
          "base_uri": "https://localhost:8080/"
        },
        "id": "8mzRQ4Fps4EJ",
        "outputId": "8907584a-cdc6-4360-ec6f-92ff058414fc"
      },
      "execution_count": null,
      "outputs": [
        {
          "output_type": "stream",
          "name": "stdout",
          "text": [
            "[1, 2, 3, 3, 5, 3, 4]\n",
            "{1, 2, 3, 4, 5}\n",
            "[1, 2, 3, 4, 5]\n"
          ]
        }
      ]
    }
  ]
}