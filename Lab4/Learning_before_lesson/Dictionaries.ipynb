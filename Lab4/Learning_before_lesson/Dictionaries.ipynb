{
  "nbformat": 4,
  "nbformat_minor": 0,
  "metadata": {
    "colab": {
      "provenance": []
    },
    "kernelspec": {
      "name": "python3",
      "display_name": "Python 3"
    },
    "language_info": {
      "name": "python"
    }
  },
  "cells": [
    {
      "cell_type": "markdown",
      "source": [
        "## Dictionaries\n",
        "\n",
        "Unlike sequences, which are indexed by a range of numbers (list, str, etc), dictionaries are indexed by keys, which can be any **immutable** type (strings, numbers, tuple, etc)\n",
        "\n",
        "`Dict = {key1:value1, key2:value2, key3:value3}`\n",
        "\n",
        "`Dict[key] => value`"
      ],
      "metadata": {
        "id": "tJb7lvfmA4K-"
      }
    },
    {
      "cell_type": "code",
      "source": [
        "per = {'name': 'dan','age':5, 'weight':3.2}\n",
        "print(per['name'])"
      ],
      "metadata": {
        "colab": {
          "base_uri": "https://localhost:8080/"
        },
        "id": "B6n50WW5iFDi",
        "outputId": "571eabdd-7089-4a8c-c710-08786769faf6"
      },
      "execution_count": null,
      "outputs": [
        {
          "output_type": "stream",
          "name": "stdout",
          "text": [
            "dan\n"
          ]
        }
      ]
    },
    {
      "cell_type": "code",
      "source": [
        "grades_dict = {\"dana\": 95,\n",
        "               \"moti\": 100,\n",
        "               \"yosi\": 90}\n",
        "\n",
        "print(grades_dict)\n",
        "\n",
        "print(grades_dict['yosi'])"
      ],
      "metadata": {
        "colab": {
          "base_uri": "https://localhost:8080/"
        },
        "id": "ZiDAnLVyTegq",
        "outputId": "ab7c188b-1212-4d0c-f90b-28919583447c"
      },
      "execution_count": null,
      "outputs": [
        {
          "output_type": "stream",
          "name": "stdout",
          "text": [
            "{'dana': 95, 'moti': 100, 'yosi': 90}\n",
            "90\n"
          ]
        }
      ]
    },
    {
      "cell_type": "code",
      "source": [
        "a = (5, 7)\n",
        "\n",
        "Dict = {5: 95,\n",
        "        \"moti\": [10, 25, 69],\n",
        "        a: 90}\n",
        "\n",
        "print(Dict)\n",
        "\n",
        "print(Dict['moti'])\n",
        "print(Dict[5])\n",
        "print(Dict[(5, 7)])"
      ],
      "metadata": {
        "colab": {
          "base_uri": "https://localhost:8080/"
        },
        "id": "SuXo64BQryee",
        "outputId": "eb704407-e706-4814-9ddf-06d245b0a646"
      },
      "execution_count": null,
      "outputs": [
        {
          "output_type": "stream",
          "name": "stdout",
          "text": [
            "{5: 95, 'moti': [10, 25, 69], (5, 7): 90}\n",
            "[10, 25, 69]\n",
            "95\n",
            "90\n"
          ]
        }
      ]
    },
    {
      "cell_type": "code",
      "source": [
        "grades_dict = {\"dana\": 95,\n",
        "               \"moti\": 100,\n",
        "               \"yosi\": 90}\n",
        "\n",
        "# grades_dict = {}\n",
        "\n",
        "print(grades_dict)\n",
        "\n",
        "grades_dict['yakir'] = 75\n",
        "\n",
        "print(grades_dict)\n",
        "\n",
        "grades_dict['yakir'] = 99\n",
        "\n",
        "print(grades_dict)"
      ],
      "metadata": {
        "colab": {
          "base_uri": "https://localhost:8080/"
        },
        "id": "HKbCpWM2oJEl",
        "outputId": "12c1434b-ab84-46b5-bcb6-5d7f8ea74278"
      },
      "execution_count": null,
      "outputs": [
        {
          "output_type": "stream",
          "name": "stdout",
          "text": [
            "{'dana': 95, 'moti': 100, 'yosi': 90}\n",
            "{'dana': 95, 'moti': 100, 'yosi': 90, 'yakir': 75}\n",
            "{'dana': 95, 'moti': 100, 'yosi': 90, 'yakir': 99}\n"
          ]
        }
      ]
    },
    {
      "cell_type": "code",
      "source": [
        "name = 'yakir'\n",
        "grad = grades_dict[name]\n",
        "print(f'{name} grad is {grad}')\n",
        "\n",
        "name = 'david'\n",
        "grad = grades_dict[name]\n",
        "print(f'{name} grad is {grad}')"
      ],
      "metadata": {
        "colab": {
          "base_uri": "https://localhost:8080/",
          "height": 236
        },
        "id": "8w5BmP4Tp218",
        "outputId": "523a6d31-36e4-4f3b-a295-050a52559445"
      },
      "execution_count": null,
      "outputs": [
        {
          "output_type": "stream",
          "name": "stdout",
          "text": [
            "yakir grad is 99\n"
          ]
        },
        {
          "output_type": "error",
          "ename": "KeyError",
          "evalue": "ignored",
          "traceback": [
            "\u001b[0;31m---------------------------------------------------------------------------\u001b[0m",
            "\u001b[0;31mKeyError\u001b[0m                                  Traceback (most recent call last)",
            "\u001b[0;32m<ipython-input-15-d9e099d6ee57>\u001b[0m in \u001b[0;36m<cell line: 6>\u001b[0;34m()\u001b[0m\n\u001b[1;32m      4\u001b[0m \u001b[0;34m\u001b[0m\u001b[0m\n\u001b[1;32m      5\u001b[0m \u001b[0mname\u001b[0m \u001b[0;34m=\u001b[0m \u001b[0;34m'david'\u001b[0m\u001b[0;34m\u001b[0m\u001b[0;34m\u001b[0m\u001b[0m\n\u001b[0;32m----> 6\u001b[0;31m \u001b[0mgrad\u001b[0m \u001b[0;34m=\u001b[0m \u001b[0mgrades_dict\u001b[0m\u001b[0;34m[\u001b[0m\u001b[0mname\u001b[0m\u001b[0;34m]\u001b[0m\u001b[0;34m\u001b[0m\u001b[0;34m\u001b[0m\u001b[0m\n\u001b[0m\u001b[1;32m      7\u001b[0m \u001b[0mprint\u001b[0m\u001b[0;34m(\u001b[0m\u001b[0;34mf'{name} grad is {grad}'\u001b[0m\u001b[0;34m)\u001b[0m\u001b[0;34m\u001b[0m\u001b[0;34m\u001b[0m\u001b[0m\n",
            "\u001b[0;31mKeyError\u001b[0m: 'david'"
          ]
        }
      ]
    },
    {
      "cell_type": "code",
      "source": [
        "def get(Dict, key, defult=None):\n",
        "    if key not in Dict:\n",
        "        value = defult\n",
        "    else:\n",
        "        value = Dict[key]\n",
        "\n",
        "    return value"
      ],
      "metadata": {
        "id": "Uvmxl_QDx7qm"
      },
      "execution_count": null,
      "outputs": []
    },
    {
      "cell_type": "code",
      "source": [
        "name = 'yakir'\n",
        "grad = grades_dict.get(name, 60)\n",
        "# grad = get(grades_dict, name, 100)\n",
        "print(f'{name} grad is {grad}')\n",
        "\n",
        "name = 'david'\n",
        "grad = grades_dict.get(name, 60)\n",
        "# grad = get(grades_dict, name, 100)\n",
        "print(f'{name} grad is {grad}')"
      ],
      "metadata": {
        "colab": {
          "base_uri": "https://localhost:8080/"
        },
        "id": "b1RAEXaco2DO",
        "outputId": "a374a8cd-6dd9-4eae-d709-35e9a92ff120"
      },
      "execution_count": null,
      "outputs": [
        {
          "output_type": "stream",
          "name": "stdout",
          "text": [
            "yakir grad is 99\n",
            "david grad is 60\n"
          ]
        }
      ]
    },
    {
      "cell_type": "code",
      "source": [
        "def setdefault(Dict, key, defult):\n",
        "    if key not in Dict:\n",
        "        Dict[key] = defult\n",
        "\n",
        "    return Dict[key]"
      ],
      "metadata": {
        "id": "ihwRbDyQfdhm"
      },
      "execution_count": null,
      "outputs": []
    },
    {
      "cell_type": "code",
      "source": [
        "grades_dict = {\"dana\": 95,\n",
        "               \"moti\": 100,\n",
        "               \"yosi\": 90}\n",
        "\n",
        "print(grades_dict)\n",
        "\n",
        "name = 'yosi'\n",
        "grad = grades_dict.setdefault(name, 60)\n",
        "print(grad)\n",
        "\n",
        "print(grades_dict)\n",
        "\n",
        "name = 'david'\n",
        "grad = grades_dict.setdefault(name, 60)\n",
        "print(grad)\n",
        "print(grades_dict)"
      ],
      "metadata": {
        "colab": {
          "base_uri": "https://localhost:8080/"
        },
        "id": "W0ILbqITp900",
        "outputId": "764757dc-bd9c-4dc8-eb34-449284c3bb90"
      },
      "execution_count": null,
      "outputs": [
        {
          "output_type": "stream",
          "name": "stdout",
          "text": [
            "{'dana': 95, 'moti': 100, 'yosi': 90}\n",
            "90\n",
            "{'dana': 95, 'moti': 100, 'yosi': 90}\n",
            "60\n",
            "{'dana': 95, 'moti': 100, 'yosi': 90, 'david': 60}\n"
          ]
        }
      ]
    },
    {
      "cell_type": "code",
      "source": [
        "for key in grades_dict.keys():\n",
        "    print(key)\n",
        "\n",
        "print(' ')\n",
        "for value in grades_dict.values():\n",
        "    print(value)\n",
        "\n",
        "print(' ')\n",
        "for k, v in zip(grades_dict.keys(), grades_dict.values()):\n",
        "    print(k, v)\n",
        "\n",
        "# grades_dict.items() = zip(grades_dict.keys(), grades_dict.values())\n",
        "for k, v in grades_dict.items():\n",
        "    print(k, v)"
      ],
      "metadata": {
        "colab": {
          "base_uri": "https://localhost:8080/"
        },
        "id": "rcQt6YKwqwkW",
        "outputId": "28b9abf5-fed6-4750-87cd-ccb04be00eca"
      },
      "execution_count": null,
      "outputs": [
        {
          "output_type": "stream",
          "name": "stdout",
          "text": [
            "dana\n",
            "moti\n",
            "yosi\n",
            "david\n",
            " \n",
            "95\n",
            "100\n",
            "90\n",
            "60\n",
            " \n",
            "dana 95\n",
            "moti 100\n",
            "yosi 90\n",
            "david 60\n",
            "dana 95\n",
            "moti 100\n",
            "yosi 90\n",
            "david 60\n"
          ]
        }
      ]
    },
    {
      "cell_type": "code",
      "source": [
        "david_grad = grades_dict.pop('david')\n",
        "\n",
        "grades_dict"
      ],
      "metadata": {
        "colab": {
          "base_uri": "https://localhost:8080/"
        },
        "id": "o8lO4_gHrZHy",
        "outputId": "73c04dd5-1a38-421c-d4e8-fa9b6f881ff0"
      },
      "execution_count": null,
      "outputs": [
        {
          "output_type": "execute_result",
          "data": {
            "text/plain": [
              "{'dana': 95, 'moti': 100, 'yosi': 90}"
            ]
          },
          "metadata": {},
          "execution_count": 20
        }
      ]
    },
    {
      "cell_type": "markdown",
      "source": [
        "## Sets"
      ],
      "metadata": {
        "id": "7wWmUetGA4NU"
      }
    },
    {
      "cell_type": "code",
      "source": [
        "s = {1, 2, 3, 4, 4, 4, 4, 4, 4, 4, 3, 'ya', 'ya'}\n",
        "print(s)"
      ],
      "metadata": {
        "colab": {
          "base_uri": "https://localhost:8080/"
        },
        "id": "DpFd94VssDpA",
        "outputId": "3dee682c-0152-4afc-fc67-af3517e67dea"
      },
      "execution_count": null,
      "outputs": [
        {
          "output_type": "stream",
          "name": "stdout",
          "text": [
            "{1, 2, 3, 4, 'ya'}\n"
          ]
        }
      ]
    },
    {
      "cell_type": "code",
      "source": [
        "s.add(7)\n",
        "print(s)\n",
        "s.add(6)\n",
        "print(s)\n",
        "s.add(3)\n",
        "print(s)"
      ],
      "metadata": {
        "colab": {
          "base_uri": "https://localhost:8080/"
        },
        "id": "llIxLSodslYF",
        "outputId": "a55cc107-eda1-4a5f-ad28-eee61e4a76b4"
      },
      "execution_count": null,
      "outputs": [
        {
          "output_type": "stream",
          "name": "stdout",
          "text": [
            "{1, 2, 3, 4, 7, 'ya'}\n",
            "{1, 2, 3, 4, 6, 7, 'ya'}\n",
            "{1, 2, 3, 4, 6, 7, 'ya'}\n"
          ]
        }
      ]
    },
    {
      "cell_type": "code",
      "source": [
        "a = [1, 2, 3, 3, 5, 3, 4]\n",
        "print(a)\n",
        "\n",
        "b = set(a)\n",
        "print(b)\n",
        "\n",
        "c = list(b)\n",
        "print(c)"
      ],
      "metadata": {
        "colab": {
          "base_uri": "https://localhost:8080/"
        },
        "id": "8mzRQ4Fps4EJ",
        "outputId": "8907584a-cdc6-4360-ec6f-92ff058414fc"
      },
      "execution_count": null,
      "outputs": [
        {
          "output_type": "stream",
          "name": "stdout",
          "text": [
            "[1, 2, 3, 3, 5, 3, 4]\n",
            "{1, 2, 3, 4, 5}\n",
            "[1, 2, 3, 4, 5]\n"
          ]
        }
      ]
    }
  ]
}