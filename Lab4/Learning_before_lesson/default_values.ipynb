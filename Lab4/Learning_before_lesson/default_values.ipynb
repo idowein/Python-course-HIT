{
  "nbformat": 4,
  "nbformat_minor": 0,
  "metadata": {
    "colab": {
      "provenance": []
    },
    "kernelspec": {
      "name": "python3",
      "display_name": "Python 3"
    },
    "language_info": {
      "name": "python"
    }
  },
  "cells": [
    {
      "cell_type": "markdown",
      "source": [
        "# Lesson 9: default values"
      ],
      "metadata": {
        "id": "aAyfCQk-Nnnz"
      }
    },
    {
      "cell_type": "markdown",
      "source": [
        "## Functions Default Parameter Value"
      ],
      "metadata": {
        "id": "OYVLiEzjNrjK"
      }
    },
    {
      "cell_type": "markdown",
      "source": [
        "When defining a function in a normal way, the number of arguments defined for the function is the number that must be passed to the function each time it is called"
      ],
      "metadata": {
        "id": "ul3GjEuXTxoL"
      }
    },
    {
      "cell_type": "code",
      "source": [
        "def Func_Name(a, b, c):\n",
        "    print('a =', a)\n",
        "    print('b =', b)\n",
        "    print('c =', c)\n",
        "\n",
        "\n",
        "Func_Name(5, 8, 6)"
      ],
      "metadata": {
        "colab": {
          "base_uri": "https://localhost:8080/",
          "height": 200
        },
        "id": "fk3fBZ2IssSI",
        "outputId": "e270e1d8-9de7-4be6-a71a-cd8cfa6a9894"
      },
      "execution_count": null,
      "outputs": [
        {
          "output_type": "error",
          "ename": "TypeError",
          "evalue": "ignored",
          "traceback": [
            "\u001b[0;31m---------------------------------------------------------------------------\u001b[0m",
            "\u001b[0;31mTypeError\u001b[0m                                 Traceback (most recent call last)",
            "\u001b[0;32m<ipython-input-2-e7bb0ba3a872>\u001b[0m in \u001b[0;36m<cell line: 7>\u001b[0;34m()\u001b[0m\n\u001b[1;32m      5\u001b[0m \u001b[0;34m\u001b[0m\u001b[0m\n\u001b[1;32m      6\u001b[0m \u001b[0;34m\u001b[0m\u001b[0m\n\u001b[0;32m----> 7\u001b[0;31m \u001b[0mFunc_Name\u001b[0m\u001b[0;34m(\u001b[0m\u001b[0;36m5\u001b[0m\u001b[0;34m,\u001b[0m \u001b[0;36m8\u001b[0m\u001b[0;34m,\u001b[0m \u001b[0;36m8\u001b[0m\u001b[0;34m,\u001b[0m \u001b[0;36m6\u001b[0m\u001b[0;34m)\u001b[0m\u001b[0;34m\u001b[0m\u001b[0;34m\u001b[0m\u001b[0m\n\u001b[0m",
            "\u001b[0;31mTypeError\u001b[0m: Func_Name() takes 3 positional arguments but 4 were given"
          ]
        }
      ]
    },
    {
      "cell_type": "markdown",
      "source": [
        "Attempting to pass to the function more or less arguments than what was defined for it will lead to a crash."
      ],
      "metadata": {
        "id": "wHS87psiUTh2"
      }
    },
    {
      "cell_type": "code",
      "source": [
        "Func_Name(5, 5, 6, 8) # Func_Name() takes 3 positional arguments but 4 were given"
      ],
      "metadata": {
        "colab": {
          "base_uri": "https://localhost:8080/",
          "height": 165
        },
        "id": "iEVxp1wPQ73-",
        "outputId": "b9c3cfe2-b556-4e28-8842-b33652a32cd7"
      },
      "execution_count": null,
      "outputs": [
        {
          "output_type": "error",
          "ename": "TypeError",
          "evalue": "ignored",
          "traceback": [
            "\u001b[0;31m---------------------------------------------------------------------------\u001b[0m",
            "\u001b[0;31mTypeError\u001b[0m                                 Traceback (most recent call last)",
            "\u001b[0;32m<ipython-input-2-329cc6dfedba>\u001b[0m in \u001b[0;36m<cell line: 1>\u001b[0;34m()\u001b[0m\n\u001b[0;32m----> 1\u001b[0;31m \u001b[0mFunc_Name\u001b[0m\u001b[0;34m(\u001b[0m\u001b[0;36m5\u001b[0m\u001b[0;34m,\u001b[0m \u001b[0;36m5\u001b[0m\u001b[0;34m,\u001b[0m \u001b[0;36m6\u001b[0m\u001b[0;34m,\u001b[0m \u001b[0;36m8\u001b[0m\u001b[0;34m)\u001b[0m\u001b[0;34m\u001b[0m\u001b[0;34m\u001b[0m\u001b[0m\n\u001b[0m",
            "\u001b[0;31mTypeError\u001b[0m: Func_Name() takes 3 positional arguments but 4 were given"
          ]
        }
      ]
    },
    {
      "cell_type": "code",
      "source": [
        "Func_Name(5) # Func_Name() missing 2 required positional arguments: 'b' and 'c'"
      ],
      "metadata": {
        "colab": {
          "base_uri": "https://localhost:8080/",
          "height": 166
        },
        "id": "YxfjWvBkTrvL",
        "outputId": "8d808d92-1c59-4f6d-cf0e-88dfb0f2b96a"
      },
      "execution_count": null,
      "outputs": [
        {
          "output_type": "error",
          "ename": "TypeError",
          "evalue": "ignored",
          "traceback": [
            "\u001b[0;31m---------------------------------------------------------------------------\u001b[0m",
            "\u001b[0;31mTypeError\u001b[0m                                 Traceback (most recent call last)",
            "\u001b[0;32m<ipython-input-2-647690ae386c>\u001b[0m in \u001b[0;36m<cell line: 1>\u001b[0;34m()\u001b[0m\n\u001b[0;32m----> 1\u001b[0;31m \u001b[0mFunc_Name\u001b[0m\u001b[0;34m(\u001b[0m\u001b[0;36m5\u001b[0m\u001b[0;34m)\u001b[0m \u001b[0;31m# Func_Name() missing 2 required positional arguments: 'b' and 'c'\u001b[0m\u001b[0;34m\u001b[0m\u001b[0;34m\u001b[0m\u001b[0m\n\u001b[0m",
            "\u001b[0;31mTypeError\u001b[0m: Func_Name() missing 2 required positional arguments: 'b' and 'c'"
          ]
        }
      ]
    },
    {
      "cell_type": "code",
      "source": [
        "help(print)"
      ],
      "metadata": {
        "colab": {
          "base_uri": "https://localhost:8080/"
        },
        "id": "W_FseCSPVU2V",
        "outputId": "d03ae99b-2d14-40e3-e89a-9b64a49486fb"
      },
      "execution_count": null,
      "outputs": [
        {
          "output_type": "stream",
          "name": "stdout",
          "text": [
            "Help on built-in function print in module builtins:\n",
            "\n",
            "print(...)\n",
            "    print(value, ..., sep=' ', end='\\n', file=sys.stdout, flush=False)\n",
            "    \n",
            "    Prints the values to a stream, or to sys.stdout by default.\n",
            "    Optional keyword arguments:\n",
            "    file:  a file-like object (stream); defaults to the current sys.stdout.\n",
            "    sep:   string inserted between values, default a space.\n",
            "    end:   string appended after the last value, default a newline.\n",
            "    flush: whether to forcibly flush the stream.\n",
            "\n"
          ]
        }
      ]
    },
    {
      "cell_type": "code",
      "source": [
        "print(1, 2, 3)\n",
        "print(6, 5, 4)"
      ],
      "metadata": {
        "colab": {
          "base_uri": "https://localhost:8080/"
        },
        "id": "i-kgLlA_R9UV",
        "outputId": "dbc5e9fc-023a-400f-b2aa-302effb38f72"
      },
      "execution_count": null,
      "outputs": [
        {
          "output_type": "stream",
          "name": "stdout",
          "text": [
            "1 2 3\n",
            "6 5 4\n"
          ]
        }
      ]
    },
    {
      "cell_type": "markdown",
      "source": [
        "You can see with the help function that the default printing function that adds a space between each pair of objects and a new line after printing all the objects can be changed\n",
        "\n",
        "* To change the printed character between the objects, the argument `sep` must be changed.\n",
        "\n",
        "* To change the printed new line ('\\n') after the last object, the argument `end` must be changed."
      ],
      "metadata": {
        "id": "3kAt5l-HVY9Q"
      }
    },
    {
      "cell_type": "code",
      "source": [
        "print(5, 8, 6, sep=' *** ', end='\\nend\\n')"
      ],
      "metadata": {
        "colab": {
          "base_uri": "https://localhost:8080/"
        },
        "id": "SooBSYmtVljS",
        "outputId": "ca429c2d-8fe9-49d3-eb12-89f2cbd7e2bc"
      },
      "execution_count": null,
      "outputs": [
        {
          "output_type": "stream",
          "name": "stdout",
          "text": [
            "5 *** 8 *** 6\n",
            "end\n"
          ]
        }
      ]
    },
    {
      "cell_type": "markdown",
      "source": [
        "Even for user-defined functions there is an option to define default parameter values."
      ],
      "metadata": {
        "id": "fxilQj3YWJmg"
      }
    },
    {
      "cell_type": "code",
      "source": [
        "def convert_12_clock(hour, day_period=\"AM\"):\n",
        "    if day_period == 'AM':\n",
        "        return hour\n",
        "    return hour + 12"
      ],
      "metadata": {
        "id": "dQui-NdcXtGP"
      },
      "execution_count": null,
      "outputs": []
    },
    {
      "cell_type": "code",
      "source": [
        "print(convert_12_clock(11.5))\n",
        "print(convert_12_clock(11.5, 'AM'))\n",
        "print(convert_12_clock(11.5, 'PM'))"
      ],
      "metadata": {
        "colab": {
          "base_uri": "https://localhost:8080/"
        },
        "id": "1v6x7zNkZ46c",
        "outputId": "d8ebdaea-0e5f-4818-8a68-2696c9cf41e6"
      },
      "execution_count": null,
      "outputs": [
        {
          "output_type": "stream",
          "name": "stdout",
          "text": [
            "11.5\n",
            "11.5\n",
            "23.5\n"
          ]
        }
      ]
    },
    {
      "cell_type": "markdown",
      "source": [
        "Since no default has been set for the `hour` variable, it is required to pass the function at least one parameter.\n",
        "\n",
        "Attempting to call the function without passing any parameters at all will lead to a crash"
      ],
      "metadata": {
        "id": "boeCw6-kav41"
      }
    },
    {
      "cell_type": "code",
      "source": [
        "print(convert_12_clock())"
      ],
      "metadata": {
        "colab": {
          "base_uri": "https://localhost:8080/",
          "height": 165
        },
        "id": "8CEafrCaau8X",
        "outputId": "a81fbf63-f1b2-4575-cd52-9497983e7a77"
      },
      "execution_count": null,
      "outputs": [
        {
          "output_type": "error",
          "ename": "TypeError",
          "evalue": "ignored",
          "traceback": [
            "\u001b[0;31m---------------------------------------------------------------------------\u001b[0m",
            "\u001b[0;31mTypeError\u001b[0m                                 Traceback (most recent call last)",
            "\u001b[0;32m<ipython-input-19-9f4f5042689c>\u001b[0m in \u001b[0;36m<cell line: 1>\u001b[0;34m()\u001b[0m\n\u001b[0;32m----> 1\u001b[0;31m \u001b[0mprint\u001b[0m\u001b[0;34m(\u001b[0m\u001b[0mconvert_12_clock\u001b[0m\u001b[0;34m(\u001b[0m\u001b[0;34m)\u001b[0m\u001b[0;34m)\u001b[0m\u001b[0;34m\u001b[0m\u001b[0;34m\u001b[0m\u001b[0m\n\u001b[0m",
            "\u001b[0;31mTypeError\u001b[0m: convert_12_clock() missing 1 required positional argument: 'hour'"
          ]
        }
      ]
    },
    {
      "cell_type": "code",
      "source": [
        "def Func_Name(a, b=0, c=None):\n",
        "  if c is None:\n",
        "    flag_c = 0\n",
        "    c = 0\n",
        "  else:\n",
        "    flag_c = 1\n",
        "\n",
        "  print('a =', a)\n",
        "  print('b =', b)\n",
        "  if flag_c == 0:\n",
        "    print('c is default: ', end='')\n",
        "  print('c =', c)\n",
        "\n",
        "print('I:')\n",
        "Func_Name(4, 8)\n",
        "\n",
        "print('\\nII:')\n",
        "Func_Name(4, 8, 0)\n"
      ],
      "metadata": {
        "colab": {
          "base_uri": "https://localhost:8080/"
        },
        "id": "Te6LwUs5uOoH",
        "outputId": "f53f44bb-0a88-490e-b5dc-c23e19290100"
      },
      "execution_count": null,
      "outputs": [
        {
          "output_type": "stream",
          "name": "stdout",
          "text": [
            "I:\n",
            "a = 4\n",
            "b = 8\n",
            "c is default: c = 0\n",
            "\n",
            "II:\n",
            "a = 4\n",
            "b = 8\n",
            "c = 0\n"
          ]
        }
      ]
    },
    {
      "cell_type": "code",
      "source": [
        "Func_Name(c = 5, a = 6)"
      ],
      "metadata": {
        "colab": {
          "base_uri": "https://localhost:8080/"
        },
        "id": "SDWI4QkPUAjP",
        "outputId": "47d4ded0-6af2-4af4-b4c9-7e8f5ceceb5a"
      },
      "execution_count": null,
      "outputs": [
        {
          "output_type": "stream",
          "name": "stdout",
          "text": [
            "a = 6\n",
            "b = 0\n",
            "c = 5\n"
          ]
        }
      ]
    }
  ]
}