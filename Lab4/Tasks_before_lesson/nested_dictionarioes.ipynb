{
 "cells": [
  {
   "cell_type": "code",
   "execution_count": 1,
   "metadata": {},
   "outputs": [],
   "source": [
    "components = {\n",
    "    \"resistors\":{},\n",
    "    \"capacitors\":{},\n",
    "    \"inductors\":{}\n",
    "}\n",
    "\n",
    "components[\"resistors\"][\"R1\"] = [\"Carbon film\", \"100\", \"ohm\", 0.1]\n",
    "components[\"resistors\"][\"R2\"] = [\"Metal film\", \"1\", \"kohm\", 0.2]\n",
    "\n",
    "components[\"capacitors\"][\"C1\"] = [\"Ceramic\", \"10\", \"uF\", 0.8]\n",
    "components[\"capacitors\"][\"C2\"] = [\"Electrolyt\", \"100\", \"uF\", 0.8]\n",
    "\n",
    "components[\"inductors\"][\"L1\"] = [\"AirCore\", \"10\", \"uF\", 0.8]"
   ]
  },
  {
   "cell_type": "code",
   "execution_count": 3,
   "metadata": {},
   "outputs": [
    {
     "name": "stdout",
     "output_type": "stream",
     "text": [
      "{'resistors': {'R1': ['Carbon film', '100', 'ohm', 0.1], 'R2': ['Metal film', '1', 'kohm', 0.2]}, 'capacitors': {'C1': ['Ceramic', '10', 'uF', 0.8], 'C2': ['Electrolyt', '100', 'uF', 0.8]}, 'inductors': {'L1': ['AirCore', '10', 'uF', 0.8]}}\n",
      "Component type      Name      Description         Value     cost\n",
      "----------------------------------------------------------------------\n"
     ]
    }
   ],
   "source": [
    "print(components)\n",
    "print(\"Component type\".ljust(20), \"Name\".ljust(10), \"Description\".ljust(20), \"Value\".ljust(10), \"cost\", sep = '')\n",
    "print(\"-\"*70)"
   ]
  },
  {
   "cell_type": "code",
   "execution_count": 5,
   "metadata": {},
   "outputs": [
    {
     "name": "stdout",
     "output_type": "stream",
     "text": [
      "Resistors           R1        Carbon film         100       0.1\n",
      "Resistors           R2        Metal film          1         0.2\n",
      "Capacitors          C1        Ceramic             10        0.8\n",
      "Capacitors          C2        Electrolyt          100       0.8\n",
      "Inductors           L1        AirCore             10        0.8\n"
     ]
    }
   ],
   "source": [
    "for comp_type, comp_dict in components.items():\n",
    "    for comp_name, comp_data in comp_dict.items():\n",
    "        print(f\"{comp_type.capitalize().ljust(20)}{comp_name.ljust(10)}{comp_data[0].ljust(20)}{comp_data[1].ljust(10)}{comp_data[3]}\")"
   ]
  }
 ],
 "metadata": {
  "kernelspec": {
   "display_name": "Python 3",
   "language": "python",
   "name": "python3"
  },
  "language_info": {
   "codemirror_mode": {
    "name": "ipython",
    "version": 3
   },
   "file_extension": ".py",
   "mimetype": "text/x-python",
   "name": "python",
   "nbconvert_exporter": "python",
   "pygments_lexer": "ipython3",
   "version": "3.8.2"
  }
 },
 "nbformat": 4,
 "nbformat_minor": 2
}
