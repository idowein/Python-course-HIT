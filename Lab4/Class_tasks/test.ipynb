{
 "cells": [
  {
   "cell_type": "code",
   "execution_count": 15,
   "id": "0b00bf0c",
   "metadata": {},
   "outputs": [
    {
     "name": "stdout",
     "output_type": "stream",
     "text": [
      "None\n"
     ]
    }
   ],
   "source": [
    "my_dict = {'key1':'value1', 'key2':'value2'}\n",
    "value = my_dict.get('key3',None)\n",
    "print(value)"
   ]
  },
  {
   "cell_type": "code",
   "execution_count": 18,
   "id": "4833d2ba",
   "metadata": {},
   "outputs": [
    {
     "name": "stdout",
     "output_type": "stream",
     "text": [
      "{'key': 'new value'}\n"
     ]
    }
   ],
   "source": [
    "my_dict = {'key':'value'}\n",
    "my_dict[\"key\"] = \"new value\"\n",
    "print(my_dict)"
   ]
  },
  {
   "cell_type": "code",
   "execution_count": 19,
   "id": "39cfdef0",
   "metadata": {},
   "outputs": [
    {
     "name": "stdout",
     "output_type": "stream",
     "text": [
      "{'key': 'new value'}\n"
     ]
    }
   ],
   "source": [
    "my_dict = {'key':'value'}\n",
    "my_dict['key'] = 'new value'\n",
    "print(my_dict)"
   ]
  },
  {
   "cell_type": "code",
   "execution_count": 24,
   "id": "ba9b3fb7",
   "metadata": {},
   "outputs": [],
   "source": [
    "def func(num):\n",
    " return num+1\n"
   ]
  },
  {
   "cell_type": "code",
   "execution_count": 25,
   "id": "1f511692",
   "metadata": {},
   "outputs": [
    {
     "name": "stdout",
     "output_type": "stream",
     "text": [
      "[0, 1, 2, 3, 4, 5, 6, 7, 8, 9]\n"
     ]
    }
   ],
   "source": [
    "a = range(0,10,1)\n",
    "print(list(a))"
   ]
  },
  {
   "cell_type": "code",
   "execution_count": 27,
   "id": "ba170474",
   "metadata": {},
   "outputs": [
    {
     "name": "stdout",
     "output_type": "stream",
     "text": [
      "value\n"
     ]
    }
   ],
   "source": [
    "my_dict = {'key':'value'}\n",
    "value = my_dict['key']\n",
    "print(value)"
   ]
  },
  {
   "cell_type": "code",
   "execution_count": 31,
   "id": "b2f04354",
   "metadata": {},
   "outputs": [
    {
     "name": "stdout",
     "output_type": "stream",
     "text": [
      "Grade in dict!\n"
     ]
    }
   ],
   "source": [
    "grades_dict = {'Python': 100, 'Math': 95}\n",
    "if \"Python\" in grades_dict:\n",
    "    print(\"Grade in dict!\")"
   ]
  },
  {
   "cell_type": "code",
   "execution_count": 36,
   "id": "df1ae230",
   "metadata": {},
   "outputs": [
    {
     "ename": "TypeError",
     "evalue": "unhashable type: 'list'",
     "output_type": "error",
     "traceback": [
      "\u001b[31m---------------------------------------------------------------------------\u001b[39m",
      "\u001b[31mTypeError\u001b[39m                                 Traceback (most recent call last)",
      "\u001b[36mCell\u001b[39m\u001b[36m \u001b[39m\u001b[32mIn[36]\u001b[39m\u001b[32m, line 6\u001b[39m\n\u001b[32m      4\u001b[39m \u001b[38;5;28;01mfor\u001b[39;00m word \u001b[38;5;129;01min\u001b[39;00m words:\n\u001b[32m      5\u001b[39m     \u001b[38;5;28;01mif\u001b[39;00m word \u001b[38;5;129;01min\u001b[39;00m words:\n\u001b[32m----> \u001b[39m\u001b[32m6\u001b[39m         \u001b[43mword_counts\u001b[49m\u001b[43m[\u001b[49m\u001b[43mwords\u001b[49m\u001b[43m]\u001b[49m +=\u001b[32m1\u001b[39m\n\u001b[32m      7\u001b[39m     \u001b[38;5;28;01melse\u001b[39;00m:\n\u001b[32m      8\u001b[39m         word_counts[words] =\u001b[32m1\u001b[39m\n",
      "\u001b[31mTypeError\u001b[39m: unhashable type: 'list'"
     ]
    }
   ],
   "source": [
    "words = ['cat', 'dog', 'cat', 'bird', 'cat', 'bird']\n",
    "word_counts = {}\n",
    "\n",
    "for word in words:\n",
    "    if word in words:\n",
    "        word_counts[words] +=1\n",
    "    else:\n",
    "        word_counts[words] =1"
   ]
  },
  {
   "cell_type": "code",
   "execution_count": 41,
   "id": "2531671b",
   "metadata": {},
   "outputs": [
    {
     "data": {
      "text/plain": [
       "5"
      ]
     },
     "execution_count": 41,
     "metadata": {},
     "output_type": "execute_result"
    }
   ],
   "source": [
    "def count_digits(n):\n",
    "    count =0\n",
    "    while n != 0:\n",
    "        count += 1\n",
    "        n = n // 10\n",
    "    #print(count)\n",
    "    return count\n",
    "count_digits(45668)"
   ]
  }
 ],
 "metadata": {
  "kernelspec": {
   "display_name": "Python 3",
   "language": "python",
   "name": "python3"
  },
  "language_info": {
   "codemirror_mode": {
    "name": "ipython",
    "version": 3
   },
   "file_extension": ".py",
   "mimetype": "text/x-python",
   "name": "python",
   "nbconvert_exporter": "python",
   "pygments_lexer": "ipython3",
   "version": "3.12.6"
  }
 },
 "nbformat": 4,
 "nbformat_minor": 5
}
