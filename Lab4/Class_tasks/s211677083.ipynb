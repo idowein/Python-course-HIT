{
 "cells": [
  {
   "cell_type": "code",
   "execution_count": 2,
   "metadata": {},
   "outputs": [],
   "source": [
    "def myDictConst(myVal, myKey):\n",
    "    # Ensure both lists are of equal length\n",
    "    if len(myVal) != len(myKey):\n",
    "        raise ValueError(\"Both lists must have the same length.\")\n",
    "    \n",
    "    # Create the dictionary using zip\n",
    "    my_dict = dict(zip(myKey, myVal))\n",
    "    \n",
    "    return my_dict"
   ]
  },
  {
   "cell_type": "code",
   "execution_count": 3,
   "metadata": {},
   "outputs": [
    {
     "name": "stdout",
     "output_type": "stream",
     "text": [
      "{'b': 1, 'c': 2, 'd': 3, 12.3: 'a'}\n"
     ]
    }
   ],
   "source": [
    "# Example usage\n",
    "myVal = [1, 2, 3, 'a']\n",
    "myKey = ['b', 'c', 'd', 12.3]\n",
    "\n",
    "result = myDictConst(myVal, myKey)\n",
    "print(result)"
   ]
  },
  {
   "cell_type": "code",
   "execution_count": 4,
   "metadata": {},
   "outputs": [],
   "source": [
    "def countMyStrings(myStr):\n",
    "    # Normalize the string to lowercase and split into words\n",
    "    words = myStr.lower().split()\n",
    "    print(f\"Splitted words : {words}\")\n",
    "    \n",
    "    # Create a dictionary to count word occurrences\n",
    "    word_count = {}\n",
    "    for word in words:\n",
    "        if word in word_count:\n",
    "            word_count[word] += 1\n",
    "        else:\n",
    "            word_count[word] = 1\n",
    "    \n",
    "    return word_count"
   ]
  },
  {
   "cell_type": "code",
   "execution_count": 5,
   "metadata": {},
   "outputs": [
    {
     "name": "stdout",
     "output_type": "stream",
     "text": [
      "Splitted words : ['hello', 'hello', 'we', 'do', 'hi', 'no', 'no', 'no', 'we', 'donot', 'hey', 'he', 'he', 'hey']\n",
      "{'hello': 2, 'we': 2, 'do': 1, 'hi': 1, 'no': 3, 'donot': 1, 'hey': 2, 'he': 2}\n"
     ]
    }
   ],
   "source": [
    "# Example usage\n",
    "myStr = 'Hello Hello We Do Hi no No no we Donot Hey HE he hey'\n",
    "myDict = countMyStrings(myStr)\n",
    "print(myDict)"
   ]
  }
 ],
 "metadata": {
  "kernelspec": {
   "display_name": "Python 3",
   "language": "python",
   "name": "python3"
  },
  "language_info": {
   "codemirror_mode": {
    "name": "ipython",
    "version": 3
   },
   "file_extension": ".py",
   "mimetype": "text/x-python",
   "name": "python",
   "nbconvert_exporter": "python",
   "pygments_lexer": "ipython3",
   "version": "3.8.2"
  }
 },
 "nbformat": 4,
 "nbformat_minor": 2
}
