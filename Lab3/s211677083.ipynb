{
  "cells": [
    {
      "cell_type": "markdown",
      "metadata": {
        "deletable": false,
        "editable": false,
        "id": "cU4QFXVvfCjs"
      },
      "source": [
        "# preExperiment 4!\n",
        "rename the file name to 's' followed by your ID."
      ]
    },
    {
      "cell_type": "markdown",
      "metadata": {
        "deletable": false,
        "editable": false,
        "id": "_dHjEFQRfCjy"
      },
      "source": [
        "### question 1\n",
        "\n",
        "Open new code cell below this one and print the results of next expressions (each expression in his on line):\n",
        "\n",
        "    1) 1+2\n",
        "\n",
        "    2) 5*10\n",
        "\n",
        "    3) 5*10+7\n",
        "\n",
        "    4) 5*(10+7)\n",
        "\n",
        "    5) 10**2\n",
        "\n",
        "    6) 9**0.5\n",
        "\n",
        "    7) 77%2\n",
        "\n",
        "    8) 18//5"
      ]
    },
    {
      "cell_type": "code",
      "execution_count": 10,
      "metadata": {},
      "outputs": [
        {
          "name": "stdout",
          "output_type": "stream",
          "text": [
            "3\n",
            "50\n",
            "57\n",
            "85\n",
            "100\n",
            "3.0\n",
            "1\n",
            "3\n"
          ]
        }
      ],
      "source": [
        "print(1+2)\n",
        "print(5*10)\n",
        "print(5*10+7)\n",
        "print(5*(10+7))\n",
        "print(10**2)\n",
        "print(9**0.5)\n",
        "print(77%2)\n",
        "print(18//5)"
      ]
    },
    {
      "cell_type": "markdown",
      "metadata": {
        "deletable": false,
        "editable": false,
        "id": "KocqUNaNfCjz"
      },
      "source": [
        "### question 2\n",
        "Open new code cell below this one and use at least 4 mathematecal opretors on any numerical valus you prefer to get 85.75 as a rasult and print it."
      ]
    },
    {
      "cell_type": "code",
      "execution_count": null,
      "metadata": {},
      "outputs": [
        {
          "name": "stdout",
          "output_type": "stream",
          "text": [
            "85.75\n"
          ]
        }
      ],
      "source": [
        "# Using 4 mathematical operators to achieve the result 85.75\n",
        "result = (100-20) * 1.5 / 2 + 25.75\n",
        "print(result)  # Output: 85.75"
      ]
    },
    {
      "cell_type": "markdown",
      "metadata": {
        "deletable": false,
        "editable": false,
        "id": "D3zDGrizfCj1"
      },
      "source": [
        "### question 3\n",
        "\n",
        "Use object names to keep better track of what's going on in your code!\n",
        "\n",
        "Open new code cell below this one and assign to variables the numerical valus you use in question 2, and use them to get 85.75 and print is.\n",
        "\n",
        "For example: \n",
        "   \n",
        "instead:\n",
        "\n",
        "<code>print(4\\*5+3)</code>\n",
        "\n",
        "write:\n",
        "\n",
        "<code>a = 4</code>\n",
        "\n",
        "<code>b = 5</code>\n",
        "\n",
        "<code>c = 3</code>\n",
        "\n",
        "<code>d = a*b+c</code>\n",
        "\n",
        "<code>print(d)</code>\n",
        "\n"
      ]
    },
    {
      "cell_type": "code",
      "execution_count": 16,
      "metadata": {},
      "outputs": [
        {
          "name": "stdout",
          "output_type": "stream",
          "text": [
            "85.75\n"
          ]
        }
      ],
      "source": [
        "# Assigning the numerical values to variables\n",
        "a = 100\n",
        "b = 20\n",
        "c = 1.5\n",
        "d = 2\n",
        "e = 25.75\n",
        "\n",
        "# Using variables to calculate the result\n",
        "f = (a - b) * c / d + e\n",
        "\n",
        "# Printing the result\n",
        "print(f)  # Output: 85.75"
      ]
    },
    {
      "cell_type": "markdown",
      "metadata": {
        "deletable": false,
        "editable": false,
        "id": "cvCPijNcfCj2"
      },
      "source": [
        "### question 4\n",
        "assign to `a` an integer and to `b` a floa. Then write:\n",
        "```python\n",
        "print(type(a))\n",
        "print(type(b))\n",
        "```\n",
        "what did you get?"
      ]
    },
    {
      "cell_type": "code",
      "execution_count": null,
      "metadata": {
        "deletable": false,
        "id": "N-qxiuGNfCj2"
      },
      "outputs": [],
      "source": [
        "# Write your answer here"
      ]
    },
    {
      "cell_type": "markdown",
      "metadata": {
        "deletable": false,
        "editable": false,
        "id": "SSJX57yjfCj4"
      },
      "source": [
        "### question 5\n",
        "assign to `c` the number 7.548796521. Use the function `round()` and explain what the function did to the variable `c`. store the answer in the variable 'd'.\n",
        "\n",
        "Print the type of the new variable 'd'.\n",
        "\n",
        "for explain what `round()` did open new text cell below this one and write your explanation.\n"
      ]
    },
    {
      "cell_type": "code",
      "execution_count": null,
      "metadata": {
        "deletable": false,
        "id": "1T1duxUwfCj5"
      },
      "outputs": [],
      "source": [
        "# Write your answer here"
      ]
    },
    {
      "cell_type": "markdown",
      "metadata": {
        "deletable": false,
        "editable": false,
        "id": "Yg1LO78-fCj6"
      },
      "source": [
        "### question 6\n",
        "Assign to a the word 'hello'\n",
        "\n",
        "   Type the next lines( each line in a new cell!!!!)\n",
        "    \n",
        "    a[0]\n",
        "    \n",
        "    a[1]\n",
        "    \n",
        "    a[2]\n",
        "    \n",
        "    a[3]\n",
        "    \n",
        "    a[4]\n",
        "    \n",
        "    a[5] --> Explain what happen in a text cell after the error!!\n",
        "    \n",
        "    a[-1] --> explain what happen."
      ]
    },
    {
      "cell_type": "markdown",
      "metadata": {
        "deletable": false,
        "editable": false,
        "id": "JQ9dCK60fCj6"
      },
      "source": [
        "### question 7\n",
        "Now, after figuring how to call each letter, lets see if caught it.\n",
        "\n",
        "Enter the word 'mississippi' to new variable and print all the 's' in the word by accessing their index on both sides!"
      ]
    },
    {
      "cell_type": "code",
      "execution_count": null,
      "metadata": {
        "deletable": false,
        "id": "-w1gkwvbfCj7"
      },
      "outputs": [],
      "source": [
        "# Write your answer here"
      ]
    },
    {
      "cell_type": "markdown",
      "metadata": {
        "deletable": false,
        "editable": false,
        "id": "nsDo5zWAfCj7"
      },
      "source": [
        "### question 8.1   \n",
        "assign to `a` the string **`it is a beatiful day`** using `\"\"`. print `a`."
      ]
    },
    {
      "cell_type": "code",
      "execution_count": null,
      "metadata": {
        "deletable": false,
        "id": "VVX6fVnMfCj7"
      },
      "outputs": [],
      "source": [
        "# Write your answer here"
      ]
    },
    {
      "cell_type": "markdown",
      "metadata": {
        "deletable": false,
        "editable": false,
        "id": "9K148X0SfCj8"
      },
      "source": [
        "### question 8.2\n",
        "\n",
        "assign to `b` the string **`it's a beatiful day`** using `\"\"`. print `b`.\n",
        "\n",
        "If you are getting an error explain in new text cell why."
      ]
    },
    {
      "cell_type": "code",
      "execution_count": null,
      "metadata": {
        "deletable": false,
        "id": "VBbj8IZ_fCj8"
      },
      "outputs": [],
      "source": [
        "# Write your answer here"
      ]
    },
    {
      "cell_type": "markdown",
      "metadata": {
        "deletable": false,
        "editable": false,
        "id": "MkXtQ1KSfCj8"
      },
      "source": [
        "### question 8.3\n",
        "\n",
        "assign to `c` the sring **`it's a beatiful day`** using `''`. print `c`.\n",
        "\n",
        "If you are getting an error explain in new text cell why."
      ]
    },
    {
      "cell_type": "code",
      "execution_count": null,
      "metadata": {
        "deletable": false,
        "id": "ArtVarVwfCj9"
      },
      "outputs": [],
      "source": [
        "# Write your answer here"
      ]
    },
    {
      "cell_type": "markdown",
      "metadata": {
        "deletable": false,
        "editable": false,
        "id": "i1qMVcFzfCj-"
      },
      "source": [
        "### question 9.1\n",
        "print a sentence which tells how old are you.\n",
        "'i am ? years old'"
      ]
    },
    {
      "cell_type": "code",
      "execution_count": null,
      "metadata": {
        "deletable": false,
        "id": "fJcNGnKkfCj-"
      },
      "outputs": [],
      "source": [
        "# Write your answer here"
      ]
    },
    {
      "cell_type": "markdown",
      "metadata": {
        "deletable": false,
        "editable": false,
        "id": "lSDvtgf7fCj-"
      },
      "source": [
        "### question 9.2\n",
        "\n",
        "Now store to variable `age` your age in type of int.\n",
        "\n",
        "for example: `age = 16` → type(age) is integer.\n",
        "\n",
        "try to print how old are you, and use format for insert age variable to the string."
      ]
    },
    {
      "cell_type": "code",
      "execution_count": null,
      "metadata": {
        "deletable": false,
        "id": "syhVybO2fCj_"
      },
      "outputs": [],
      "source": [
        "# Write your answer here"
      ]
    },
    {
      "cell_type": "markdown",
      "metadata": {
        "deletable": false,
        "editable": false,
        "id": "d5BMqNQGfCkB"
      },
      "source": [
        "### question 10.1\n",
        "run the next code cell and in the followed cell write a code that print the next values:\n",
        "\n",
        "1. `sentence`\n",
        "2. `mylist`\n",
        "3. the type of `mylist`"
      ]
    },
    {
      "cell_type": "code",
      "execution_count": null,
      "metadata": {
        "deletable": false,
        "editable": false,
        "id": "EYzeEzt_fCkB"
      },
      "outputs": [],
      "source": [
        "sentence = 'Hi everybode and wellcome for today lecture'\n",
        "mylist = sentence.split(' ')"
      ]
    },
    {
      "cell_type": "code",
      "execution_count": null,
      "metadata": {
        "deletable": false,
        "id": "uIHpaDBffCkB"
      },
      "outputs": [],
      "source": [
        "# Write your answer here"
      ]
    },
    {
      "cell_type": "markdown",
      "metadata": {
        "deletable": false,
        "editable": false,
        "id": "v-qmosYmfCkC"
      },
      "source": [
        "### question 10.2\n",
        "The next code cell creating a list combined from several data types, run it.\n",
        "\n",
        "Change the last value of `mylist` to a string value and then print `mylist` (by index and casting function)"
      ]
    },
    {
      "cell_type": "code",
      "execution_count": null,
      "metadata": {
        "deletable": false,
        "editable": false,
        "id": "4teGeGU7fCkC"
      },
      "outputs": [],
      "source": [
        "mylist = [25, 'Hello', 22.5]\n",
        "print(mylist)"
      ]
    },
    {
      "cell_type": "code",
      "execution_count": null,
      "metadata": {
        "deletable": false,
        "id": "PH5jFqVmfCkC"
      },
      "outputs": [],
      "source": [
        "# Write your answer here"
      ]
    },
    {
      "cell_type": "markdown",
      "metadata": {
        "deletable": false,
        "editable": false,
        "id": "wDXb8gvzfCkD"
      },
      "source": [
        "### question 11\n",
        "create the next list and use <code>.pop()</code> to eleminate the number 30 in this list. \n",
        "\n",
        "<code>mylist = [10,20,30,40,50,60]</code>\n",
        "\n",
        "after using <code>.pop</code> print the list. \n"
      ]
    },
    {
      "cell_type": "code",
      "execution_count": null,
      "metadata": {
        "deletable": false,
        "id": "67QZAeP5fCkD"
      },
      "outputs": [],
      "source": [
        "# Write your answer here"
      ]
    },
    {
      "cell_type": "markdown",
      "metadata": {
        "deletable": false,
        "editable": false,
        "id": "d7gjEsfdfCkD"
      },
      "source": [
        "### question 12\n",
        "run the next cell and fix all the errors in it."
      ]
    },
    {
      "cell_type": "code",
      "execution_count": null,
      "metadata": {
        "deletable": false,
        "editable": false,
        "id": "t4OdKqfafCkD"
      },
      "outputs": [],
      "source": [
        "# the code need to print the last value of the my_newlist\n",
        "sentence = 'Lecture 1 Lecture 2 Lecture 3 Lecture 4'\n",
        "my_newlist = sntence.split(' ')\n",
        "location = len(my_newlist)\n",
        "lastvalue = my_newlist.pop(location)\n",
        "pritn(lastvalue)"
      ]
    },
    {
      "cell_type": "markdown",
      "metadata": {
        "deletable": false,
        "editable": false,
        "id": "5ZABS3KhfCkD"
      },
      "source": [
        "\n",
        "### question 13\n",
        "insert the next code <code>new_list = ['P','y','t','h','o','n']</code> to the cell below and use the next methods on new_list\n",
        ":\n",
        "\n",
        "    1) .reverse()\n",
        "    2) .sort()\n",
        "print the objects you get and explain in the text cell about the methods."
      ]
    },
    {
      "cell_type": "code",
      "execution_count": null,
      "metadata": {
        "deletable": false,
        "id": "V1nPoIeffCkD"
      },
      "outputs": [],
      "source": [
        "# Write your answer here"
      ]
    },
    {
      "cell_type": "markdown",
      "metadata": {
        "deletable": false,
        "id": "cEKmy19XfCkE"
      },
      "source": [
        "### Write your explain here\n",
        "\n",
        "1. .reverse:  \n",
        "2. .sort:"
      ]
    },
    {
      "cell_type": "markdown",
      "metadata": {
        "deletable": false,
        "editable": false,
        "id": "kli4MAgsfCkF"
      },
      "source": [
        "### question 15\n",
        "insert the list - <code>[[1,2,3],[4,[5,6,7]],[[8,9,10],11,12]]</code> to new variable named <code>list_number</code>: \n",
        "\n",
        "print the sublist <code>[5,6,7]</code> by going to the location of the list_number: "
      ]
    },
    {
      "cell_type": "code",
      "execution_count": null,
      "metadata": {
        "deletable": false,
        "id": "zzuViCOsfCkG"
      },
      "outputs": [],
      "source": [
        "# Write your answer here"
      ]
    },
    {
      "cell_type": "markdown",
      "metadata": {
        "deletable": false,
        "editable": false,
        "id": "clnJZ-RhfCkG"
      },
      "source": [
        "# Practice using functions\n",
        "\n",
        "In the following questions, **replace** the word 'pass' with your code in order for the function to perform its purpose."
      ]
    },
    {
      "cell_type": "markdown",
      "metadata": {
        "deletable": false,
        "editable": false,
        "id": "dqkjHMIEfCkG"
      },
      "source": [
        "### question 16\n",
        "Define a function <code>MaxOfThree()</code> that takes three numbers as arguments and returns the largest of them (Use <code>if</code>, <code>elif</code> and <code>else</code>). For example, <code>MaxOfThree(1,  2,  3)</code> should return 3."
      ]
    },
    {
      "cell_type": "code",
      "execution_count": null,
      "metadata": {
        "deletable": false,
        "id": "3UcMcRKJfCkG"
      },
      "outputs": [],
      "source": [
        "def MaxOfThree(n1, n2, n3):\n",
        "    pass"
      ]
    },
    {
      "cell_type": "code",
      "execution_count": null,
      "metadata": {
        "deletable": false,
        "editable": false,
        "id": "QCazc_C-fCkG"
      },
      "outputs": [],
      "source": [
        "print(MaxOfThree(1,  2,  3))"
      ]
    },
    {
      "cell_type": "markdown",
      "metadata": {
        "deletable": false,
        "editable": false,
        "id": "dVOXvHs_fCkH"
      },
      "source": [
        "### question 17\n",
        "Define a function <code>MySum()</code> and a function <code>MyMultiply()</code> that sums and multiplies (respectively) all the numbers in a list of numbers (Use <code>for</code>). For example, s <code>MySum([1, 2, 3, 4])</code> should return 10, and <code>MyMultiply([1, 2, 3, 4])</code> should return 24."
      ]
    },
    {
      "cell_type": "code",
      "execution_count": null,
      "metadata": {
        "deletable": false,
        "id": "QDhXSqNwfCkH"
      },
      "outputs": [],
      "source": [
        "def MySum(inputList):\n",
        "    pass"
      ]
    },
    {
      "cell_type": "code",
      "execution_count": null,
      "metadata": {
        "deletable": false,
        "editable": false,
        "id": "jTK7xy3jfCkH"
      },
      "outputs": [],
      "source": [
        "print(MySum([1, 2, 3, 4]))"
      ]
    },
    {
      "cell_type": "code",
      "execution_count": null,
      "metadata": {
        "deletable": false,
        "id": "uy_S03TMfCkH"
      },
      "outputs": [],
      "source": [
        "def MyMultiply(inputList):\n",
        "    pass"
      ]
    },
    {
      "cell_type": "code",
      "execution_count": null,
      "metadata": {
        "deletable": false,
        "editable": false,
        "id": "tvl-QGVvfCkH"
      },
      "outputs": [],
      "source": [
        "print(MyMultiply([1, 2, 3, 4]))"
      ]
    },
    {
      "cell_type": "markdown",
      "metadata": {
        "deletable": false,
        "editable": false,
        "id": "h8N1o09DfCkI"
      },
      "source": [
        "### question 18\n",
        "Define a function <code>MyStars()</code> that takes a list of integers and prints a string of stars which has the length of a value of an integer to the screen. For example, <code>MyStars([3, 9, 7])</code> should print the following:\n",
        "\n",
        "\\*\\*\\*\n",
        "\n",
        "\\*\\*\\*\\*\\*\\*\\*\\*\\*\n",
        "\n",
        "\\*\\*\\*\\*\\*\\*\\*"
      ]
    },
    {
      "cell_type": "code",
      "execution_count": null,
      "metadata": {
        "deletable": false,
        "id": "vO_2qYNEfCkI"
      },
      "outputs": [],
      "source": [
        "def MyStars(inputList):\n",
        "    pass"
      ]
    },
    {
      "cell_type": "code",
      "execution_count": null,
      "metadata": {
        "deletable": false,
        "editable": false,
        "id": "ENlSo3J8fCkI"
      },
      "outputs": [],
      "source": [
        "MyStars([3, 9, 7])"
      ]
    }
  ],
  "metadata": {
    "colab": {
      "provenance": []
    },
    "kernelspec": {
      "display_name": "Python 3",
      "language": "python",
      "name": "python3"
    },
    "language_info": {
      "codemirror_mode": {
        "name": "ipython",
        "version": 3
      },
      "file_extension": ".py",
      "mimetype": "text/x-python",
      "name": "python",
      "nbconvert_exporter": "python",
      "pygments_lexer": "ipython3",
      "version": "3.12.6"
    }
  },
  "nbformat": 4,
  "nbformat_minor": 0
}
