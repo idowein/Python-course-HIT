{
  "nbformat": 4,
  "nbformat_minor": 0,
  "metadata": {
    "colab": {
      "provenance": [],
      "toc_visible": true
    },
    "kernelspec": {
      "name": "python3",
      "display_name": "Python 3"
    },
    "language_info": {
      "name": "python"
    }
  },
  "cells": [
    {
      "cell_type": "markdown",
      "source": [
        "## function as argument"
      ],
      "metadata": {
        "id": "cvuJa3KFahnu"
      }
    },
    {
      "cell_type": "code",
      "source": [
        "def multy(arg1, arg2):\n",
        "    return arg1(arg2)\n",
        "    # print(type(arg1))\n",
        "    # print(type(arg2))\n",
        "\n",
        "\n",
        "\n",
        "multy(input, '65')"
      ],
      "metadata": {
        "colab": {
          "base_uri": "https://localhost:8080/",
          "height": 53
        },
        "id": "jaK7diJ3OVvt",
        "outputId": "6f64d86c-8f1a-419b-cf30-400f3ea24a37"
      },
      "execution_count": null,
      "outputs": [
        {
          "name": "stdout",
          "output_type": "stream",
          "text": [
            "6589\n"
          ]
        },
        {
          "output_type": "execute_result",
          "data": {
            "text/plain": [
              "'89'"
            ],
            "application/vnd.google.colaboratory.intrinsic+json": {
              "type": "string"
            }
          },
          "metadata": {},
          "execution_count": 17
        }
      ]
    },
    {
      "cell_type": "code",
      "source": [
        "# a = 5 תכניס למשתנה את חמש MATLAB\n",
        "# a = 5 תקרא לחמש בשם המשתנה Python\n",
        "a = 5\n",
        "b = a\n",
        "\n",
        "\n",
        "def multy(arg1, arg2):\n",
        "    return arg1(arg2)\n",
        "\n",
        "\n",
        "a = multy(round, 6.3)\n",
        "\n"
      ],
      "metadata": {
        "colab": {
          "base_uri": "https://localhost:8080/"
        },
        "id": "ZUUIvWGxXazW",
        "outputId": "76f49cb8-8b04-4bc6-c47e-d84cb8eab6bc"
      },
      "execution_count": null,
      "outputs": [
        {
          "output_type": "stream",
          "name": "stdout",
          "text": [
            "<class 'builtin_function_or_method'>\n",
            "<class 'builtin_function_or_method'>\n",
            "<class 'method'>\n"
          ]
        }
      ]
    },
    {
      "cell_type": "markdown",
      "source": [
        "## help\n",
        "\n",
        "Python help() function is used to get the documentation of specified module, class, function, variables etc.\n",
        "\n",
        "```python\n",
        "help(round)\n",
        "```\n",
        "```\n",
        "Help on built-in function round in module builtins:\n",
        "\n",
        "round(number, ndigits=None)\n",
        "    Round a number to a given precision in decimal digits.\n",
        "    \n",
        "    The return value is an integer if ndigits is omitted or None.  Otherwise\n",
        "    the return value has the same type as the number.  ndigits may be negative.\n",
        "```"
      ],
      "metadata": {
        "id": "UCkCEYMptfbW"
      }
    },
    {
      "cell_type": "code",
      "source": [
        "print(round(5.33))\n",
        "print(round(5.93))\n",
        "print(round(5.93, 1))"
      ],
      "metadata": {
        "colab": {
          "base_uri": "https://localhost:8080/"
        },
        "id": "XyIGOCSjRdZX",
        "outputId": "fae4cef1-6344-4bc0-ca75-b456b20cfd72"
      },
      "execution_count": null,
      "outputs": [
        {
          "output_type": "stream",
          "name": "stdout",
          "text": [
            "5\n",
            "6\n",
            "5.9\n"
          ]
        }
      ]
    }
  ]
}