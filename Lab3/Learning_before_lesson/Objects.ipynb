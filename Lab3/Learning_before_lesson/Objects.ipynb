{
  "nbformat": 4,
  "nbformat_minor": 0,
  "metadata": {
    "colab": {
      "provenance": [],
      "toc_visible": true
    },
    "kernelspec": {
      "name": "python3",
      "display_name": "Python 3"
    },
    "language_info": {
      "name": "python"
    }
  },
  "cells": [
    {
      "cell_type": "markdown",
      "source": [
        "## Objects\n",
        "\n",
        "Almost every value in Python is an object that belongs to a particular class.\n",
        "\n",
        "The `object` 7 belongs to the **integer** `class`\n",
        "\n",
        "The `object` \"Hello\" belongs to the **string** `class`\n",
        "\n",
        "* An `object` is a single item from a `class`\n",
        "\n",
        "Each object contains **methods** and **properties**\n",
        "\n",
        "Each class has its own methods and properties.\n",
        "\n",
        "For example,\n",
        "1. The string class (`str`) has the methods, `join`, `replace`, `split`, etc.\n",
        "\n",
        "2. The `list` class has the methods, `append`, `count`, `clear`, etc."
      ],
      "metadata": {
        "id": "Iwk3-IlcN_oF"
      }
    },
    {
      "cell_type": "markdown",
      "source": [
        "### Methods\n",
        "\n",
        "Methods perform specific actions on an object and can also take arguments, just like a function.\n",
        "\n",
        "Methods are in the form:\n",
        "```\n",
        "object.method(arg1, arg2, etc...)\n",
        "```\n",
        "\n",
        "We can think of methods as having a 'self' argument that refers to the object itself. It can see this argument but we don't need to pass it.\n",
        "```python\n",
        "self = object\n",
        "method(self, arg1, arg2, etc...)\n",
        "```\n",
        "\n",
        "Example:\n",
        "```python\n",
        "name = 'yakir'\n",
        "new_name = name.upper()\n",
        "# new_name -> 'YAKIR'\n",
        "```\n"
      ],
      "metadata": {
        "id": "A3EsaOh0OCTk"
      }
    },
    {
      "cell_type": "code",
      "source": [
        "def Func_Name(name:list):\n",
        "    print(name.__class__)\n",
        "    # The __class__ property is common to all classes,\n",
        "    # it always returns the class to which the object belongs.\n",
        "\n",
        "Func_Name(5)\n",
        "\n",
        "Func_Name(5.5)"
      ],
      "metadata": {
        "colab": {
          "base_uri": "https://localhost:8080/"
        },
        "id": "IuOjSDjKrbrY",
        "outputId": "4aaf4447-144d-42b6-8c1f-4965157faca6"
      },
      "execution_count": null,
      "outputs": [
        {
          "output_type": "stream",
          "name": "stdout",
          "text": [
            "<class 'int'>\n",
            "<class 'float'>\n"
          ]
        }
      ]
    },
    {
      "cell_type": "markdown",
      "source": [
        "## function as argument"
      ],
      "metadata": {
        "id": "cvuJa3KFahnu"
      }
    },
    {
      "cell_type": "code",
      "source": [
        "def multy(arg1, arg2):\n",
        "    return arg1(arg2)\n",
        "    # print(type(arg1))\n",
        "    # print(type(arg2))\n",
        "\n",
        "\n",
        "\n",
        "multy(input, '65')"
      ],
      "metadata": {
        "colab": {
          "base_uri": "https://localhost:8080/",
          "height": 53
        },
        "id": "jaK7diJ3OVvt",
        "outputId": "6f64d86c-8f1a-419b-cf30-400f3ea24a37"
      },
      "execution_count": null,
      "outputs": [
        {
          "name": "stdout",
          "output_type": "stream",
          "text": [
            "6589\n"
          ]
        },
        {
          "output_type": "execute_result",
          "data": {
            "text/plain": [
              "'89'"
            ],
            "application/vnd.google.colaboratory.intrinsic+json": {
              "type": "string"
            }
          },
          "metadata": {},
          "execution_count": 17
        }
      ]
    },
    {
      "cell_type": "code",
      "source": [
        "# a = 5 תכניס למשתנה את חמש MATLAB\n",
        "# a = 5 תקרא לחמש בשם המשתנה Python\n",
        "a = 5\n",
        "b = a\n",
        "\n",
        "\n",
        "def multy(arg1, arg2):\n",
        "    return arg1(arg2)\n",
        "\n",
        "\n",
        "a = multy(round, 6.3)\n",
        "\n"
      ],
      "metadata": {
        "colab": {
          "base_uri": "https://localhost:8080/"
        },
        "id": "ZUUIvWGxXazW",
        "outputId": "76f49cb8-8b04-4bc6-c47e-d84cb8eab6bc"
      },
      "execution_count": null,
      "outputs": [
        {
          "output_type": "stream",
          "name": "stdout",
          "text": [
            "<class 'builtin_function_or_method'>\n",
            "<class 'builtin_function_or_method'>\n",
            "<class 'method'>\n"
          ]
        }
      ]
    }
  ]
}