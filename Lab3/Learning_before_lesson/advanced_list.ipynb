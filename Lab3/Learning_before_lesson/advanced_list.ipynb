{
  "nbformat": 4,
  "nbformat_minor": 0,
  "metadata": {
    "colab": {
      "provenance": [],
      "toc_visible": true
    },
    "kernelspec": {
      "name": "python3",
      "display_name": "Python 3"
    },
    "language_info": {
      "name": "python"
    }
  },
  "cells": [
    {
      "cell_type": "markdown",
      "source": [
        "## advanced list\n",
        "\n",
        "* list is `mutable` meaning string **editable**.\n",
        "\n",
        "* list1 + list2 is concatenate operation.\n",
        "\n",
        "* list1 * int is doublicat operation."
      ],
      "metadata": {
        "id": "MUjZTf9E2eTN"
      }
    },
    {
      "cell_type": "code",
      "source": [
        "a = [0, 1, 2]\n",
        "b = [4, 5, 6]\n",
        "c = a + [3] + b\n",
        "\n",
        "print(c)"
      ],
      "metadata": {
        "colab": {
          "base_uri": "https://localhost:8080/"
        },
        "id": "LzgW2Cq-2htn",
        "outputId": "269344b0-7ab4-4e28-b7c1-888b92df8558"
      },
      "execution_count": null,
      "outputs": [
        {
          "output_type": "stream",
          "name": "stdout",
          "text": [
            "[0, 1, 2, 3, 4, 5, 6]\n"
          ]
        }
      ]
    },
    {
      "cell_type": "code",
      "source": [
        "a = [0, 1]\n",
        "b = [4, a]\n",
        "\n",
        "c = b*2 #[4, a, 4, a]\n",
        "print(c)\n",
        "\n",
        "c[1][0] = 10\n",
        "# a[1] = 10\n",
        "print(a)"
      ],
      "metadata": {
        "colab": {
          "base_uri": "https://localhost:8080/"
        },
        "id": "LJ1yBkcI3En8",
        "outputId": "c5e9a45c-e9da-417e-c1ec-cec03207584c"
      },
      "execution_count": null,
      "outputs": [
        {
          "output_type": "stream",
          "name": "stdout",
          "text": [
            "[4, [0, 1], 4, [0, 1]]\n",
            "[10, 1]\n"
          ]
        }
      ]
    },
    {
      "cell_type": "markdown",
      "source": [
        "### List Methods\n",
        "\n",
        "* `append`: Adds an element at the end of the list.\n",
        "* `clear`: Removes all the elements from the list.\n",
        "* `copy`:\tReturns a copy of the list.\n",
        "* `count`: Returns the number of elements with the specified value.\n",
        "* `extend`: Add the elements of a list (or any iterable), to the end of the current list.\n",
        "* `index`: Returns the index of the first element with the specified value.\n",
        "* `insert`: Adds an element at the specified position.\n",
        "* `pop`: Removes the element at the specified position.\n",
        "* `remove`: Removes the first item with the specified value.\n",
        "* `reverse`: Reverses the order of the list.\n",
        "* `sort`: Sorts the list."
      ],
      "metadata": {
        "id": "l3q17rl5Iyso"
      }
    },
    {
      "cell_type": "code",
      "source": [
        "a = [0, 1, 2]\n",
        "b = a.append(3)\n",
        "print(a)\n",
        "print('b is', b)\n",
        "\n",
        "a.append('abc')\n",
        "print(a)\n",
        "\n",
        "a.extend('abc')\n",
        "print(a)\n",
        "\n",
        "b = a.pop(-4)\n",
        "print(a)\n",
        "print(b)\n",
        "\n",
        "a.insert(-4, 'abc')\n",
        "print(a)"
      ],
      "metadata": {
        "colab": {
          "base_uri": "https://localhost:8080/"
        },
        "id": "NTPCfBJn3od_",
        "outputId": "cfd91ba7-bcb2-494f-bcb8-00d2a5406620"
      },
      "execution_count": null,
      "outputs": [
        {
          "output_type": "stream",
          "name": "stdout",
          "text": [
            "[0, 1, 2, 3]\n",
            "b is None\n",
            "[0, 1, 2, 3, 'abc']\n",
            "[0, 1, 2, 3, 'abc', 'a', 'b', 'c']\n",
            "[0, 1, 2, 3, 'a', 'b', 'c']\n",
            "abc\n",
            "[0, 1, 2, 'abc', 3, 'a', 'b', 'c']\n"
          ]
        }
      ]
    }
  ]
}