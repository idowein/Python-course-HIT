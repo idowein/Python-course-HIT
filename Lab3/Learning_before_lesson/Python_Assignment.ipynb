{
  "nbformat": 4,
  "nbformat_minor": 0,
  "metadata": {
    "colab": {
      "provenance": [],
      "toc_visible": true
    },
    "kernelspec": {
      "name": "python3",
      "display_name": "Python 3"
    },
    "language_info": {
      "name": "python"
    }
  },
  "cells": [
    {
      "cell_type": "markdown",
      "source": [
        "## Python Assignment\n",
        "\n",
        "`a = var` gives to `var` object the name `a`. The meaning of this is `a` is referens to `var` (`a` doesn't contain `var` as in other languages).\n",
        "\n",
        "```python\n",
        "a = var\n",
        "b = a\n",
        "```\n",
        "`var` have two names, `a` and `b`, both of them are referens to `var`"
      ],
      "metadata": {
        "id": "7deTZFEZISpc"
      }
    },
    {
      "cell_type": "code",
      "source": [
        "g1 = 5.3\n",
        "g2 = 5.3\n",
        "g3 = g2\n",
        "\n",
        "print('g1 is referens to', g1, 'his memory address', hex(id(g1)))\n",
        "print('g2 is referens to', g2, 'his memory address', hex(id(g2)))\n",
        "print('g3 is referens to', g3, 'his memory address', hex(id(g3)))"
      ],
      "metadata": {
        "colab": {
          "base_uri": "https://localhost:8080/"
        },
        "id": "rP2A3kS6Lw3z",
        "outputId": "5dcc5283-2fba-41fe-dcd1-bf8d3a9679e7"
      },
      "execution_count": null,
      "outputs": [
        {
          "output_type": "stream",
          "name": "stdout",
          "text": [
            "g1 is referens to 5.3 his memory address 0x7f5d18c63e50\n",
            "g2 is referens to 5.3 his memory address 0x7f5d17406a90\n",
            "g3 is referens to 5.3 his memory address 0x7f5d17406a90\n"
          ]
        }
      ]
    },
    {
      "cell_type": "markdown",
      "source": [
        "It is noticeable that G2 and G3 have the same address (unlike G1)"
      ],
      "metadata": {
        "id": "TYn0BA-AM78b"
      }
    },
    {
      "cell_type": "code",
      "source": [
        "print('g1 and g2 represent the same value, so g1 == g2 returns', g1 == g2)\n",
        "print('g1 and g3 represent the same value, so g1 == g3 returns', g1 == g3)\n",
        "print('g2 and g3 represent the same value, so g2 == g3 returns', g2 == g3)\n",
        "print('g1 and g2 aren\\'t the same object, so g1 is g2 returns', g1 is g2)\n",
        "print('g3 and g2 are the same object, so g3 is g2 returns', g3 is g2)"
      ],
      "metadata": {
        "colab": {
          "base_uri": "https://localhost:8080/"
        },
        "id": "6Y_YMQNzNopi",
        "outputId": "e0ea2472-571c-4318-9cfa-64370b7ed691"
      },
      "execution_count": null,
      "outputs": [
        {
          "output_type": "stream",
          "name": "stdout",
          "text": [
            "g1 and g2 represent the same value, so g1 == g2 returns True\n",
            "g1 and g3 represent the same value, so g1 == g3 returns True\n",
            "g2 and g3 represent the same value, so g2 == g3 returns True\n",
            "g1 and g2 aren't the same object, so g1 is g2 returns False\n",
            "g3 and g2 are the same object, so g3 is g2 returns True\n"
          ]
        }
      ]
    }
  ]
}