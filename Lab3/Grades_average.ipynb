{
 "cells": [
  {
   "cell_type": "code",
   "execution_count": null,
   "id": "ea5ab3ce",
   "metadata": {},
   "outputs": [],
   "source": [
    "# Readin grades\n",
    "# calc average and prints it.\n",
    "\n",
    "# 85, 78, 92, 'end' -> 85\n",
    "\n",
    "grades =[]\n",
    "\n",
    "grade = input(\"Enter grade or 'end' to finish\")\n",
    "\n",
    "while grade != 'end':\n",
    "    grades.append(int(grade))\n",
    "    grade = grade = input(\"Enter new grade or 'end' to finish\")\n",
    "\n",
    "if grades : # if the grades arr is filled\n",
    "    total = sum(grades)\n",
    "    length = len(grades)\n",
    "    mean_grade = total / length\n",
    "    print(f\"The average grade is : {mean_grade:.2f}\")\n",
    "else: \n",
    "    print(\"No grades were entered.\")"
   ]
  }
 ],
 "metadata": {
  "kernelspec": {
   "display_name": "Python 3",
   "language": "python",
   "name": "python3"
  },
  "language_info": {
   "codemirror_mode": {
    "name": "ipython",
    "version": 3
   },
   "file_extension": ".py",
   "mimetype": "text/x-python",
   "name": "python",
   "nbconvert_exporter": "python",
   "pygments_lexer": "ipython3",
   "version": "3.12.6"
  }
 },
 "nbformat": 4,
 "nbformat_minor": 5
}
