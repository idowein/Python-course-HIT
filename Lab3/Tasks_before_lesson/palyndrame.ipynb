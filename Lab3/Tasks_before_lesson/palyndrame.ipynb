{
 "cells": [
  {
   "cell_type": "code",
   "execution_count": null,
   "id": "422ba07d",
   "metadata": {},
   "outputs": [
    {
     "name": "stdout",
     "output_type": "stream",
     "text": [
      "the list is polindrome\n"
     ]
    }
   ],
   "source": [
    "arr = [\"hey\", \"welcome\", \"bye\", \"welcome\", \"hey\"]\n",
    "flag = True # assuming that the list is polindrame\n",
    "reverse_arr = arr[::-1] # reversing the list [from:to:steps]\n",
    "\n",
    "original_and_reversed = zip(arr, reverse_arr) #pair\n",
    "\n",
    "for left, right in original_and_reversed: \n",
    "    # left stands for the index in the arr list and right is the index in the reverse_list. that is according to the zip function\n",
    "    if left != right: \n",
    "        flag = False\n",
    "        break\n",
    "\n",
    "if flag: \n",
    "    print(f\"the list is polindrome\")\n",
    "else:\n",
    "    print(\"the list is not polindrome\")    \n",
    "\n"
   ]
  }
 ],
 "metadata": {
  "kernelspec": {
   "display_name": "Python 3",
   "language": "python",
   "name": "python3"
  },
  "language_info": {
   "codemirror_mode": {
    "name": "ipython",
    "version": 3
   },
   "file_extension": ".py",
   "mimetype": "text/x-python",
   "name": "python",
   "nbconvert_exporter": "python",
   "pygments_lexer": "ipython3",
   "version": "3.12.6"
  }
 },
 "nbformat": 4,
 "nbformat_minor": 5
}
