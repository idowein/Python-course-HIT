{
 "cells": [
  {
   "cell_type": "code",
   "execution_count": 5,
   "id": "c558010b",
   "metadata": {},
   "outputs": [
    {
     "name": "stdout",
     "output_type": "stream",
     "text": [
      "The list prime numbers up to 8 are: [2, 3, 5, 7]\n"
     ]
    }
   ],
   "source": [
    "def is_prime(num):\n",
    "    if num<2:\n",
    "        return 0\n",
    "    if num == 2:\n",
    "        return 1\n",
    "    for i in range(2,num):\n",
    "        if num%2 == 0:\n",
    "            return 0  \n",
    "    return 1\n",
    "\n",
    "num = int(input(\"Enter a number: \"))\n",
    "primes =[]\n",
    "\n",
    "for i in range(2,num):\n",
    "    if is_prime(i):\n",
    "        primes.append(i)\n",
    "\n",
    "print(f\"The list prime numbers up to {num} are: {primes}\")"
   ]
  }
 ],
 "metadata": {
  "kernelspec": {
   "display_name": "Python 3",
   "language": "python",
   "name": "python3"
  },
  "language_info": {
   "codemirror_mode": {
    "name": "ipython",
    "version": 3
   },
   "file_extension": ".py",
   "mimetype": "text/x-python",
   "name": "python",
   "nbconvert_exporter": "python",
   "pygments_lexer": "ipython3",
   "version": "3.12.6"
  }
 },
 "nbformat": 4,
 "nbformat_minor": 5
}
